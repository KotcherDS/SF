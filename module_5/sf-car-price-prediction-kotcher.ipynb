{
 "cells": [
  {
   "cell_type": "markdown",
   "metadata": {},
   "source": [
    "# Прогнозирование стоимости автомобиля по его характеристикам\n",
    "\n",
    "### Задачи:  \n",
    "1. Спарсить данные по автомобилям с сайта auto.ru  \n",
    "2. Подобрать и обучить модель по собранным данным для прогнозирования стоимости авто. Метрика MAPE.\n",
    "\n"
   ]
  },
  {
   "cell_type": "markdown",
   "metadata": {},
   "source": [
    "# 1. Tools"
   ]
  },
  {
   "cell_type": "code",
   "execution_count": null,
   "metadata": {},
   "outputs": [],
   "source": [
    "import seaborn as sns\n",
    "import ast\n",
    "import json\n",
    "import matplotlib.pyplot as plt\n",
    "import numpy as np\n",
    "import pandas as pd\n",
    "import sys\n",
    "from sklearn.linear_model import LinearRegression\n",
    "from sklearn.ensemble import RandomForestRegressor, BaggingRegressor, GradientBoostingRegressor\n",
    "from sklearn.model_selection import KFold, train_test_split\n",
    "from catboost import CatBoostRegressor\n",
    "from sklearn.tree import ExtraTreeRegressor\n",
    "from sklearn.preprocessing import LabelEncoder\n",
    "import re\n",
    "from sklearn.base import clone\n",
    "import datetime as dt\n",
    "from sklearn.feature_selection import f_classif  # проверить значимость переменных\n",
    "from itertools import combinations\n",
    "from scipy.stats import ttest_ind  # тест Стьюдента\n",
    "\n",
    "import warnings\n",
    "warnings.filterwarnings('ignore')\n",
    "\n",
    "%matplotlib inline\n",
    "\n",
    "\n",
    "# зафиксируем версию пакетов, чтобы эксперименты были воспроизводимы:\n",
    "!pip freeze > requirements.txt\n",
    "\n",
    "RANDOM_SEED = 42"
   ]
  },
  {
   "cell_type": "markdown",
   "metadata": {},
   "source": [
    "# 2. Data preparation"
   ]
  },
  {
   "cell_type": "code",
   "execution_count": null,
   "metadata": {},
   "outputs": [],
   "source": [
    "DATA_DIR = '../input/sf-dst-car-price-prediction/'\n",
    "df_train = pd.read_csv(\n",
    "    '../input/myparsingfile/parsing_all_moscow_auto_ru_25_11_20.csv')  # спарсил сам\n",
    "df_train_dop = pd.read_csv(\n",
    "    '../input/parsing-all-moscow-auto-ru-09-09-2020/all_auto_ru_09_09_2020.csv')  # дополнительный внешний\n",
    "df_test = pd.read_csv(DATA_DIR+'test.csv')  # тестовый для прогнозирования цен\n",
    "sample_submission = pd.read_csv(DATA_DIR+'sample_submission.csv')"
   ]
  },
  {
   "cell_type": "code",
   "execution_count": null,
   "metadata": {},
   "outputs": [],
   "source": [
    "df_test.info()"
   ]
  },
  {
   "cell_type": "markdown",
   "metadata": {},
   "source": [
    "Всего 34686 записей и 32 признака"
   ]
  },
  {
   "cell_type": "code",
   "execution_count": null,
   "metadata": {},
   "outputs": [],
   "source": [
    "df_test.head(3)"
   ]
  },
  {
   "cell_type": "code",
   "execution_count": null,
   "metadata": {},
   "outputs": [],
   "source": [
    "df_train.info()"
   ]
  },
  {
   "cell_type": "markdown",
   "metadata": {},
   "source": [
    "37 признаков"
   ]
  },
  {
   "cell_type": "markdown",
   "metadata": {},
   "source": [
    "Всего 66584 записей и 37 признаков"
   ]
  },
  {
   "cell_type": "code",
   "execution_count": null,
   "metadata": {},
   "outputs": [],
   "source": [
    "df_train.head(3)"
   ]
  },
  {
   "cell_type": "code",
   "execution_count": null,
   "metadata": {},
   "outputs": [],
   "source": [
    "df_train_dop.info()"
   ]
  },
  {
   "cell_type": "markdown",
   "metadata": {},
   "source": [
    "Всего 89378 записей и 26 признаков"
   ]
  },
  {
   "cell_type": "code",
   "execution_count": null,
   "metadata": {},
   "outputs": [],
   "source": [
    "df_train_dop.head(3)"
   ]
  },
  {
   "cell_type": "markdown",
   "metadata": {},
   "source": [
    "Необходимо:\n",
    "1. привести признаки color,vehicleTransmission,Руль к одним значениям  \n",
    "2. склеить df_train и df_train_dop, а также привести количество признаков полученного датасета data к количеству признаков df_test. \n",
    "3. привести строковые признаки к нижнему регистру \n",
    "4. удалить строки,где bodyType и price is None\n",
    "5. отобрать строки в data по значениям brand в df_test (уменьшить итоговый датасет train и увеличить точность модели)"
   ]
  },
  {
   "cell_type": "code",
   "execution_count": null,
   "metadata": {},
   "outputs": [],
   "source": [
    "df_train_temp = df_train[df_test.columns]\n",
    "df_train_temp['price'] = df_train['price']\n",
    "df_train = df_train_temp\n",
    "\n",
    "df_train_dop['model_name'] = df_train_dop['model']\n",
    "df_train_dop['complectation_dict'] = df_train_dop['Комплектация']\n",
    "df_train_dop.drop(['Комплектация', 'start_date', 'hidden',\n",
    "                   'model'], axis=1, inplace=True)\n",
    "\n",
    "df_train_dop['color'] = df_train_dop['color'].map({'CACECB': 'серебристый', 'FAFBFB': 'белый', 'EE1D19': 'красный', '97948F': 'серый',\n",
    "                                                   '660099': 'пурпурный', '040001': 'чёрный', '4A2197': 'фиолетовый',\n",
    "                                                   '200204': 'коричневый', '0000CC': 'синий', '007F00': 'зелёный', 'C49648': 'бежевый',\n",
    "                                                   '22A0F8': 'голубой', 'DEA522': 'золотистый', 'FFD600': 'жёлтый', 'FF8649': 'оранжевый',\n",
    "                                                   'FFC0CB': 'розовый'})\n",
    "\n",
    "df_train_dop['vehicleTransmission'] = df_train_dop['vehicleTransmission'].map(\n",
    "    {'AUTOMATIC': 'автоматическая', 'MECHANICAL': 'механическая', 'VARIATOR': 'вариатор', 'ROBOT': 'роботизированная'})\n",
    "df_train_dop['Руль'] = df_train_dop['Руль'].map(\n",
    "    {'LEFT': 'левый', 'RIGHT': 'правый'})\n",
    "\n",
    "for col in df_train.columns:\n",
    "    if col not in df_train_dop.columns:\n",
    "        df_train_dop[col] = None\n",
    "\n",
    "df_train = df_train.append(df_train_dop, sort=False).reset_index(drop=True)\n",
    "\n",
    "# для корректной обработки признаков объединяем трейн и тест в один датасет\n",
    "df_train['sample'] = 1  # помечаем где у нас трейн\n",
    "df_test['sample'] = 0  # помечаем где у нас тест\n",
    "df_test['price'] = 0\n",
    "\n",
    "data = df_test.append(df_train, sort=False).reset_index(\n",
    "    drop=True)  # объединяем\n",
    "\n",
    "data = data[~data.price.isnull()]  # убираем строки None для price\n",
    "data = data[~data.bodyType.isnull()]  # убираем лишние строки\n",
    "\n",
    "# привести все не числовые колонки к нижнем регистру(\n",
    "for col in data.select_dtypes(include='object').columns:\n",
    "    data[col][~data[col].isnull()] = data[col][~data[col].isnull()\n",
    "                                               ].apply(lambda x: str(x).lower())\n",
    "\n",
    "# фильтр по брендам\n",
    "brands = list(map(lambda x: str.lower(x), df_test.brand.value_counts().index))\n",
    "data = data[data['brand'].isin(brands)]"
   ]
  },
  {
   "cell_type": "markdown",
   "metadata": {},
   "source": [
    "# 3. Data cleaning, feature analysis and engineering"
   ]
  },
  {
   "cell_type": "code",
   "execution_count": null,
   "metadata": {},
   "outputs": [],
   "source": [
    "data.info()"
   ]
  },
  {
   "cell_type": "code",
   "execution_count": null,
   "metadata": {},
   "outputs": [],
   "source": [
    "data.select_dtypes(include=['float64']).columns"
   ]
  },
  {
   "cell_type": "code",
   "execution_count": null,
   "metadata": {},
   "outputs": [],
   "source": [
    "for col in data:\n",
    "    if len(data[data[col].isnull()]) > 0:\n",
    "        print(col, end=',')"
   ]
  },
  {
   "cell_type": "markdown",
   "metadata": {},
   "source": [
    "34 колонки , 122370 записей , пропуски в колонках  car_url,complectation_dict,description,equipment_dict,image,model_info,parsing_unixtime,priceCurrency,sell_id,super_gen,vendor,Владельцы,Владение,ПТС,Привод,Руль,Состояние,Таможня\n",
    "\n",
    "Числовые признаки:  'mileage', 'modelDate', 'numberOfDoors', 'productionDate', 'price'."
   ]
  },
  {
   "cell_type": "markdown",
   "metadata": {},
   "source": [
    "### Описание признаков:\n",
    "\n",
    "bodyType - тип кузова       \n",
    "brand - бренд      \n",
    "car_url - ссылка на авто     \n",
    "color - цвет авто   \n",
    "complectation_dict - описание комплектации    \n",
    "description - описание от продавца       \n",
    "engineDisplacement - объем двигателя в литрах  \n",
    "enginePower - мощность двигателя  \n",
    "equipment_dict - описание оборудования авто  \n",
    "fuelType - тип топлива   \n",
    "image - ссылка на фото авто   \n",
    "mileage - пробег автомобиля    \n",
    "modelDate - дата выпуска модели  \n",
    "model_info - информация об авто  \n",
    "model_name - модель авто  \n",
    "name - объем и мощность двигателя    \n",
    "numberOfDoors - кол-во дверей    \n",
    "parsing_unixtime - дата парсинга данных     \n",
    "priceCurrency - валюта продажи  \n",
    "productionDate - дата производства авто  \n",
    "sell_id - id объвления о продаже    \n",
    "super_gen - доп описание авто (клиренс,расход топлива, ценовой сегмент)  \n",
    "vehicleConfiguration - комбинация типа трансмиссии, объема двигателя и мощности двигателя    \n",
    "vehicleTransmission - тип трансмиссии (коробки передач)  \n",
    "vendor - продавец-производитель авто  \n",
    "Владельцы - кол-во владельцев  \n",
    "Владение - срок владения автомобилем в годах и месяцах     \n",
    "ПТС - тип ПТС    \n",
    "Привод - привод авто     \n",
    "Руль - руль авто    \n",
    "Состояние - необходимость проведения ремонта  \n",
    "Таможня - информация о том расстаможен автомобиль или нет   \n",
    "sample - признак train/test    \n",
    "price - цена, указанная в объявлении   \n"
   ]
  },
  {
   "cell_type": "markdown",
   "metadata": {},
   "source": [
    "Скопируем датасет, чтобы при необходимости можно было посмотреть данные исходного датасета.\n",
    "\n",
    "Создадим два списка для обработки категориальных признаков: разбивка на dummy и LabelEncoder"
   ]
  },
  {
   "cell_type": "code",
   "execution_count": null,
   "metadata": {},
   "outputs": [],
   "source": [
    "data_temp = data.copy()\n",
    "\n",
    "col_dum = []\n",
    "col_en = []"
   ]
  },
  {
   "cell_type": "markdown",
   "metadata": {},
   "source": [
    "### Функции"
   ]
  },
  {
   "cell_type": "code",
   "execution_count": null,
   "metadata": {},
   "outputs": [],
   "source": [
    "# Показать график по value_counts (если значений не более 20. Иначе выводить обычный value_counts)\n",
    "def show(col, vc_show=False, data_x=data_temp):\n",
    "    vc = data_x[col].value_counts(ascending=True)\n",
    "    if len(vc) <= 20:\n",
    "        vc.plot(kind='barh', title=col)\n",
    "    else:\n",
    "        print(data_x[col].value_counts())\n",
    "\n",
    "    if vc_show and len(vc) <= 20:\n",
    "        print(data_x[col].value_counts())\n",
    "\n",
    "# Показать распределение на графике для числовых признаков\n",
    "\n",
    "\n",
    "def show_distplot(col, data_x=data_temp):\n",
    "    plt.figure()\n",
    "    sns.distplot(data_x[col][data_x[col] > 0], kde=False, rug=False)\n",
    "    plt.title(col)\n",
    "    plt.show()\n",
    "\n",
    "# логарифмировать признак\n",
    "\n",
    "\n",
    "def log_f(col, data_x=data_temp):\n",
    "    data_x[col] = np.log(data_x[col] + 1)\n",
    "\n",
    "# Проверка на выбросы\n",
    "\n",
    "\n",
    "def show_outliers(column, data_x=data_temp):\n",
    "    col = data_x[column]\n",
    "    IQR = col.quantile(0.75) - col.quantile(0.25)\n",
    "    perc25 = col.quantile(0.25)\n",
    "    perc75 = col.quantile(0.75)\n",
    "\n",
    "    quan_low_outliers = len(data_x.query(f'{column} < {perc25 - 1.5*IQR}'))\n",
    "    quan_high_outliers = len(data_x.query(f'{column} > {perc75 + 1.5*IQR}'))\n",
    "\n",
    "    proc_low_outliers = round(quan_low_outliers/len(col) * 100, 2)\n",
    "    proc_high_outliers = round(quan_high_outliers/len(col) * 100, 2)\n",
    "\n",
    "    print('Колонка', column)\n",
    "    print(\n",
    "        f'Количество выбросов ниже нижней границы: {quan_low_outliers} ({proc_low_outliers}%)')\n",
    "    print(\n",
    "        f'Количество выбросов выше верхней границы: {quan_high_outliers} ({proc_high_outliers}%)')\n",
    "    print('\\n')\n",
    "\n",
    "# привести строку к формату ast или json\n",
    "\n",
    "\n",
    "def to_dict(row):\n",
    "    try:\n",
    "        row = ast.literal_eval(row)\n",
    "        return row\n",
    "    except:\n",
    "        try:\n",
    "            row = json.loads(row)\n",
    "            return row\n",
    "        except:\n",
    "            return row\n",
    "\n",
    "# получить значение (ast или json)\n",
    "\n",
    "\n",
    "def get_val(row, val_name, val_er):\n",
    "    try:\n",
    "        return row[val_name]\n",
    "    except:\n",
    "        return val_er"
   ]
  },
  {
   "cell_type": "markdown",
   "metadata": {},
   "source": [
    "### body_type"
   ]
  },
  {
   "cell_type": "code",
   "execution_count": null,
   "metadata": {},
   "outputs": [],
   "source": [
    "show(\"bodyType\")"
   ]
  },
  {
   "cell_type": "markdown",
   "metadata": {},
   "source": [
    "Больше всего продается внедорожников и седанов.\n",
    "\n",
    "Признак состоит из названия типа кузова и количества дверей. Количество дверей есть в другом признаке. Оставим только первую часть для группировки значений"
   ]
  },
  {
   "cell_type": "code",
   "execution_count": null,
   "metadata": {},
   "outputs": [],
   "source": [
    "data_temp['bodyType'] = data_temp['bodyType'].apply(\n",
    "    lambda x: str(x).split(' ')[0])"
   ]
  },
  {
   "cell_type": "code",
   "execution_count": null,
   "metadata": {},
   "outputs": [],
   "source": [
    "show(\"bodyType\")"
   ]
  },
  {
   "cell_type": "markdown",
   "metadata": {},
   "source": [
    "Склеим похожие значения.\n",
    "\n",
    "Добавим признак в dummy ,т.к. значений не так много."
   ]
  },
  {
   "cell_type": "code",
   "execution_count": null,
   "metadata": {},
   "outputs": [],
   "source": [
    "data_temp['bodyType'] = data_temp['bodyType'].apply(\n",
    "    lambda x: 'купе' if x == 'купе-хардтоп' else x)\n",
    "data_temp['bodyType'] = data_temp['bodyType'].apply(\n",
    "    lambda x: 'седан' if x == 'седан-хардтоп' else x)\n",
    "\n",
    "col_dum.append('bodyType')"
   ]
  },
  {
   "cell_type": "markdown",
   "metadata": {},
   "source": [
    "### brand"
   ]
  },
  {
   "cell_type": "code",
   "execution_count": null,
   "metadata": {},
   "outputs": [],
   "source": [
    "show(\"brand\")"
   ]
  },
  {
   "cell_type": "markdown",
   "metadata": {},
   "source": [
    "На рынке доминируют мерседесы.\n",
    "\n",
    "Добавим признак в dummy ,т.к. значений не так много."
   ]
  },
  {
   "cell_type": "code",
   "execution_count": null,
   "metadata": {},
   "outputs": [],
   "source": [
    "col_dum.append('brand')"
   ]
  },
  {
   "cell_type": "markdown",
   "metadata": {},
   "source": [
    "### car_url"
   ]
  },
  {
   "cell_type": "code",
   "execution_count": null,
   "metadata": {},
   "outputs": [],
   "source": [
    "show(\"car_url\")"
   ]
  },
  {
   "cell_type": "markdown",
   "metadata": {},
   "source": [
    "Вряд ли ссылки на авто на сайте auto.ru повлияют на обучение модели. Удалим признак."
   ]
  },
  {
   "cell_type": "code",
   "execution_count": null,
   "metadata": {},
   "outputs": [],
   "source": [
    "data_temp.drop('car_url', axis=1, inplace=True)"
   ]
  },
  {
   "cell_type": "markdown",
   "metadata": {},
   "source": [
    "### color"
   ]
  },
  {
   "cell_type": "code",
   "execution_count": null,
   "metadata": {},
   "outputs": [],
   "source": [
    "show(\"color\")"
   ]
  },
  {
   "cell_type": "markdown",
   "metadata": {},
   "source": [
    "Больше всего машин с черным цветом.Розовый не в почёте.\n",
    "\n",
    "Добавим признак в dummy ,т.к. значений не так много."
   ]
  },
  {
   "cell_type": "code",
   "execution_count": null,
   "metadata": {},
   "outputs": [],
   "source": [
    "col_dum.append('color')"
   ]
  },
  {
   "cell_type": "markdown",
   "metadata": {},
   "source": [
    "### complectation_dict"
   ]
  },
  {
   "cell_type": "code",
   "execution_count": null,
   "metadata": {},
   "outputs": [],
   "source": [
    "show(\"complectation_dict\")"
   ]
  },
  {
   "cell_type": "markdown",
   "metadata": {},
   "source": [
    "Заменим пропуски на минимальный размер описания комплектации"
   ]
  },
  {
   "cell_type": "code",
   "execution_count": null,
   "metadata": {},
   "outputs": [],
   "source": [
    "data_temp['complectation_dict'].fillna(\"{'id': '0'}\", inplace=True)"
   ]
  },
  {
   "cell_type": "markdown",
   "metadata": {},
   "source": [
    "Попробуем привести описание комплектации к его размеру. Проверим на значении метрики"
   ]
  },
  {
   "cell_type": "code",
   "execution_count": null,
   "metadata": {},
   "outputs": [],
   "source": [
    "data_temp['complectation_dict'] = data_temp['complectation_dict'].apply(\n",
    "    lambda x: len(x))"
   ]
  },
  {
   "cell_type": "markdown",
   "metadata": {},
   "source": [
    "### description"
   ]
  },
  {
   "cell_type": "code",
   "execution_count": null,
   "metadata": {},
   "outputs": [],
   "source": [
    "show(\"description\")"
   ]
  },
  {
   "cell_type": "markdown",
   "metadata": {},
   "source": [
    "Заменим пропуски на пустую строку"
   ]
  },
  {
   "cell_type": "code",
   "execution_count": null,
   "metadata": {},
   "outputs": [],
   "source": [
    "data_temp['description'].fillna('[]', inplace=True)"
   ]
  },
  {
   "cell_type": "markdown",
   "metadata": {},
   "source": [
    "Выведем новые признаки"
   ]
  },
  {
   "cell_type": "code",
   "execution_count": null,
   "metadata": {},
   "outputs": [],
   "source": [
    "data_temp['description_word'] = data_temp['description'].apply(\n",
    "    lambda x: [i for i in x.split()])\n",
    "\n",
    "data_temp['salon'] = data_temp['description_word'].apply(lambda x:\n",
    "                                                         1 if ('рольф' or 'панавто' or 'дилер' or 'кредит' or 'обмен' or 'скид' or 'trade-in' or 'выгода' or 'работаем для вас' or 'автосалон' or 'ликвидация') in x else 0)\n",
    "data_temp['torg'] = data_temp['description_word'].apply(lambda x:\n",
    "                                                        1 if ('торг') in x else 0)\n",
    "data_temp['leather'] = data_temp['description_word'].apply(lambda x:\n",
    "                                                           1 if ('темный' and 'салон') in x else 0)\n",
    "data_temp['carter'] = data_temp['description_word'].apply(lambda x:\n",
    "                                                          1 if ('защита' and 'картера') in x else 0)\n",
    "data_temp['ABS'] = data_temp['description_word'].apply(lambda x:\n",
    "                                                       1 if ('антиблокировочная' and 'система') in x else 0)\n",
    "data_temp['airbags'] = data_temp['description_word'].apply(lambda x:\n",
    "                                                           1 if ('подушки' and 'безопасности') in x else 0)\n",
    "data_temp['immob'] = data_temp['description_word'].apply(lambda x:\n",
    "                                                         1 if ('иммобилайзер') in x else 0)\n",
    "data_temp['central_locking'] = data_temp['description_word'].apply(lambda x:\n",
    "                                                                   1 if ('центральный' and 'замок') in x else 0)\n",
    "data_temp['on_board_computer'] = data_temp['description_word'].apply(lambda x:\n",
    "                                                                     1 if ('бортовой' and 'компьютер') in x else 0)\n",
    "data_temp['cruise_control'] = data_temp['description_word'].apply(lambda x:\n",
    "                                                                  1 if ('круиз-контроль') in x else 0)\n",
    "data_temp['climat_control'] = data_temp['description_word'].apply(lambda x:\n",
    "                                                                  1 if ('климат-контроль') in x else 0)\n",
    "data_temp['multi_rudder'] = data_temp['description_word'].apply(lambda x:\n",
    "                                                                1 if ('мультифункциональный' and 'руль') in x else 0)\n",
    "data_temp['power_steering'] = data_temp['description_word'].apply(lambda x:\n",
    "                                                                  1 if ('гидроусилитель' or 'гидро' or 'усилитель' and 'руля') in x else 0)\n",
    "data_temp['light_and_rain_sensors'] = data_temp['description_word'].apply(lambda x:\n",
    "                                                                          1 if ('датчики' and 'света' and 'дождя') in x else 0)\n",
    "data_temp['сarbon_body_kits'] = data_temp['description_word'].apply(lambda x:\n",
    "                                                                    1 if ('карбоновые' and 'обвесы') in x else 0)\n",
    "data_temp['rear_diffuser_rkp'] = data_temp['description_word'].apply(lambda x:\n",
    "                                                                     1 if ('задний' and 'диффузор') in x else 0)\n",
    "data_temp['door_closers'] = data_temp['description_word'].apply(lambda x:\n",
    "                                                                1 if ('доводчики' and 'дверей') in x else 0)\n",
    "data_temp['rear_view_camera'] = data_temp['description_word'].apply(lambda x:\n",
    "                                                                    1 if ('камера' or 'видеокамера' and 'заднего' and 'вида') in x else 0)\n",
    "data_temp['amg'] = data_temp['description_word'].apply(lambda x:\n",
    "                                                       1 if ('amg') in x else 0)\n",
    "data_temp['bi_xenon_headlights'] = data_temp['description_word'].apply(lambda x:\n",
    "                                                                       1 if ('биксеноновые' and 'фары') in x else 0)\n",
    "data_temp['alloy_wheels'] = data_temp['description_word'].apply(lambda x:\n",
    "                                                                1 if ('легкосплавные' or 'колесные' or 'диски') in x else 0)\n",
    "data_temp['parking_sensors'] = data_temp['description_word'].apply(lambda x:\n",
    "                                                                   1 if ('парктроник' or 'парктронник') in x else 0)\n",
    "data_temp['dents'] = data_temp['description_word'].apply(lambda x:\n",
    "                                                         1 if ('вмятины' or 'вмятина' or 'царапина' or 'царапины' or 'трещина') in x else 0)\n",
    "data_temp['roof_with_panoramic_view'] = data_temp['description_word'].apply(lambda x:\n",
    "                                                                            1 if ('панорамная' and 'крыша') in x else 0)\n",
    "\n",
    "data_temp.drop(['description', 'description_word'], axis=1, inplace=True)"
   ]
  },
  {
   "cell_type": "code",
   "execution_count": null,
   "metadata": {},
   "outputs": [],
   "source": [
    "data_temp.info()"
   ]
  },
  {
   "cell_type": "markdown",
   "metadata": {},
   "source": [
    "### engineDisplacement"
   ]
  },
  {
   "cell_type": "code",
   "execution_count": null,
   "metadata": {},
   "outputs": [],
   "source": [
    "show(\"engineDisplacement\")"
   ]
  },
  {
   "cell_type": "markdown",
   "metadata": {},
   "source": [
    "Заменим \"ltr\" на \"\". Тогда признак получится преобразовать в числовой"
   ]
  },
  {
   "cell_type": "code",
   "execution_count": null,
   "metadata": {},
   "outputs": [],
   "source": [
    "def change_ltr(row):\n",
    "    row_temp = str(row)\n",
    "    row_temp = row_temp.replace(' ltr', '')\n",
    "    try:\n",
    "        return float(row_temp)\n",
    "    except:\n",
    "        return 0\n",
    "\n",
    "\n",
    "data_temp['engineDisplacement'] = data_temp['engineDisplacement'].apply(\n",
    "    change_ltr).astype('float64')"
   ]
  },
  {
   "cell_type": "markdown",
   "metadata": {},
   "source": [
    "### enginePower"
   ]
  },
  {
   "cell_type": "code",
   "execution_count": null,
   "metadata": {},
   "outputs": [],
   "source": [
    "show(\"enginePower\")"
   ]
  },
  {
   "cell_type": "markdown",
   "metadata": {},
   "source": [
    "Заменим \"n12\" на \"\". Тогда признак получится преобразовать в числовой"
   ]
  },
  {
   "cell_type": "code",
   "execution_count": null,
   "metadata": {},
   "outputs": [],
   "source": [
    "def change_ltr(row):\n",
    "    row_temp = str(row)\n",
    "    row_temp = row_temp.replace(' n12', '')\n",
    "    try:\n",
    "        return int(row_temp)\n",
    "    except:\n",
    "        return 0\n",
    "\n",
    "\n",
    "data_temp['enginePower'] = data_temp['enginePower'].apply(\n",
    "    change_ltr).astype('int64')"
   ]
  },
  {
   "cell_type": "markdown",
   "metadata": {},
   "source": [
    "### equipment_dict"
   ]
  },
  {
   "cell_type": "code",
   "execution_count": null,
   "metadata": {},
   "outputs": [],
   "source": [
    "show(\"equipment_dict\")"
   ]
  },
  {
   "cell_type": "markdown",
   "metadata": {},
   "source": [
    "Заменим пропуски на минимальное значение. Попробуем привести признак к его длине,посмотрим на метрику"
   ]
  },
  {
   "cell_type": "code",
   "execution_count": null,
   "metadata": {},
   "outputs": [],
   "source": [
    "data_temp['equipment_dict'].fillna(\"{}\", inplace=True)\n",
    "data_temp['equipment_dict'] = data_temp['equipment_dict'].apply(\n",
    "    lambda x: len(x))"
   ]
  },
  {
   "cell_type": "markdown",
   "metadata": {},
   "source": [
    "### fuelType"
   ]
  },
  {
   "cell_type": "code",
   "execution_count": null,
   "metadata": {},
   "outputs": [],
   "source": [
    "show(\"fuelType\")"
   ]
  },
  {
   "cell_type": "markdown",
   "metadata": {},
   "source": [
    "Почти все авто на бензине.\n",
    "\n",
    "Добавим признак в dummy ,т.к. значений не так много."
   ]
  },
  {
   "cell_type": "code",
   "execution_count": null,
   "metadata": {},
   "outputs": [],
   "source": [
    "col_dum.append('fuelType')"
   ]
  },
  {
   "cell_type": "markdown",
   "metadata": {},
   "source": [
    "### image"
   ]
  },
  {
   "cell_type": "code",
   "execution_count": null,
   "metadata": {},
   "outputs": [],
   "source": [
    "show(\"image\")"
   ]
  },
  {
   "cell_type": "markdown",
   "metadata": {},
   "source": [
    "Многие ссылки на фото повторяются. Есть карточки автомобилей с шаблонными фото авто. Помечаются как \"avatars\". Разобьем признак на наличие \"avatars\""
   ]
  },
  {
   "cell_type": "code",
   "execution_count": null,
   "metadata": {},
   "outputs": [],
   "source": [
    "data_temp['image'].fillna(\n",
    "    data_temp['image'].value_counts().index[0], inplace=True)\n",
    "data_temp['image'] = data_temp['image'].apply(\n",
    "    lambda x: 1 if 'avatars' in x else 0)"
   ]
  },
  {
   "cell_type": "markdown",
   "metadata": {},
   "source": [
    "### mileage"
   ]
  },
  {
   "cell_type": "code",
   "execution_count": null,
   "metadata": {},
   "outputs": [],
   "source": [
    "show('mileage')"
   ]
  },
  {
   "cell_type": "markdown",
   "metadata": {},
   "source": [
    "21278 авто с 0 пробегом. Возможно, это новые авто. Или продавец не указал пробег. Оставим пока как есть"
   ]
  },
  {
   "cell_type": "code",
   "execution_count": null,
   "metadata": {},
   "outputs": [],
   "source": [
    "show_outliers('mileage')"
   ]
  },
  {
   "cell_type": "markdown",
   "metadata": {},
   "source": [
    "Выбросов не много.(1%)"
   ]
  },
  {
   "cell_type": "code",
   "execution_count": null,
   "metadata": {},
   "outputs": [],
   "source": [
    "show_distplot('mileage')"
   ]
  },
  {
   "cell_type": "markdown",
   "metadata": {},
   "source": [
    " Логарифмируем признак. Визуально распределение улучшилось"
   ]
  },
  {
   "cell_type": "code",
   "execution_count": null,
   "metadata": {},
   "outputs": [],
   "source": [
    "log_f('mileage')"
   ]
  },
  {
   "cell_type": "markdown",
   "metadata": {},
   "source": [
    "В целом признак распределен нормально. ."
   ]
  },
  {
   "cell_type": "markdown",
   "metadata": {},
   "source": [
    "### modelDate"
   ]
  },
  {
   "cell_type": "code",
   "execution_count": null,
   "metadata": {},
   "outputs": [],
   "source": [
    "show('modelDate')"
   ]
  },
  {
   "cell_type": "markdown",
   "metadata": {},
   "source": [
    "Больше всего авто с датой выпуска за 2017 год"
   ]
  },
  {
   "cell_type": "code",
   "execution_count": null,
   "metadata": {},
   "outputs": [],
   "source": [
    "show_outliers('modelDate')"
   ]
  },
  {
   "cell_type": "markdown",
   "metadata": {},
   "source": [
    "Выбросов не много.(2+%)"
   ]
  },
  {
   "cell_type": "code",
   "execution_count": null,
   "metadata": {},
   "outputs": [],
   "source": [
    "show_distplot('modelDate')"
   ]
  },
  {
   "cell_type": "code",
   "execution_count": null,
   "metadata": {},
   "outputs": [],
   "source": [
    "log_f('modelDate')"
   ]
  },
  {
   "cell_type": "markdown",
   "metadata": {},
   "source": [
    "Логорифмирование признака не приводит к нормальному распределнию. Посмотрим на метрику."
   ]
  },
  {
   "cell_type": "markdown",
   "metadata": {},
   "source": [
    "### model_info"
   ]
  },
  {
   "cell_type": "code",
   "execution_count": null,
   "metadata": {},
   "outputs": [],
   "source": [
    "show(\"model_info\")"
   ]
  },
  {
   "cell_type": "markdown",
   "metadata": {},
   "source": [
    "Заполним пропуски и приведем признак к его длине. Посмотрим на метрику."
   ]
  },
  {
   "cell_type": "code",
   "execution_count": null,
   "metadata": {},
   "outputs": [],
   "source": [
    "data_temp['model_info'].fillna('{}', inplace=True)\n",
    "data_temp['model_info'] = data_temp['model_info'].apply(lambda x: len(x))"
   ]
  },
  {
   "cell_type": "markdown",
   "metadata": {},
   "source": [
    "### model_name"
   ]
  },
  {
   "cell_type": "code",
   "execution_count": null,
   "metadata": {},
   "outputs": [],
   "source": [
    "show(\"model_name\")"
   ]
  },
  {
   "cell_type": "markdown",
   "metadata": {},
   "source": [
    "Уникальных моделей много,около 700. Добавим их для LabelEncoder ,чтобы не перегружать количеством признаков датасет."
   ]
  },
  {
   "cell_type": "code",
   "execution_count": null,
   "metadata": {},
   "outputs": [],
   "source": [
    "col_en.append('model_name')"
   ]
  },
  {
   "cell_type": "markdown",
   "metadata": {},
   "source": [
    "### name"
   ]
  },
  {
   "cell_type": "code",
   "execution_count": null,
   "metadata": {},
   "outputs": [],
   "source": [
    "show(\"name\")"
   ]
  },
  {
   "cell_type": "markdown",
   "metadata": {},
   "source": [
    "Объем и мощность двигателя уже есть в других признаках.Удалим этот признак за ненадобностью."
   ]
  },
  {
   "cell_type": "code",
   "execution_count": null,
   "metadata": {},
   "outputs": [],
   "source": [
    "data_temp.drop('name', axis=1, inplace=True)"
   ]
  },
  {
   "cell_type": "markdown",
   "metadata": {},
   "source": [
    "### numberOfDoors"
   ]
  },
  {
   "cell_type": "code",
   "execution_count": null,
   "metadata": {},
   "outputs": [],
   "source": [
    "show(\"numberOfDoors\", vc_show=True)"
   ]
  },
  {
   "cell_type": "markdown",
   "metadata": {},
   "source": [
    "Больше всего пятидверных авто. Но есть авто и без деверей.(ретро). \n",
    "\n",
    "Оставим признак как есть"
   ]
  },
  {
   "cell_type": "markdown",
   "metadata": {},
   "source": [
    "### parsing_unixtime"
   ]
  },
  {
   "cell_type": "code",
   "execution_count": null,
   "metadata": {},
   "outputs": [],
   "source": [
    "data_temp['parsing_unixtime'].fillna(0, inplace=True)"
   ]
  },
  {
   "cell_type": "code",
   "execution_count": null,
   "metadata": {},
   "outputs": [],
   "source": [
    "show('parsing_unixtime')"
   ]
  },
  {
   "cell_type": "code",
   "execution_count": null,
   "metadata": {},
   "outputs": [],
   "source": [
    "def ut_in_date(row):\n",
    "    value = dt.datetime.fromtimestamp(int(row))\n",
    "    return value.strftime('%Y-%m-%d %H:%M:%S')\n",
    "\n",
    "\n",
    "data_temp['parsing_unixtime'] = data_temp['parsing_unixtime'].apply(ut_in_date)"
   ]
  },
  {
   "cell_type": "code",
   "execution_count": null,
   "metadata": {},
   "outputs": [],
   "source": [
    "show('parsing_unixtime')"
   ]
  },
  {
   "cell_type": "markdown",
   "metadata": {},
   "source": [
    "Этот признак удаляем. Его можно было бы использовать для расчёта коэффициента влияния курса доллара на цены авто. (разница курса,когда проходил парсинг и когда прогнозируется цена).\n",
    "В данном случае, курс доллара на дату парсинга данных и на дату прогнозирования практически не отличается."
   ]
  },
  {
   "cell_type": "code",
   "execution_count": null,
   "metadata": {},
   "outputs": [],
   "source": [
    "data_temp.drop('parsing_unixtime', axis=1, inplace=True)"
   ]
  },
  {
   "cell_type": "markdown",
   "metadata": {},
   "source": [
    "### priceCurrency"
   ]
  },
  {
   "cell_type": "code",
   "execution_count": null,
   "metadata": {},
   "outputs": [],
   "source": [
    "show('priceCurrency')"
   ]
  },
  {
   "cell_type": "markdown",
   "metadata": {},
   "source": [
    "Валюта продажи только одна - \"rub\".  \n",
    "Удаляем признак"
   ]
  },
  {
   "cell_type": "code",
   "execution_count": null,
   "metadata": {},
   "outputs": [],
   "source": [
    "data_temp.drop('priceCurrency', axis=1, inplace=True)"
   ]
  },
  {
   "cell_type": "markdown",
   "metadata": {},
   "source": [
    "### productionDate"
   ]
  },
  {
   "cell_type": "code",
   "execution_count": null,
   "metadata": {},
   "outputs": [],
   "source": [
    "show('productionDate')"
   ]
  },
  {
   "cell_type": "code",
   "execution_count": null,
   "metadata": {},
   "outputs": [],
   "source": [
    "show_distplot('productionDate')"
   ]
  },
  {
   "cell_type": "markdown",
   "metadata": {},
   "source": [
    "Распределение не нормальное. Попробуем логарифмировать"
   ]
  },
  {
   "cell_type": "code",
   "execution_count": null,
   "metadata": {},
   "outputs": [],
   "source": [
    "show_distplot('productionDate')"
   ]
  },
  {
   "cell_type": "markdown",
   "metadata": {},
   "source": [
    "Распределение не поменялось.Посмотрим на метрику"
   ]
  },
  {
   "cell_type": "code",
   "execution_count": null,
   "metadata": {},
   "outputs": [],
   "source": [
    "show_outliers('productionDate')"
   ]
  },
  {
   "cell_type": "markdown",
   "metadata": {},
   "source": [
    "Выбросов мало (2%). Оставим как есть"
   ]
  },
  {
   "cell_type": "markdown",
   "metadata": {},
   "source": [
    "### sell_id"
   ]
  },
  {
   "cell_type": "code",
   "execution_count": null,
   "metadata": {},
   "outputs": [],
   "source": [
    "show('sell_id')"
   ]
  },
  {
   "cell_type": "markdown",
   "metadata": {},
   "source": [
    "Заполним пропуски 0 и приведём к числовому типу. Попробуем использовать для обучения модели. "
   ]
  },
  {
   "cell_type": "code",
   "execution_count": null,
   "metadata": {},
   "outputs": [],
   "source": [
    "data_temp['sell_id'].fillna(0, inplace=True)\n",
    "data_temp['sell_id'] = data_temp['sell_id'].astype('float64')"
   ]
  },
  {
   "cell_type": "markdown",
   "metadata": {},
   "source": [
    "### super_gen"
   ]
  },
  {
   "cell_type": "code",
   "execution_count": null,
   "metadata": {},
   "outputs": [],
   "source": [
    "show('super_gen')"
   ]
  },
  {
   "cell_type": "markdown",
   "metadata": {},
   "source": [
    "Заполним пропуски '{}'.   \n",
    "Попробуем привести признак к формату ast или json.   \n",
    "Далее вытащим новые признаки: acceleration(ускорение) ,clearance_min,fuel_rate(расход топлива),clearance_max, gear_type ,price_segment\n",
    "\n",
    "Приведем признак к его длине."
   ]
  },
  {
   "cell_type": "code",
   "execution_count": null,
   "metadata": {},
   "outputs": [],
   "source": [
    "data_temp['super_gen'].fillna('{}', inplace=True)\n",
    "data_temp['super_gen'] = data_temp['super_gen'].apply(to_dict)\n",
    "\n",
    "data_temp['price_segment'] = data_temp['super_gen'].apply(\n",
    "    lambda x: get_val(x, 'price_segment', 'absent'))\n",
    "data_temp['gear_type'] = data_temp['super_gen'].apply(\n",
    "    lambda x: get_val(x, 'gear_type', 'absent'))\n",
    "data_temp['acceleration'] = data_temp['super_gen'].apply(\n",
    "    lambda x: get_val(x, 'acceleration', 0))\n",
    "data_temp['clearance_min'] = data_temp['super_gen'].apply(\n",
    "    lambda x: get_val(x, 'clearance_min', 0))\n",
    "data_temp['clearance_max'] = data_temp['super_gen'].apply(\n",
    "    lambda x: get_val(x, 'clearance_max', 0))\n",
    "data_temp['fuel_rate'] = data_temp['super_gen'].apply(\n",
    "    lambda x: get_val(x, 'fuel_rate', 0))\n",
    "\n",
    "col_dum.append('price_segment')\n",
    "col_dum.append('gear_type')\n",
    "\n",
    "data_temp['super_gen'] = data_temp['super_gen'].apply(lambda x: len(x))"
   ]
  },
  {
   "cell_type": "markdown",
   "metadata": {},
   "source": [
    "### vehicleConfiguration"
   ]
  },
  {
   "cell_type": "code",
   "execution_count": null,
   "metadata": {},
   "outputs": [],
   "source": [
    "show('vehicleConfiguration')"
   ]
  },
  {
   "cell_type": "markdown",
   "metadata": {},
   "source": [
    "Вся информация есть в других признаках, можно удалить"
   ]
  },
  {
   "cell_type": "code",
   "execution_count": null,
   "metadata": {},
   "outputs": [],
   "source": [
    "data_temp.drop(['vehicleConfiguration'], axis=1, inplace=True)"
   ]
  },
  {
   "cell_type": "markdown",
   "metadata": {},
   "source": [
    "### vehicleTransmission"
   ]
  },
  {
   "cell_type": "code",
   "execution_count": null,
   "metadata": {},
   "outputs": [],
   "source": [
    "show('vehicleTransmission')"
   ]
  },
  {
   "cell_type": "markdown",
   "metadata": {},
   "source": [
    "Преобладает автоматическая коробка. Добавим в dummy"
   ]
  },
  {
   "cell_type": "code",
   "execution_count": null,
   "metadata": {},
   "outputs": [],
   "source": [
    "col_dum.append('vehicleTransmission')"
   ]
  },
  {
   "cell_type": "markdown",
   "metadata": {},
   "source": [
    "### vendor"
   ]
  },
  {
   "cell_type": "code",
   "execution_count": null,
   "metadata": {},
   "outputs": [],
   "source": [
    "show('vendor')"
   ]
  },
  {
   "cell_type": "markdown",
   "metadata": {},
   "source": [
    "Заполним пропуски"
   ]
  },
  {
   "cell_type": "code",
   "execution_count": null,
   "metadata": {},
   "outputs": [],
   "source": [
    "vendors = {'ford': 'american', 'hyundai': 'korean', 'nissan': 'japanese', 'peugeot': 'european', 'porsche': 'european', 'renault': 'european', 'skoda': 'european', 'toyota': 'japanese', 'volkswagen': 'european',\n",
    "           'volvo': 'european', 'great_wall': 'chinese', 'land_rover': 'european', 'mercedes': 'european'}\n",
    "data_temp['vendor'].fillna(data['brand'].map(vendors), inplace=True)"
   ]
  },
  {
   "cell_type": "code",
   "execution_count": null,
   "metadata": {},
   "outputs": [],
   "source": [
    "show('vendor')"
   ]
  },
  {
   "cell_type": "code",
   "execution_count": null,
   "metadata": {},
   "outputs": [],
   "source": [
    "col_dum.append('vendor')"
   ]
  },
  {
   "cell_type": "markdown",
   "metadata": {},
   "source": [
    "### Владельцы"
   ]
  },
  {
   "cell_type": "code",
   "execution_count": null,
   "metadata": {},
   "outputs": [],
   "source": [
    "show('Владельцы')"
   ]
  },
  {
   "cell_type": "markdown",
   "metadata": {},
   "source": [
    "Заполним пропуски 0. Будем считать ,что \"3 и более\" это 4."
   ]
  },
  {
   "cell_type": "code",
   "execution_count": null,
   "metadata": {},
   "outputs": [],
   "source": [
    "data_temp['Владельцы'].fillna('0', inplace=True)\n",
    "\n",
    "\n",
    "def change_own(row):\n",
    "    row = str(row)\n",
    "    if row.find('или более') > -1:\n",
    "        return 4\n",
    "    res = re.match('\\d+', row)\n",
    "    if res is None:\n",
    "        return row\n",
    "    else:\n",
    "        return res[0]\n",
    "\n",
    "\n",
    "data_temp['Владельцы'] = data_temp['Владельцы'].apply(\n",
    "    change_own).astype('int64')"
   ]
  },
  {
   "cell_type": "code",
   "execution_count": null,
   "metadata": {},
   "outputs": [],
   "source": [
    "show('Владельцы')"
   ]
  },
  {
   "cell_type": "markdown",
   "metadata": {},
   "source": [
    "Больше всего у авто было 3 владельца"
   ]
  },
  {
   "cell_type": "markdown",
   "metadata": {},
   "source": [
    "### Владение"
   ]
  },
  {
   "cell_type": "code",
   "execution_count": null,
   "metadata": {},
   "outputs": [],
   "source": [
    "show('Владение')"
   ]
  },
  {
   "cell_type": "markdown",
   "metadata": {},
   "source": [
    "В признаке 86271 пропусков. Более 70%. Возможно стоит удалить признак. Посмотрим на метрике.  \n",
    "Пока попробуем убрать пропуски и определить владение в месяцах"
   ]
  },
  {
   "cell_type": "code",
   "execution_count": null,
   "metadata": {},
   "outputs": [],
   "source": [
    "data_temp['Владение'].fillna('0', inplace=True)\n",
    "\n",
    "\n",
    "def transform(row):\n",
    "    year_len = len(re.findall('[гл]', row))\n",
    "    mounth_len = len(re.findall('[мес]', row))\n",
    "    res = re.findall('\\d+', row)\n",
    "    res_len = len(res)\n",
    "\n",
    "    new_row = 0\n",
    "\n",
    "    if year_len > 0:\n",
    "        new_row += int(res[0]) * 12\n",
    "\n",
    "    if mounth_len > 0:\n",
    "        if res_len == 1:\n",
    "            new_row += int(res[0])\n",
    "        elif res_len == 2:\n",
    "            new_row += int(res[1])\n",
    "\n",
    "    if year_len == 0 and mounth_len == 0:\n",
    "        if res_len == 1:\n",
    "            new_row += int(res[0])\n",
    "        elif res_len == 2:\n",
    "            new_row += int(res[1])\n",
    "\n",
    "    return new_row\n",
    "\n",
    "\n",
    "data_temp['Владение'] = data_temp['Владение'].apply(transform).astype('int64')"
   ]
  },
  {
   "cell_type": "markdown",
   "metadata": {},
   "source": [
    "### ПТС"
   ]
  },
  {
   "cell_type": "code",
   "execution_count": null,
   "metadata": {},
   "outputs": [],
   "source": [
    "show('ПТС')"
   ]
  },
  {
   "cell_type": "markdown",
   "metadata": {},
   "source": [
    "Заменим пропуски на 'оригинал'. Склеим оригинал-original и дубликат-duplicate.\n",
    "Добавим признак в dummy"
   ]
  },
  {
   "cell_type": "code",
   "execution_count": null,
   "metadata": {},
   "outputs": [],
   "source": [
    "data_temp['ПТС'].fillna('оригинал', inplace=True)\n",
    "data_temp['ПТС'] = data_temp['ПТС'].apply(lambda x: 'оригинал' if x in [\n",
    "                                          'original', 'оригинал'] else 'дубликат')\n",
    "col_dum.append('ПТС')"
   ]
  },
  {
   "cell_type": "markdown",
   "metadata": {},
   "source": [
    "### Привод"
   ]
  },
  {
   "cell_type": "code",
   "execution_count": null,
   "metadata": {},
   "outputs": [],
   "source": [
    "show('Привод')"
   ]
  },
  {
   "cell_type": "code",
   "execution_count": null,
   "metadata": {},
   "outputs": [],
   "source": [
    "col_dum.append('Привод')"
   ]
  },
  {
   "cell_type": "markdown",
   "metadata": {},
   "source": [
    "### Руль"
   ]
  },
  {
   "cell_type": "code",
   "execution_count": null,
   "metadata": {},
   "outputs": [],
   "source": [
    "show('Руль')"
   ]
  },
  {
   "cell_type": "markdown",
   "metadata": {},
   "source": [
    "Авто с правым рулём очень мало. Возможно,стоит удалить признак.Посмотрим метрику."
   ]
  },
  {
   "cell_type": "code",
   "execution_count": null,
   "metadata": {},
   "outputs": [],
   "source": [
    "data_temp['Руль'].fillna('левый', inplace=True)\n",
    "col_dum.append('Руль')"
   ]
  },
  {
   "cell_type": "markdown",
   "metadata": {},
   "source": [
    "### Состояние"
   ]
  },
  {
   "cell_type": "code",
   "execution_count": null,
   "metadata": {},
   "outputs": [],
   "source": [
    "show('Состояние')"
   ]
  },
  {
   "cell_type": "markdown",
   "metadata": {},
   "source": [
    "Одно значение \"не требует ремонта\". Удалим признак"
   ]
  },
  {
   "cell_type": "code",
   "execution_count": null,
   "metadata": {},
   "outputs": [],
   "source": [
    "data_temp.drop('Состояние', axis=1, inplace=True)"
   ]
  },
  {
   "cell_type": "markdown",
   "metadata": {},
   "source": [
    "### Таможня"
   ]
  },
  {
   "cell_type": "code",
   "execution_count": null,
   "metadata": {},
   "outputs": [],
   "source": [
    "show('Таможня')"
   ]
  },
  {
   "cell_type": "markdown",
   "metadata": {},
   "source": [
    "Одно значение \"растаможен\". Удалим признак"
   ]
  },
  {
   "cell_type": "code",
   "execution_count": null,
   "metadata": {},
   "outputs": [],
   "source": [
    "data_temp.drop('Таможня', axis=1, inplace=True)"
   ]
  },
  {
   "cell_type": "markdown",
   "metadata": {},
   "source": [
    "### price"
   ]
  },
  {
   "cell_type": "code",
   "execution_count": null,
   "metadata": {},
   "outputs": [],
   "source": [
    "show('price')"
   ]
  },
  {
   "cell_type": "code",
   "execution_count": null,
   "metadata": {},
   "outputs": [],
   "source": [
    "show_distplot('price')"
   ]
  },
  {
   "cell_type": "markdown",
   "metadata": {},
   "source": [
    "Подавляющее большинство машин стоит до 1 млн. Распределение не нормальное."
   ]
  },
  {
   "cell_type": "code",
   "execution_count": null,
   "metadata": {},
   "outputs": [],
   "source": [
    "show_outliers('price')"
   ]
  },
  {
   "cell_type": "markdown",
   "metadata": {},
   "source": [
    "Выбросов относительно не много,около 8%.Пока не будем удалять."
   ]
  },
  {
   "cell_type": "markdown",
   "metadata": {},
   "source": [
    "Логарифмируем цену"
   ]
  },
  {
   "cell_type": "code",
   "execution_count": null,
   "metadata": {},
   "outputs": [],
   "source": [
    "log_f('price')"
   ]
  },
  {
   "cell_type": "code",
   "execution_count": null,
   "metadata": {},
   "outputs": [],
   "source": [
    "show_distplot('price')"
   ]
  },
  {
   "cell_type": "markdown",
   "metadata": {},
   "source": [
    "Теперь распределение нормальное."
   ]
  },
  {
   "cell_type": "markdown",
   "metadata": {},
   "source": [
    "### Dummy и LableEncoder"
   ]
  },
  {
   "cell_type": "code",
   "execution_count": null,
   "metadata": {},
   "outputs": [],
   "source": [
    "# Dummy\n",
    "for col in col_dum:\n",
    "    data_temp = pd.get_dummies(data_temp, columns=[col], prefix=col)\n",
    "\n",
    "# LabelEncoder\n",
    "label_encoder = LabelEncoder()\n",
    "for col in col_en:\n",
    "    data_temp[col] = label_encoder.fit_transform(data_temp[col])"
   ]
  },
  {
   "cell_type": "markdown",
   "metadata": {},
   "source": [
    "# 4. General analysis"
   ]
  },
  {
   "cell_type": "markdown",
   "metadata": {},
   "source": [
    "### Функции"
   ]
  },
  {
   "cell_type": "code",
   "execution_count": null,
   "metadata": {},
   "outputs": [],
   "source": [
    "# Корреляция\n",
    "def show_cor(data_x):\n",
    "    plt.rcParams['figure.figsize'] = (30, 10)\n",
    "    sns.heatmap(round(data_x.corr(), 2), annot=True)\n",
    "    plt.rcParams['figure.figsize'] = (10, 5)\n",
    "\n",
    "# Значимость признаков\n",
    "\n",
    "\n",
    "def show_important(data_x, cols):\n",
    "    df_temp = data_x[data_x['sample'] == 1]\n",
    "    imp_num = pd.Series(\n",
    "        f_classif(df_temp[cols], df_temp['price'])[0], index=cols)\n",
    "    imp_num.sort_values(inplace=True)\n",
    "    imp_num.plot(\n",
    "        kind='barh', title='Значимость переменных для прогнозирования price')\n",
    "\n",
    "# тест Стьюдента\n",
    "\n",
    "\n",
    "def get_stat_dif(data_x, column):\n",
    "    cols = data_x.loc[:, column].value_counts().index[:]\n",
    "    combinations_all = list(combinations(cols, 2))\n",
    "    for comb in combinations_all:\n",
    "        if ttest_ind(data_x.loc[data_x.loc[:, column] == comb[0], 'price'],\n",
    "                     data_x.loc[data_x.loc[:, column] == comb[1], 'price']).pvalue \\\n",
    "                > 0.05/len(combinations_all):  # Учли поправку Бонферони\n",
    "            print('Не найдены статистически значимые различия для колонки', column)\n",
    "            break"
   ]
  },
  {
   "cell_type": "code",
   "execution_count": null,
   "metadata": {},
   "outputs": [],
   "source": [
    "# Выделим числовые признаки\n",
    "num_cols = ['mileage', 'modelDate', 'numberOfDoors', 'productionDate', 'price', 'complectation_dict', 'engineDisplacement',\n",
    "            'enginePower', 'equipment_dict', 'model_info', 'sell_id', 'super_gen', 'acceleration', 'clearance_min', 'clearance_max', 'fuel_rate']"
   ]
  },
  {
   "cell_type": "markdown",
   "metadata": {},
   "source": [
    "**Посмотрим корреляцию для числовых признаков**"
   ]
  },
  {
   "cell_type": "code",
   "execution_count": null,
   "metadata": {},
   "outputs": [],
   "source": [
    "show_cor(data_temp[num_cols])"
   ]
  },
  {
   "cell_type": "markdown",
   "metadata": {},
   "source": [
    "Высокая корреляция price с признаком super_gen и его субпризнаками.Скорее всего это из-за того,что в этих признаках много пропусков.Это может запутывать модель.Возможно,придется их удалить.\n",
    "\n",
    "Достаточно высокая корреляция sell_id с price (-0.49). Возможно,на это также влияют пропуски в дополнительно датасете. Посмотрим на метрику.\n",
    "\n",
    "model_info и sell_id очень сильно коррелируют (0.99). model_info будем удалять,т.к. у него ниже корреляция с price"
   ]
  },
  {
   "cell_type": "markdown",
   "metadata": {},
   "source": [
    "**Посмотрим значимость переменных для прогнозирования price**"
   ]
  },
  {
   "cell_type": "code",
   "execution_count": null,
   "metadata": {},
   "outputs": [],
   "source": [
    "num_cols.remove('price')\n",
    "\n",
    "show_important(data_temp, num_cols)"
   ]
  },
  {
   "cell_type": "markdown",
   "metadata": {},
   "source": [
    "Высокую значимость имеют признаки: mileage,productionDate,modelDate"
   ]
  },
  {
   "cell_type": "markdown",
   "metadata": {},
   "source": [
    "**тест Стьюдента**"
   ]
  },
  {
   "cell_type": "markdown",
   "metadata": {},
   "source": [
    "Проверим, есть ли статистическая разница в распределении оценок по категориальным признакам, с помощью теста Стьюдента. Проверим нулевую гипотезу о том, что распределения price по различным параметрам неразличимы."
   ]
  },
  {
   "cell_type": "code",
   "execution_count": null,
   "metadata": {},
   "outputs": [],
   "source": [
    "test_st_col = []\n",
    "\n",
    "data_temp_sample = data_temp[data_temp['sample'] == 1]\n",
    "\n",
    "for col in data_temp_sample.columns:\n",
    "    if data_temp[col].nunique() == 2:\n",
    "        test_st_col.append(col)"
   ]
  },
  {
   "cell_type": "code",
   "execution_count": null,
   "metadata": {},
   "outputs": [],
   "source": [
    "for col in test_st_col:\n",
    "    get_stat_dif(data_temp, col)"
   ]
  },
  {
   "cell_type": "markdown",
   "metadata": {},
   "source": [
    "Попробуем удалить статистически незначимые признаки и посмотреть результаты метрики."
   ]
  },
  {
   "cell_type": "markdown",
   "metadata": {},
   "source": [
    "# 5. Data Preprocessing\n",
    "Теперь, для удобства и воспроизводимости кода, завернем всю обработку в несколько больших функций"
   ]
  },
  {
   "cell_type": "code",
   "execution_count": null,
   "metadata": {},
   "outputs": [],
   "source": [
    "# Функции\n",
    "\n",
    "def to_dict(row):\n",
    "    try:\n",
    "        row = ast.literal_eval(row)\n",
    "        return row\n",
    "    except:\n",
    "        try:\n",
    "            row = json.loads(row)\n",
    "            return row\n",
    "        except:\n",
    "            return row\n",
    "\n",
    "\n",
    "def get_val(row, val_name, val_er):\n",
    "    try:\n",
    "        return row[val_name]\n",
    "    except:\n",
    "        return val_er\n",
    "\n",
    "\n",
    "def change_ltr(row):\n",
    "    row_temp = str(row)\n",
    "    row_temp = row_temp.replace(' ltr', '')\n",
    "    try:\n",
    "        return float(row_temp)\n",
    "    except:\n",
    "        return 0\n",
    "\n",
    "\n",
    "def change_n12(row):\n",
    "    row_temp = str(row)\n",
    "    row_temp = row_temp.replace(' n12', '')\n",
    "    try:\n",
    "        return int(row_temp)\n",
    "    except:\n",
    "        return 0\n",
    "\n",
    "\n",
    "def log_f(col, data_x=data_temp):\n",
    "    data_x[col] = np.log(data_x[col] + 1)\n",
    "\n",
    "\n",
    "def change_own(row):\n",
    "    row = str(row)\n",
    "    if row.find('или более') > -1:\n",
    "        return 4\n",
    "    res = re.match('\\d+', row)\n",
    "    if res is None:\n",
    "        return row\n",
    "    else:\n",
    "        return res[0]\n",
    "\n",
    "\n",
    "def transform(row):\n",
    "    year_len = len(re.findall('[гл]', row))\n",
    "    mounth_len = len(re.findall('[мес]', row))\n",
    "    res = re.findall('\\d+', row)\n",
    "    res_len = len(res)\n",
    "\n",
    "    new_row = 0\n",
    "\n",
    "    if year_len > 0:\n",
    "        new_row += int(res[0]) * 12\n",
    "\n",
    "    if mounth_len > 0:\n",
    "        if res_len == 1:\n",
    "            new_row += int(res[0])\n",
    "        elif res_len == 2:\n",
    "            new_row += int(res[1])\n",
    "\n",
    "    if year_len == 0 and mounth_len == 0:\n",
    "        if res_len == 1:\n",
    "            new_row += int(res[0])\n",
    "        elif res_len == 2:\n",
    "            new_row += int(res[1])\n",
    "\n",
    "    return new_row\n",
    "\n",
    "\n",
    "def mape(y_true, y_pred):\n",
    "    # Точность модели по метрике MAPE\n",
    "    return np.mean(np.abs((y_pred-y_true)/y_true)) * 100"
   ]
  },
  {
   "cell_type": "code",
   "execution_count": null,
   "metadata": {},
   "outputs": [],
   "source": [
    "# Данные\n",
    "DATA_DIR = '../input/sf-dst-car-price-prediction/'\n",
    "df_train = pd.read_csv(\n",
    "    '../input/myparsingfile/parsing_all_moscow_auto_ru_25_11_20.csv')\n",
    "df_train_dop = pd.read_csv(\n",
    "    '../input/parsing-all-moscow-auto-ru-09-09-2020/all_auto_ru_09_09_2020.csv')\n",
    "df_test = pd.read_csv(DATA_DIR+'test.csv')\n",
    "sample_submission = pd.read_csv(DATA_DIR+'sample_submission.csv')\n",
    "#################################\n",
    "\n",
    "df_train_temp = df_train[df_test.columns]\n",
    "df_train_temp['price'] = df_train['price']\n",
    "df_train = df_train_temp\n",
    "\n",
    "df_train_dop['model_name'] = df_train_dop['model']\n",
    "df_train_dop['complectation_dict'] = df_train_dop['Комплектация']\n",
    "df_train_dop.drop(['Комплектация', 'start_date', 'hidden',\n",
    "                   'model'], axis=1, inplace=True)\n",
    "\n",
    "df_train_dop['color'] = df_train_dop['color'].map({'CACECB': 'серебристый', 'FAFBFB': 'белый', 'EE1D19': 'красный', '97948F': 'серый',\n",
    "                                                   '660099': 'пурпурный', '040001': 'чёрный', '4A2197': 'фиолетовый',\n",
    "                                                   '200204': 'коричневый', '0000CC': 'синий', '007F00': 'зелёный', 'C49648': 'бежевый',\n",
    "                                                   '22A0F8': 'голубой', 'DEA522': 'золотистый', 'FFD600': 'жёлтый', 'FF8649': 'оранжевый',\n",
    "                                                   'FFC0CB': 'розовый'})\n",
    "\n",
    "df_train_dop['vehicleTransmission'] = df_train_dop['vehicleTransmission'].map(\n",
    "    {'AUTOMATIC': 'автоматическая', 'MECHANICAL': 'механическая', 'VARIATOR': 'вариатор', 'ROBOT': 'роботизированная'})\n",
    "df_train_dop['Руль'] = df_train_dop['Руль'].map(\n",
    "    {'LEFT': 'левый', 'RIGHT': 'правый'})\n",
    "\n",
    "for col in df_train.columns:\n",
    "    if col not in df_train_dop.columns:\n",
    "        df_train_dop[col] = None\n",
    "\n",
    "df_train = df_train.append(df_train_dop, sort=False).reset_index(drop=True)\n",
    "\n",
    "df_train['sample'] = 1\n",
    "df_test['sample'] = 0\n",
    "df_test['price'] = 0\n",
    "\n",
    "data = df_test.append(df_train, sort=False).reset_index(drop=True)\n",
    "\n",
    "data = data[~data.price.isnull()]\n",
    "data = data[~data.bodyType.isnull()]\n",
    "\n",
    "for col in data.select_dtypes(include='object').columns:\n",
    "    data[col][~data[col].isnull()] = data[col][~data[col].isnull()\n",
    "                                               ].apply(lambda x: str(x).lower())\n",
    "\n",
    "brands = list(map(lambda x: str.lower(x), df_test.brand.value_counts().index))\n",
    "data = data[data['brand'].isin(brands)]"
   ]
  },
  {
   "cell_type": "code",
   "execution_count": null,
   "metadata": {},
   "outputs": [],
   "source": [
    "# Подготовка данных для обучения и тестирования\n",
    "data_temp = data.copy()\n",
    "\n",
    "col_dum = []\n",
    "col_en = []\n",
    "\n",
    "# bodyType\n",
    "data_temp['bodyType'] = data_temp['bodyType'].apply(\n",
    "    lambda x: str(x).split(' ')[0])\n",
    "data_temp['bodyType'] = data_temp['bodyType'].apply(\n",
    "    lambda x: 'купе' if x == 'купе-хардтоп' else x)\n",
    "data_temp['bodyType'] = data_temp['bodyType'].apply(\n",
    "    lambda x: 'седан' if x == 'седан-хардтоп' else x)\n",
    "col_dum.append('bodyType')\n",
    "\n",
    "# brand\n",
    "col_dum.append('brand')\n",
    "\n",
    "# car_url\n",
    "data_temp.drop('car_url', axis=1, inplace=True)\n",
    "\n",
    "# color\n",
    "col_dum.append('color')\n",
    "\n",
    "# complectation_dict\n",
    "data_temp['complectation_dict'].fillna(\"{'id': '0'}\", inplace=True)\n",
    "data_temp['complectation_dict'] = data_temp['complectation_dict'].apply(\n",
    "    lambda x: len(x))\n",
    "\n",
    "# description\n",
    "data_temp['description'].fillna('[]', inplace=True)\n",
    "data_temp['description_word'] = data_temp['description'].apply(\n",
    "    lambda x: [i for i in x.split()])\n",
    "\n",
    "data_temp['salon'] = data_temp['description_word'].apply(lambda x:\n",
    "                                                         1 if ('рольф' or 'панавто' or 'дилер' or 'кредит' or 'обмен' or 'скид' or 'trade-in' or 'выгода' or 'работаем для вас' or 'автосалон' or 'ликвидация') in x else 0)\n",
    "data_temp['torg'] = data_temp['description_word'].apply(lambda x:\n",
    "                                                        1 if ('торг') in x else 0)\n",
    "data_temp['leather'] = data_temp['description_word'].apply(lambda x:\n",
    "                                                           1 if ('темный' and 'салон') in x else 0)\n",
    "data_temp['carter'] = data_temp['description_word'].apply(lambda x:\n",
    "                                                          1 if ('защита' and 'картера') in x else 0)\n",
    "data_temp['ABS'] = data_temp['description_word'].apply(lambda x:\n",
    "                                                       1 if ('антиблокировочная' and 'система') in x else 0)\n",
    "data_temp['airbags'] = data_temp['description_word'].apply(lambda x:\n",
    "                                                           1 if ('подушки' and 'безопасности') in x else 0)\n",
    "data_temp['immob'] = data_temp['description_word'].apply(lambda x:\n",
    "                                                         1 if ('иммобилайзер') in x else 0)\n",
    "data_temp['central_locking'] = data_temp['description_word'].apply(lambda x:\n",
    "                                                                   1 if ('центральный' and 'замок') in x else 0)\n",
    "data_temp['on_board_computer'] = data_temp['description_word'].apply(lambda x:\n",
    "                                                                     1 if ('бортовой' and 'компьютер') in x else 0)\n",
    "data_temp['cruise_control'] = data_temp['description_word'].apply(lambda x:\n",
    "                                                                  1 if ('круиз-контроль') in x else 0)\n",
    "data_temp['climat_control'] = data_temp['description_word'].apply(lambda x:\n",
    "                                                                  1 if ('климат-контроль') in x else 0)\n",
    "data_temp['multi_rudder'] = data_temp['description_word'].apply(lambda x:\n",
    "                                                                1 if ('мультифункциональный' and 'руль') in x else 0)\n",
    "data_temp['power_steering'] = data_temp['description_word'].apply(lambda x:\n",
    "                                                                  1 if ('гидроусилитель' or 'гидро' or 'усилитель' and 'руля') in x else 0)\n",
    "data_temp['light_and_rain_sensors'] = data_temp['description_word'].apply(lambda x:\n",
    "                                                                          1 if ('датчики' and 'света' and 'дождя') in x else 0)\n",
    "data_temp['сarbon_body_kits'] = data_temp['description_word'].apply(lambda x:\n",
    "                                                                    1 if ('карбоновые' and 'обвесы') in x else 0)\n",
    "data_temp['rear_diffuser_rkp'] = data_temp['description_word'].apply(lambda x:\n",
    "                                                                     1 if ('задний' and 'диффузор') in x else 0)\n",
    "data_temp['door_closers'] = data_temp['description_word'].apply(lambda x:\n",
    "                                                                1 if ('доводчики' and 'дверей') in x else 0)\n",
    "data_temp['rear_view_camera'] = data_temp['description_word'].apply(lambda x:\n",
    "                                                                    1 if ('камера' or 'видеокамера' and 'заднего' and 'вида') in x else 0)\n",
    "data_temp['amg'] = data_temp['description_word'].apply(lambda x:\n",
    "                                                       1 if ('amg') in x else 0)\n",
    "data_temp['bi_xenon_headlights'] = data_temp['description_word'].apply(lambda x:\n",
    "                                                                       1 if ('биксеноновые' and 'фары') in x else 0)\n",
    "data_temp['alloy_wheels'] = data_temp['description_word'].apply(lambda x:\n",
    "                                                                1 if ('легкосплавные' or 'колесные' or 'диски') in x else 0)\n",
    "data_temp['parking_sensors'] = data_temp['description_word'].apply(lambda x:\n",
    "                                                                   1 if ('парктроник' or 'парктронник') in x else 0)\n",
    "data_temp['dents'] = data_temp['description_word'].apply(lambda x:\n",
    "                                                         1 if ('вмятины' or 'вмятина' or 'царапина' or 'царапины' or 'трещина') in x else 0)\n",
    "data_temp['roof_with_panoramic_view'] = data_temp['description_word'].apply(\n",
    "    lambda x: 1 if ('панорамная' and 'крыша') in x else 0)\n",
    "data_temp.drop(['description', 'description_word'], axis=1, inplace=True)\n",
    "\n",
    "# engineDisplacement\n",
    "data_temp['engineDisplacement'] = data_temp['engineDisplacement'].apply(\n",
    "    change_ltr).astype('float64')\n",
    "\n",
    "# enginePower\n",
    "data_temp['enginePower'] = data_temp['enginePower'].apply(\n",
    "    change_n12).astype('int64')\n",
    "\n",
    "# equipment_dict\n",
    "data_temp['equipment_dict'].fillna(\"{}\", inplace=True)\n",
    "data_temp['equipment_dict'] = data_temp['equipment_dict'].apply(\n",
    "    lambda x: len(x))\n",
    "\n",
    "# fuelType\n",
    "col_dum.append('fuelType')\n",
    "\n",
    "# image\n",
    "data_temp['image'].fillna(\n",
    "    data_temp['image'].value_counts().index[0], inplace=True)\n",
    "data_temp['image'] = data_temp['image'].apply(\n",
    "    lambda x: 1 if 'avatars' in x else 0)\n",
    "\n",
    "# mileage\n",
    "# log_f('mileage')\n",
    "\n",
    "# modelDate\n",
    "# log_f('modelDate')\n",
    "\n",
    "# model_info\n",
    "data_temp['model_info'].fillna('{}', inplace=True)\n",
    "data_temp['model_info'] = data_temp['model_info'].apply(lambda x: len(x))\n",
    "\n",
    "# model_name\n",
    "col_en.append('model_name')\n",
    "\n",
    "# name\n",
    "data_temp.drop('name', axis=1, inplace=True)\n",
    "\n",
    "# numberOfDoors\n",
    "\n",
    "# parsing_unixtime\n",
    "data_temp.drop('parsing_unixtime', axis=1, inplace=True)\n",
    "\n",
    "# priceCurrency\n",
    "data_temp.drop('priceCurrency', axis=1, inplace=True)\n",
    "\n",
    "# productionDate\n",
    "\n",
    "# sell_id\n",
    "data_temp['sell_id'].fillna(0, inplace=True)\n",
    "data_temp['sell_id'] = data_temp['sell_id'].astype('float64')\n",
    "\n",
    "# super_gen  Отсутствие данных ,корреляция с price ,метрика хуже - закомменитровал\n",
    "# data_temp['super_gen'].fillna('{}',inplace = True)\n",
    "# data_temp['super_gen'] = data_temp['super_gen'].apply(to_dict)\n",
    "# data_temp['price_segment'] = data_temp['super_gen'].apply(lambda x: get_val(x, 'price_segment', 'absent'))\n",
    "# data_temp['gear_type'] = data_temp['super_gen'].apply(lambda x: get_val(x, 'gear_type', 'absent'))\n",
    "# data_temp['acceleration'] = data_temp['super_gen'].apply(lambda x: get_val(x,'acceleration',0))\n",
    "# data_temp['clearance_min'] = data_temp['super_gen'].apply(lambda x: get_val(x,'clearance_min',0))\n",
    "# data_temp['clearance_max'] = data_temp['super_gen'].apply(lambda x: get_val(x,'clearance_max',0))\n",
    "# data_temp['fuel_rate'] = data_temp['super_gen'].apply(lambda x: get_val(x,'fuel_rate',0))\n",
    "# col_dum.append('price_segment')\n",
    "# col_dum.append('gear_type')\n",
    "#data_temp['super_gen'] = data_temp['super_gen'].apply(lambda x: len(x))\n",
    "data_temp.drop('super_gen', axis=1, inplace=True)\n",
    "\n",
    "# vehicleConfiguration\n",
    "data_temp.drop(['vehicleConfiguration'], axis=1, inplace=True)\n",
    "\n",
    "# vehicleTransmission\n",
    "col_dum.append('vehicleTransmission')\n",
    "\n",
    "# vendor\n",
    "vendors = {'ford': 'american', 'hyundai': 'korean', 'nissan': 'japanese', 'peugeot': 'european', 'porsche': 'european', 'renault': 'european', 'skoda': 'european', 'toyota': 'japanese', 'volkswagen': 'european',\n",
    "           'volvo': 'european', 'great_wall': 'chinese', 'land_rover': 'european', 'mercedes': 'european'}\n",
    "data_temp['vendor'].fillna(data['brand'].map(vendors), inplace=True)\n",
    "col_dum.append('vendor')\n",
    "\n",
    "# Владельцы\n",
    "data_temp['Владельцы'].fillna('0', inplace=True)\n",
    "data_temp['Владельцы'] = data_temp['Владельцы'].apply(\n",
    "    change_own).astype('int64')\n",
    "\n",
    "# Владение\n",
    "# data_temp['Владение'].fillna('0',inplace = True)\n",
    "# data_temp['Владение'] = data_temp['Владение'].apply(transform).astype('int64')\n",
    "data_temp.drop('Владение', axis=1, inplace=True)\n",
    "\n",
    "# ПТС\n",
    "data_temp['ПТС'].fillna('оригинал', inplace=True)\n",
    "data_temp['ПТС'] = data_temp['ПТС'].apply(lambda x: 'оригинал' if x in [\n",
    "                                          'original', 'оригинал'] else 'дубликат')\n",
    "col_dum.append('ПТС')\n",
    "\n",
    "# Привод\n",
    "data_temp['Привод'].fillna('передний', inplace=True)\n",
    "col_dum.append('Привод')\n",
    "\n",
    "# Руль\n",
    "data_temp['Руль'].fillna('левый', inplace=True)\n",
    "col_dum.append('Руль')\n",
    "\n",
    "# Состояние\n",
    "data_temp.drop('Состояние', axis=1, inplace=True)\n",
    "\n",
    "# Таможня\n",
    "data_temp.drop('Таможня', axis=1, inplace=True)\n",
    "\n",
    "# sample\n",
    "\n",
    "# price\n",
    "data_temp['price'] = np.log(data_temp['price'] + 1)\n",
    "\n",
    "# dummy\n",
    "for col in col_dum:\n",
    "    data_temp = pd.get_dummies(data_temp, columns=[col], prefix=col)\n",
    "\n",
    "# LabelEncoder\n",
    "label_encoder = LabelEncoder()\n",
    "for col in col_en:\n",
    "    data_temp[col] = label_encoder.fit_transform(data_temp[col])\n",
    "\n",
    "# Удалить по результатам общего анализа (Ухудшает метрику)\n",
    "# del_col = ['salon','сarbon_body_kits','bodyType_кабриолет','bodyType_лимузин','bodyType_микровэн','bodyType_минивэн','bodyType_пикап','bodyType_родстер','bodyType_тарга','bodyType_фастбек','brand_volkswagen','brand_volvo',\n",
    "# 'color_коричневый','color_оранжевый','color_розовый','color_серый','fuelType_газ']\n",
    "\n",
    "#data_temp.drop(del_col,axis = 1,inplace = True)"
   ]
  },
  {
   "cell_type": "markdown",
   "metadata": {},
   "source": [
    "# 6. Model"
   ]
  },
  {
   "cell_type": "code",
   "execution_count": null,
   "metadata": {},
   "outputs": [],
   "source": [
    "% % time\n",
    "# RandomForestRegressor # best MAPE ноут/лидерборд : 10.90895 / 11.96442\n",
    "\n",
    "train_data = data_temp.query('sample == 1').drop(['sample'], axis=1)\n",
    "\n",
    "X = train_data.drop(['price'], axis=1)\n",
    "y = train_data['price'].values\n",
    "\n",
    "X_train, X_test, y_train, y_test = train_test_split(\n",
    "    X, y, test_size=0.2, shuffle=True, random_state=RANDOM_SEED)\n",
    "\n",
    "model = RandomForestRegressor(\n",
    "    n_estimators=300, verbose=1, n_jobs=-1, random_state=RANDOM_SEED)\n",
    "model.fit(X_train, y_train)\n",
    "\n",
    "y_pred = model.predict(X_test)\n",
    "\n",
    "y_test = np.round(np.exp(y_test))\n",
    "y_pred = np.round(np.exp(y_pred))\n",
    "\n",
    "print(f'MAPE: {np.round(mape(y_test,y_pred),5)}')\n",
    "\n",
    "# в RandomForestRegressor есть возможность вывести самые важные признаки для модели\n",
    "plt.rcParams['figure.figsize'] = (5, 5)\n",
    "feat_importances = pd.Series(model.feature_importances_, index=X.columns)\n",
    "feat_importances.nlargest(20).plot(kind='barh')"
   ]
  },
  {
   "cell_type": "markdown",
   "metadata": {},
   "source": [
    "## Подбор параметров \n",
    "Не дал лучших результатов метрики на лидерборде"
   ]
  },
  {
   "cell_type": "code",
   "execution_count": null,
   "metadata": {},
   "outputs": [],
   "source": [
    "# train_data = data_temp.query('sample == 1').drop(['sample'], axis=1)\n",
    "\n",
    "# X = train_data.drop(['price'], axis=1)\n",
    "# y = train_data['price'].values\n",
    "\n",
    "# X_train, X_test, y_train, y_test = train_test_split(X, y, test_size=0.2, shuffle=True, random_state=RANDOM_SEED)\n",
    "\n",
    "# n_estimators = [x for x in range(100, 550, 50)]\n",
    "# max_features = ['auto', 'sqrt']\n",
    "# max_depth = [int(x) for x in np.linspace(10, 110, num=10)]\n",
    "# max_depth.append(None)\n",
    "# bootstrap = [True, False]\n",
    "# random_grid = {'n_estimators': n_estimators,\n",
    "#                'max_features': max_features,\n",
    "#                'max_depth': max_depth,\n",
    "#                'bootstrap': bootstrap}\n",
    "\n",
    "# rf = RandomForestRegressor(random_state=RANDOM_SEED)\n",
    "# rf_random = RandomizedSearchCV(estimator=rf, param_distributions=random_grid, n_iter=100, cv=3, verbose=2,\n",
    "#                                random_state=RANDOM_SEED, n_jobs=-1)\n",
    "# rf_random.fit(X_train, y_train)\n",
    "\n",
    "# print(rf_random.best_params_)"
   ]
  },
  {
   "cell_type": "markdown",
   "metadata": {},
   "source": [
    "{'bootstrap': True,\n",
    "'max_depth': 98,\n",
    "'max_features': 'auto',\n",
    "'n_estimators': 500}"
   ]
  },
  {
   "cell_type": "markdown",
   "metadata": {},
   "source": [
    "## **Stacking** \n",
    "Результат метрики в ноутбуке выше,но на лидерборде ниже. Оставляю только RandomForestRegressor(n_estimators=300, verbose=1, n_jobs=-1, random_state=RANDOM_SEED)"
   ]
  },
  {
   "cell_type": "code",
   "execution_count": null,
   "metadata": {},
   "outputs": [],
   "source": [
    "# def compute_meta_feature(clf, X_train, X_test, y_train, cv):\n",
    "\n",
    "#     X_meta_train = np.zeros_like(y_train, dtype=np.float32)\n",
    "#     for train_fold_index, predict_fold_index in cv.split(X_train):\n",
    "#         X_fold_train, X_fold_predict = X_train[train_fold_index], X_train[predict_fold_index]\n",
    "#         y_fold_train = y_train[train_fold_index]\n",
    "\n",
    "#         folded_clf = clone(clf)\n",
    "#         folded_clf.fit(X_fold_train, y_fold_train)\n",
    "#         X_meta_train[predict_fold_index] = folded_clf.predict(X_fold_predict)\n",
    "\n",
    "#     meta_clf = clone(clf)\n",
    "#     meta_clf.fit(X_train, y_train)\n",
    "\n",
    "#     X_meta_test = meta_clf.predict(X_test)\n",
    "\n",
    "#     return X_meta_train, X_meta_test\n",
    "\n",
    "\n",
    "# def generate_metafeatures(classifiers, X_train, X_test, y_train, cv):\n",
    "\n",
    "#     features = [\n",
    "#         compute_meta_feature(clf, X_train, X_test, y_train, cv)\n",
    "#         for clf in tqdm(classifiers)\n",
    "#     ]\n",
    "\n",
    "#     stacked_features_train = np.vstack([\n",
    "#         features_train for features_train, features_test in features\n",
    "#     ]).T\n",
    "\n",
    "#     stacked_features_test = np.vstack([\n",
    "#         features_test for features_train, features_test in features\n",
    "#     ]).T\n",
    "\n",
    "#     return stacked_features_train, stacked_features_test\n",
    "\n",
    "# models = [\n",
    "#     RandomForestRegressor(n_estimators=300, n_jobs=-1, random_state=RANDOM_SEED),\n",
    "#     BaggingRegressor(ExtraTreeRegressor(random_state=RANDOM_SEED), random_state=RANDOM_SEED),\n",
    "#     CatBoostRegressor(iterations = 5000,learning_rate = 0.1,random_seed = RANDOM_SEED,eval_metric='MAPE',logging_level='Silent'),\n",
    "#     GradientBoostingRegressor(n_estimators=300, random_state=RANDOM_SEED)\n",
    "# ]\n",
    "\n",
    "# train_data = data_temp.query('sample == 1').drop(['sample'], axis=1)\n",
    "\n",
    "# X = train_data.drop(['price'], axis=1)\n",
    "# y = train_data['price'].values\n",
    "\n",
    "# X_train, X_test, y_train, y_test = train_test_split(X, y, test_size=0.5, random_state=RANDOM_SEED)\n",
    "\n",
    "# cv = KFold(n_splits=3, shuffle=True)\n",
    "\n",
    "# stacked_features_train, stacked_features_test = generate_metafeatures(models, X_train.values, X_test.values, y_train, cv)\n",
    "\n",
    "# clf = LinearRegression(n_jobs = -1)\n",
    "# clf.fit(stacked_features_train, y_train)\n",
    "# y_pred = clf.predict(stacked_features_test)\n",
    "\n",
    "# y_test = np.round(np.exp(y_test))\n",
    "# y_pred = np.round(np.exp(y_pred))\n",
    "\n",
    "# print(f'MAPE: {np.round(mape(y_test, y_pred), 5)}')"
   ]
  },
  {
   "cell_type": "markdown",
   "metadata": {},
   "source": [
    "# 7. Submission"
   ]
  },
  {
   "cell_type": "code",
   "execution_count": null,
   "metadata": {},
   "outputs": [],
   "source": [
    "X_sub = data_temp.query('sample == 0').drop(['sample', 'price'], axis=1)\n",
    "\n",
    "predict_submission = model.predict(X_sub)\n",
    "\n",
    "predict_submission = np.round(np.exp(predict_submission))\n",
    "\n",
    "sample_submission['price'] = predict_submission\n",
    "sample_submission.to_csv(f'submission.csv', index=False)\n",
    "sample_submission.head(10)"
   ]
  }
 ],
 "metadata": {
  "kernelspec": {
   "display_name": "Python 3",
   "language": "python",
   "name": "python3"
  },
  "language_info": {
   "codemirror_mode": {
    "name": "ipython",
    "version": 3
   },
   "file_extension": ".py",
   "mimetype": "text/x-python",
   "name": "python",
   "nbconvert_exporter": "python",
   "pygments_lexer": "ipython3",
   "version": "3.8.3"
  }
 },
 "nbformat": 4,
 "nbformat_minor": 4
}
