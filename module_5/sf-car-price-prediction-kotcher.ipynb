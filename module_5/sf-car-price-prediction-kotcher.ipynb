{
 "cells": [
  {
   "cell_type": "markdown",
   "metadata": {},
   "source": [
    "# Прогнозирование стоимости автомобиля по его характеристикам\n",
    "\n",
    "### Задачи:  \n",
    "1. Спарсить данные по автомобилям с сайта auto.ru  \n",
    "2. Подобрать и обучить модель по собранным данным для прогнозирования стоимости авто. Метрика MAPE.\n",
    "\n"
   ]
  },
  {
   "cell_type": "markdown",
   "metadata": {},
   "source": [
    "# 1. Tools"
   ]
  },
  {
   "cell_type": "code",
   "execution_count": 110,
   "metadata": {},
   "outputs": [],
   "source": [
    "import seaborn as sns\n",
    "import ast\n",
    "import json\n",
    "import matplotlib.pyplot as plt\n",
    "import numpy as np\n",
    "import pandas as pd\n",
    "import sys\n",
    "from sklearn.linear_model import LinearRegression\n",
    "from sklearn.ensemble import RandomForestRegressor, BaggingRegressor, GradientBoostingRegressor\n",
    "from sklearn.model_selection import KFold, train_test_split\n",
    "from catboost import CatBoostRegressor\n",
    "from sklearn.tree import ExtraTreeRegressor\n",
    "from sklearn.preprocessing import LabelEncoder\n",
    "import re\n",
    "from sklearn.base import clone\n",
    "import datetime as dt\n",
    "from sklearn.feature_selection import f_classif  # проверить значимость переменных\n",
    "from itertools import combinations\n",
    "from scipy.stats import ttest_ind  # тест Стьюдента\n",
    "\n",
    "import warnings\n",
    "warnings.filterwarnings('ignore')\n",
    "\n",
    "%matplotlib inline\n",
    "\n",
    "\n",
    "# зафиксируем версию пакетов, чтобы эксперименты были воспроизводимы:\n",
    "!pip freeze > requirements.txt\n",
    "\n",
    "RANDOM_SEED = 42"
   ]
  },
  {
   "cell_type": "markdown",
   "metadata": {},
   "source": [
    "# 2. Data preparation"
   ]
  },
  {
   "cell_type": "code",
   "execution_count": 111,
   "metadata": {},
   "outputs": [],
   "source": [
    "df_train = pd.read_csv(\n",
    "    'parsing_all_moscow_auto_ru_25_11_20.csv')  # спарсил сам\n",
    "# дополнительный внешний\n",
    "df_train_dop = pd.read_csv('all_auto_ru_09_09_2020.csv')\n",
    "df_test = pd.read_csv('test.csv')  # тестовый для прогнозирования цен\n",
    "sample_submission = pd.read_csv('sample_submission.csv')"
   ]
  },
  {
   "cell_type": "code",
   "execution_count": 112,
   "metadata": {},
   "outputs": [
    {
     "name": "stdout",
     "output_type": "stream",
     "text": [
      "<class 'pandas.core.frame.DataFrame'>\n",
      "RangeIndex: 34686 entries, 0 to 34685\n",
      "Data columns (total 32 columns):\n",
      " #   Column                Non-Null Count  Dtype \n",
      "---  ------                --------------  ----- \n",
      " 0   bodyType              34686 non-null  object\n",
      " 1   brand                 34686 non-null  object\n",
      " 2   car_url               34686 non-null  object\n",
      " 3   color                 34686 non-null  object\n",
      " 4   complectation_dict    6418 non-null   object\n",
      " 5   description           34686 non-null  object\n",
      " 6   engineDisplacement    34686 non-null  object\n",
      " 7   enginePower           34686 non-null  object\n",
      " 8   equipment_dict        24690 non-null  object\n",
      " 9   fuelType              34686 non-null  object\n",
      " 10  image                 34686 non-null  object\n",
      " 11  mileage               34686 non-null  int64 \n",
      " 12  modelDate             34686 non-null  int64 \n",
      " 13  model_info            34686 non-null  object\n",
      " 14  model_name            34686 non-null  object\n",
      " 15  name                  34686 non-null  object\n",
      " 16  numberOfDoors         34686 non-null  int64 \n",
      " 17  parsing_unixtime      34686 non-null  int64 \n",
      " 18  priceCurrency         34686 non-null  object\n",
      " 19  productionDate        34686 non-null  int64 \n",
      " 20  sell_id               34686 non-null  int64 \n",
      " 21  super_gen             34686 non-null  object\n",
      " 22  vehicleConfiguration  34686 non-null  object\n",
      " 23  vehicleTransmission   34686 non-null  object\n",
      " 24  vendor                34686 non-null  object\n",
      " 25  Владельцы             34686 non-null  object\n",
      " 26  Владение              11995 non-null  object\n",
      " 27  ПТС                   34685 non-null  object\n",
      " 28  Привод                34686 non-null  object\n",
      " 29  Руль                  34686 non-null  object\n",
      " 30  Состояние             34686 non-null  object\n",
      " 31  Таможня               34686 non-null  object\n",
      "dtypes: int64(6), object(26)\n",
      "memory usage: 8.5+ MB\n"
     ]
    }
   ],
   "source": [
    "df_test.info()"
   ]
  },
  {
   "cell_type": "markdown",
   "metadata": {},
   "source": [
    "Всего 34686 записей и 32 признака"
   ]
  },
  {
   "cell_type": "code",
   "execution_count": 113,
   "metadata": {},
   "outputs": [
    {
     "data": {
      "text/html": [
       "<div>\n",
       "<style scoped>\n",
       "    .dataframe tbody tr th:only-of-type {\n",
       "        vertical-align: middle;\n",
       "    }\n",
       "\n",
       "    .dataframe tbody tr th {\n",
       "        vertical-align: top;\n",
       "    }\n",
       "\n",
       "    .dataframe thead th {\n",
       "        text-align: right;\n",
       "    }\n",
       "</style>\n",
       "<table border=\"1\" class=\"dataframe\">\n",
       "  <thead>\n",
       "    <tr style=\"text-align: right;\">\n",
       "      <th></th>\n",
       "      <th>bodyType</th>\n",
       "      <th>brand</th>\n",
       "      <th>car_url</th>\n",
       "      <th>color</th>\n",
       "      <th>complectation_dict</th>\n",
       "      <th>description</th>\n",
       "      <th>engineDisplacement</th>\n",
       "      <th>enginePower</th>\n",
       "      <th>equipment_dict</th>\n",
       "      <th>fuelType</th>\n",
       "      <th>...</th>\n",
       "      <th>vehicleConfiguration</th>\n",
       "      <th>vehicleTransmission</th>\n",
       "      <th>vendor</th>\n",
       "      <th>Владельцы</th>\n",
       "      <th>Владение</th>\n",
       "      <th>ПТС</th>\n",
       "      <th>Привод</th>\n",
       "      <th>Руль</th>\n",
       "      <th>Состояние</th>\n",
       "      <th>Таможня</th>\n",
       "    </tr>\n",
       "  </thead>\n",
       "  <tbody>\n",
       "    <tr>\n",
       "      <th>0</th>\n",
       "      <td>лифтбек</td>\n",
       "      <td>SKODA</td>\n",
       "      <td>https://auto.ru/cars/used/sale/skoda/octavia/1...</td>\n",
       "      <td>синий</td>\n",
       "      <td>NaN</td>\n",
       "      <td>Все автомобили, представленные в продаже, прох...</td>\n",
       "      <td>1.2 LTR</td>\n",
       "      <td>105 N12</td>\n",
       "      <td>{\"engine-proof\":true,\"tinted-glass\":true,\"airb...</td>\n",
       "      <td>бензин</td>\n",
       "      <td>...</td>\n",
       "      <td>LIFTBACK ROBOT 1.2</td>\n",
       "      <td>роботизированная</td>\n",
       "      <td>EUROPEAN</td>\n",
       "      <td>3 или более</td>\n",
       "      <td>NaN</td>\n",
       "      <td>Оригинал</td>\n",
       "      <td>передний</td>\n",
       "      <td>Левый</td>\n",
       "      <td>Не требует ремонта</td>\n",
       "      <td>Растаможен</td>\n",
       "    </tr>\n",
       "    <tr>\n",
       "      <th>1</th>\n",
       "      <td>лифтбек</td>\n",
       "      <td>SKODA</td>\n",
       "      <td>https://auto.ru/cars/used/sale/skoda/octavia/1...</td>\n",
       "      <td>чёрный</td>\n",
       "      <td>NaN</td>\n",
       "      <td>ЛОТ: 01217195\\nАвтопрага Север\\nДанный автомоб...</td>\n",
       "      <td>1.6 LTR</td>\n",
       "      <td>110 N12</td>\n",
       "      <td>{\"cruise-control\":true,\"asr\":true,\"esp\":true,\"...</td>\n",
       "      <td>бензин</td>\n",
       "      <td>...</td>\n",
       "      <td>LIFTBACK MECHANICAL 1.6</td>\n",
       "      <td>механическая</td>\n",
       "      <td>EUROPEAN</td>\n",
       "      <td>1 владелец</td>\n",
       "      <td>NaN</td>\n",
       "      <td>Оригинал</td>\n",
       "      <td>передний</td>\n",
       "      <td>Левый</td>\n",
       "      <td>Не требует ремонта</td>\n",
       "      <td>Растаможен</td>\n",
       "    </tr>\n",
       "    <tr>\n",
       "      <th>2</th>\n",
       "      <td>лифтбек</td>\n",
       "      <td>SKODA</td>\n",
       "      <td>https://auto.ru/cars/used/sale/skoda/superb/11...</td>\n",
       "      <td>серый</td>\n",
       "      <td>{\"id\":\"20026336\",\"name\":\"Ambition\",\"available_...</td>\n",
       "      <td>Все автомобили, представленные в продаже, прох...</td>\n",
       "      <td>1.8 LTR</td>\n",
       "      <td>152 N12</td>\n",
       "      <td>{\"cruise-control\":true,\"tinted-glass\":true,\"es...</td>\n",
       "      <td>бензин</td>\n",
       "      <td>...</td>\n",
       "      <td>LIFTBACK ROBOT 1.8</td>\n",
       "      <td>роботизированная</td>\n",
       "      <td>EUROPEAN</td>\n",
       "      <td>1 владелец</td>\n",
       "      <td>NaN</td>\n",
       "      <td>Оригинал</td>\n",
       "      <td>передний</td>\n",
       "      <td>Левый</td>\n",
       "      <td>Не требует ремонта</td>\n",
       "      <td>Растаможен</td>\n",
       "    </tr>\n",
       "  </tbody>\n",
       "</table>\n",
       "<p>3 rows × 32 columns</p>\n",
       "</div>"
      ],
      "text/plain": [
       "  bodyType  brand                                            car_url   color  \\\n",
       "0  лифтбек  SKODA  https://auto.ru/cars/used/sale/skoda/octavia/1...   синий   \n",
       "1  лифтбек  SKODA  https://auto.ru/cars/used/sale/skoda/octavia/1...  чёрный   \n",
       "2  лифтбек  SKODA  https://auto.ru/cars/used/sale/skoda/superb/11...   серый   \n",
       "\n",
       "                                  complectation_dict  \\\n",
       "0                                                NaN   \n",
       "1                                                NaN   \n",
       "2  {\"id\":\"20026336\",\"name\":\"Ambition\",\"available_...   \n",
       "\n",
       "                                         description engineDisplacement  \\\n",
       "0  Все автомобили, представленные в продаже, прох...            1.2 LTR   \n",
       "1  ЛОТ: 01217195\\nАвтопрага Север\\nДанный автомоб...            1.6 LTR   \n",
       "2  Все автомобили, представленные в продаже, прох...            1.8 LTR   \n",
       "\n",
       "  enginePower                                     equipment_dict fuelType  \\\n",
       "0     105 N12  {\"engine-proof\":true,\"tinted-glass\":true,\"airb...   бензин   \n",
       "1     110 N12  {\"cruise-control\":true,\"asr\":true,\"esp\":true,\"...   бензин   \n",
       "2     152 N12  {\"cruise-control\":true,\"tinted-glass\":true,\"es...   бензин   \n",
       "\n",
       "   ...     vehicleConfiguration  vehicleTransmission    vendor    Владельцы  \\\n",
       "0  ...       LIFTBACK ROBOT 1.2     роботизированная  EUROPEAN  3 или более   \n",
       "1  ...  LIFTBACK MECHANICAL 1.6         механическая  EUROPEAN   1 владелец   \n",
       "2  ...       LIFTBACK ROBOT 1.8     роботизированная  EUROPEAN   1 владелец   \n",
       "\n",
       "  Владение       ПТС    Привод   Руль           Состояние     Таможня  \n",
       "0      NaN  Оригинал  передний  Левый  Не требует ремонта  Растаможен  \n",
       "1      NaN  Оригинал  передний  Левый  Не требует ремонта  Растаможен  \n",
       "2      NaN  Оригинал  передний  Левый  Не требует ремонта  Растаможен  \n",
       "\n",
       "[3 rows x 32 columns]"
      ]
     },
     "execution_count": 113,
     "metadata": {},
     "output_type": "execute_result"
    }
   ],
   "source": [
    "df_test.head(3)"
   ]
  },
  {
   "cell_type": "code",
   "execution_count": 114,
   "metadata": {},
   "outputs": [
    {
     "name": "stdout",
     "output_type": "stream",
     "text": [
      "<class 'pandas.core.frame.DataFrame'>\n",
      "RangeIndex: 66584 entries, 0 to 66583\n",
      "Data columns (total 37 columns):\n",
      " #   Column                Non-Null Count  Dtype  \n",
      "---  ------                --------------  -----  \n",
      " 0   bodyType              66581 non-null  object \n",
      " 1   brand                 66582 non-null  object \n",
      " 2   color                 66582 non-null  object \n",
      " 3   fuelType              66581 non-null  object \n",
      " 4   image                 66581 non-null  object \n",
      " 5   modelDate             66581 non-null  float64\n",
      " 6   name                  66582 non-null  object \n",
      " 7   numberOfDoors         66581 non-null  float64\n",
      " 8   productionDate        66582 non-null  float64\n",
      " 9   vehicleConfiguration  66581 non-null  object \n",
      " 10  vehicleTransmission   66581 non-null  object \n",
      " 11  priceCurrency         66582 non-null  object \n",
      " 12  engineDisplacement    66582 non-null  object \n",
      " 13  enginePower           66582 non-null  object \n",
      " 14  description           66581 non-null  object \n",
      " 15  car_url               66584 non-null  object \n",
      " 16  mileage               66582 non-null  float64\n",
      " 17  sell_id               66581 non-null  float64\n",
      " 18  model_name            66582 non-null  object \n",
      " 19  Владельцы             52090 non-null  float64\n",
      " 20  Владение              16915 non-null  object \n",
      " 21  ПТС                   52096 non-null  object \n",
      " 22  Привод                52095 non-null  object \n",
      " 23  Руль                  52096 non-null  object \n",
      " 24  Состояние             52096 non-null  object \n",
      " 25  Таможня               52096 non-null  object \n",
      " 26  parsing_unixtime      66584 non-null  int64  \n",
      " 27  complectation_dict    66504 non-null  object \n",
      " 28  equipment_dict        66581 non-null  object \n",
      " 29  equipment_groups      53469 non-null  object \n",
      " 30  super_gen             66580 non-null  object \n",
      " 31  vendor                66424 non-null  object \n",
      " 32  model_info            66581 non-null  object \n",
      " 33  plus_minus            66582 non-null  object \n",
      " 34  damages               5986 non-null   object \n",
      " 35  price_info            66581 non-null  object \n",
      " 36  price                 66286 non-null  float64\n",
      "dtypes: float64(7), int64(1), object(29)\n",
      "memory usage: 18.8+ MB\n"
     ]
    }
   ],
   "source": [
    "df_train.info()"
   ]
  },
  {
   "cell_type": "markdown",
   "metadata": {},
   "source": [
    "37 признаков"
   ]
  },
  {
   "cell_type": "markdown",
   "metadata": {},
   "source": [
    "Всего 66584 записей и 37 признаков"
   ]
  },
  {
   "cell_type": "code",
   "execution_count": 115,
   "metadata": {},
   "outputs": [
    {
     "data": {
      "text/html": [
       "<div>\n",
       "<style scoped>\n",
       "    .dataframe tbody tr th:only-of-type {\n",
       "        vertical-align: middle;\n",
       "    }\n",
       "\n",
       "    .dataframe tbody tr th {\n",
       "        vertical-align: top;\n",
       "    }\n",
       "\n",
       "    .dataframe thead th {\n",
       "        text-align: right;\n",
       "    }\n",
       "</style>\n",
       "<table border=\"1\" class=\"dataframe\">\n",
       "  <thead>\n",
       "    <tr style=\"text-align: right;\">\n",
       "      <th></th>\n",
       "      <th>bodyType</th>\n",
       "      <th>brand</th>\n",
       "      <th>color</th>\n",
       "      <th>fuelType</th>\n",
       "      <th>image</th>\n",
       "      <th>modelDate</th>\n",
       "      <th>name</th>\n",
       "      <th>numberOfDoors</th>\n",
       "      <th>productionDate</th>\n",
       "      <th>vehicleConfiguration</th>\n",
       "      <th>...</th>\n",
       "      <th>complectation_dict</th>\n",
       "      <th>equipment_dict</th>\n",
       "      <th>equipment_groups</th>\n",
       "      <th>super_gen</th>\n",
       "      <th>vendor</th>\n",
       "      <th>model_info</th>\n",
       "      <th>plus_minus</th>\n",
       "      <th>damages</th>\n",
       "      <th>price_info</th>\n",
       "      <th>price</th>\n",
       "    </tr>\n",
       "  </thead>\n",
       "  <tbody>\n",
       "    <tr>\n",
       "      <th>0</th>\n",
       "      <td>седан</td>\n",
       "      <td>AUDI</td>\n",
       "      <td>чёрный</td>\n",
       "      <td>бензин</td>\n",
       "      <td>https://autoru.naydex.net/1dJf7U276/c2f0f2dGK_...</td>\n",
       "      <td>1991.0</td>\n",
       "      <td>2.3 MT (133 л.с.)</td>\n",
       "      <td>4.0</td>\n",
       "      <td>1991.0</td>\n",
       "      <td>SEDAN MECHANICAL 2.3</td>\n",
       "      <td>...</td>\n",
       "      <td>{'id': '0'}</td>\n",
       "      <td>{}</td>\n",
       "      <td>NaN</td>\n",
       "      <td>{'id': '7878108', 'name': 'V (B4)', 'ru_name':...</td>\n",
       "      <td>EUROPEAN</td>\n",
       "      <td>{'code': '80', 'name': '80', 'ru_name': '80', ...</td>\n",
       "      <td>{'positive': [{'name': 'Качество сборки', 'plu...</td>\n",
       "      <td>NaN</td>\n",
       "      <td>{'price': 165000, 'currency': 'RUR', 'EUR': 18...</td>\n",
       "      <td>165000.0</td>\n",
       "    </tr>\n",
       "    <tr>\n",
       "      <th>1</th>\n",
       "      <td>седан</td>\n",
       "      <td>AUDI</td>\n",
       "      <td>синий</td>\n",
       "      <td>бензин</td>\n",
       "      <td>https://autoru.naydex.net/1dJf7U276/c2f0f2dGK_...</td>\n",
       "      <td>1986.0</td>\n",
       "      <td>1.8 MT (90 л.с.)</td>\n",
       "      <td>4.0</td>\n",
       "      <td>1991.0</td>\n",
       "      <td>SEDAN MECHANICAL 1.8</td>\n",
       "      <td>...</td>\n",
       "      <td>{'id': '0'}</td>\n",
       "      <td>{'driver-seat-updown': True, 'tinted-glass': T...</td>\n",
       "      <td>[{'name': 'Салон', 'values': ['Регулировка сид...</td>\n",
       "      <td>{'id': '7892649', 'name': 'IV (B3)', 'ru_name'...</td>\n",
       "      <td>EUROPEAN</td>\n",
       "      <td>{'code': '80', 'name': '80', 'ru_name': '80', ...</td>\n",
       "      <td>{'positive': [{'name': 'Надежность', 'plus_cou...</td>\n",
       "      <td>NaN</td>\n",
       "      <td>{'price': 155000, 'currency': 'RUR', 'EUR': 17...</td>\n",
       "      <td>155000.0</td>\n",
       "    </tr>\n",
       "    <tr>\n",
       "      <th>2</th>\n",
       "      <td>седан</td>\n",
       "      <td>AUDI</td>\n",
       "      <td>зелёный</td>\n",
       "      <td>бензин</td>\n",
       "      <td>https://avatars.mds.yandex.net/get-autoru-vos/...</td>\n",
       "      <td>1986.0</td>\n",
       "      <td>2.0 AT (112 л.с.)</td>\n",
       "      <td>4.0</td>\n",
       "      <td>1991.0</td>\n",
       "      <td>SEDAN AUTOMATIC 2.0</td>\n",
       "      <td>...</td>\n",
       "      <td>{'id': '0'}</td>\n",
       "      <td>{}</td>\n",
       "      <td>NaN</td>\n",
       "      <td>{'id': '7892649', 'name': 'IV (B3)', 'ru_name'...</td>\n",
       "      <td>EUROPEAN</td>\n",
       "      <td>{'code': '80', 'name': '80', 'ru_name': '80', ...</td>\n",
       "      <td>{'positive': [{'name': 'Надежность', 'plus_cou...</td>\n",
       "      <td>NaN</td>\n",
       "      <td>{'price': 75000, 'currency': 'RUR', 'EUR': 834...</td>\n",
       "      <td>75000.0</td>\n",
       "    </tr>\n",
       "  </tbody>\n",
       "</table>\n",
       "<p>3 rows × 37 columns</p>\n",
       "</div>"
      ],
      "text/plain": [
       "  bodyType brand    color fuelType  \\\n",
       "0    седан  AUDI   чёрный   бензин   \n",
       "1    седан  AUDI    синий   бензин   \n",
       "2    седан  AUDI  зелёный   бензин   \n",
       "\n",
       "                                               image  modelDate  \\\n",
       "0  https://autoru.naydex.net/1dJf7U276/c2f0f2dGK_...     1991.0   \n",
       "1  https://autoru.naydex.net/1dJf7U276/c2f0f2dGK_...     1986.0   \n",
       "2  https://avatars.mds.yandex.net/get-autoru-vos/...     1986.0   \n",
       "\n",
       "                name  numberOfDoors  productionDate  vehicleConfiguration  \\\n",
       "0  2.3 MT (133 л.с.)            4.0          1991.0  SEDAN MECHANICAL 2.3   \n",
       "1   1.8 MT (90 л.с.)            4.0          1991.0  SEDAN MECHANICAL 1.8   \n",
       "2  2.0 AT (112 л.с.)            4.0          1991.0   SEDAN AUTOMATIC 2.0   \n",
       "\n",
       "   ... complectation_dict                                     equipment_dict  \\\n",
       "0  ...        {'id': '0'}                                                 {}   \n",
       "1  ...        {'id': '0'}  {'driver-seat-updown': True, 'tinted-glass': T...   \n",
       "2  ...        {'id': '0'}                                                 {}   \n",
       "\n",
       "                                    equipment_groups  \\\n",
       "0                                                NaN   \n",
       "1  [{'name': 'Салон', 'values': ['Регулировка сид...   \n",
       "2                                                NaN   \n",
       "\n",
       "                                           super_gen    vendor  \\\n",
       "0  {'id': '7878108', 'name': 'V (B4)', 'ru_name':...  EUROPEAN   \n",
       "1  {'id': '7892649', 'name': 'IV (B3)', 'ru_name'...  EUROPEAN   \n",
       "2  {'id': '7892649', 'name': 'IV (B3)', 'ru_name'...  EUROPEAN   \n",
       "\n",
       "                                          model_info  \\\n",
       "0  {'code': '80', 'name': '80', 'ru_name': '80', ...   \n",
       "1  {'code': '80', 'name': '80', 'ru_name': '80', ...   \n",
       "2  {'code': '80', 'name': '80', 'ru_name': '80', ...   \n",
       "\n",
       "                                          plus_minus  damages  \\\n",
       "0  {'positive': [{'name': 'Качество сборки', 'plu...      NaN   \n",
       "1  {'positive': [{'name': 'Надежность', 'plus_cou...      NaN   \n",
       "2  {'positive': [{'name': 'Надежность', 'plus_cou...      NaN   \n",
       "\n",
       "                                          price_info     price  \n",
       "0  {'price': 165000, 'currency': 'RUR', 'EUR': 18...  165000.0  \n",
       "1  {'price': 155000, 'currency': 'RUR', 'EUR': 17...  155000.0  \n",
       "2  {'price': 75000, 'currency': 'RUR', 'EUR': 834...   75000.0  \n",
       "\n",
       "[3 rows x 37 columns]"
      ]
     },
     "execution_count": 115,
     "metadata": {},
     "output_type": "execute_result"
    }
   ],
   "source": [
    "df_train.head(3)"
   ]
  },
  {
   "cell_type": "code",
   "execution_count": 116,
   "metadata": {},
   "outputs": [
    {
     "name": "stdout",
     "output_type": "stream",
     "text": [
      "<class 'pandas.core.frame.DataFrame'>\n",
      "RangeIndex: 89378 entries, 0 to 89377\n",
      "Data columns (total 26 columns):\n",
      " #   Column                Non-Null Count  Dtype  \n",
      "---  ------                --------------  -----  \n",
      " 0   bodyType              89377 non-null  object \n",
      " 1   brand                 89378 non-null  object \n",
      " 2   color                 89378 non-null  object \n",
      " 3   fuelType              89378 non-null  object \n",
      " 4   modelDate             89377 non-null  float64\n",
      " 5   name                  89377 non-null  object \n",
      " 6   numberOfDoors         89377 non-null  float64\n",
      " 7   productionDate        89378 non-null  int64  \n",
      " 8   vehicleConfiguration  89377 non-null  object \n",
      " 9   vehicleTransmission   89377 non-null  object \n",
      " 10  engineDisplacement    89377 non-null  object \n",
      " 11  enginePower           89377 non-null  float64\n",
      " 12  description           86124 non-null  object \n",
      " 13  mileage               89378 non-null  int64  \n",
      " 14  Комплектация          89378 non-null  object \n",
      " 15  Привод                89377 non-null  object \n",
      " 16  Руль                  89378 non-null  object \n",
      " 17  Состояние             0 non-null      float64\n",
      " 18  Владельцы             75790 non-null  float64\n",
      " 19  ПТС                   89017 non-null  object \n",
      " 20  Таможня               89378 non-null  bool   \n",
      " 21  Владение              29201 non-null  object \n",
      " 22  price                 88968 non-null  float64\n",
      " 23  start_date            89378 non-null  object \n",
      " 24  hidden                0 non-null      float64\n",
      " 25  model                 89378 non-null  object \n",
      "dtypes: bool(1), float64(7), int64(2), object(16)\n",
      "memory usage: 17.1+ MB\n"
     ]
    }
   ],
   "source": [
    "df_train_dop.info()"
   ]
  },
  {
   "cell_type": "markdown",
   "metadata": {},
   "source": [
    "Всего 89378 записей и 26 признаков"
   ]
  },
  {
   "cell_type": "code",
   "execution_count": 117,
   "metadata": {},
   "outputs": [
    {
     "data": {
      "text/html": [
       "<div>\n",
       "<style scoped>\n",
       "    .dataframe tbody tr th:only-of-type {\n",
       "        vertical-align: middle;\n",
       "    }\n",
       "\n",
       "    .dataframe tbody tr th {\n",
       "        vertical-align: top;\n",
       "    }\n",
       "\n",
       "    .dataframe thead th {\n",
       "        text-align: right;\n",
       "    }\n",
       "</style>\n",
       "<table border=\"1\" class=\"dataframe\">\n",
       "  <thead>\n",
       "    <tr style=\"text-align: right;\">\n",
       "      <th></th>\n",
       "      <th>bodyType</th>\n",
       "      <th>brand</th>\n",
       "      <th>color</th>\n",
       "      <th>fuelType</th>\n",
       "      <th>modelDate</th>\n",
       "      <th>name</th>\n",
       "      <th>numberOfDoors</th>\n",
       "      <th>productionDate</th>\n",
       "      <th>vehicleConfiguration</th>\n",
       "      <th>vehicleTransmission</th>\n",
       "      <th>...</th>\n",
       "      <th>Руль</th>\n",
       "      <th>Состояние</th>\n",
       "      <th>Владельцы</th>\n",
       "      <th>ПТС</th>\n",
       "      <th>Таможня</th>\n",
       "      <th>Владение</th>\n",
       "      <th>price</th>\n",
       "      <th>start_date</th>\n",
       "      <th>hidden</th>\n",
       "      <th>model</th>\n",
       "    </tr>\n",
       "  </thead>\n",
       "  <tbody>\n",
       "    <tr>\n",
       "      <th>0</th>\n",
       "      <td>Седан</td>\n",
       "      <td>AUDI</td>\n",
       "      <td>040001</td>\n",
       "      <td>бензин</td>\n",
       "      <td>1990.0</td>\n",
       "      <td>2.8 MT (174 л.с.) 4WD</td>\n",
       "      <td>4.0</td>\n",
       "      <td>1991</td>\n",
       "      <td>SEDAN MECHANICAL 2.8</td>\n",
       "      <td>MECHANICAL</td>\n",
       "      <td>...</td>\n",
       "      <td>LEFT</td>\n",
       "      <td>NaN</td>\n",
       "      <td>3.0</td>\n",
       "      <td>ORIGINAL</td>\n",
       "      <td>True</td>\n",
       "      <td>NaN</td>\n",
       "      <td>200000.0</td>\n",
       "      <td>2019-10-03T08:09:11Z</td>\n",
       "      <td>NaN</td>\n",
       "      <td>100</td>\n",
       "    </tr>\n",
       "    <tr>\n",
       "      <th>1</th>\n",
       "      <td>Седан</td>\n",
       "      <td>AUDI</td>\n",
       "      <td>EE1D19</td>\n",
       "      <td>бензин</td>\n",
       "      <td>1982.0</td>\n",
       "      <td>1.8 MT (90 л.с.)</td>\n",
       "      <td>4.0</td>\n",
       "      <td>1986</td>\n",
       "      <td>SEDAN MECHANICAL 1.8</td>\n",
       "      <td>MECHANICAL</td>\n",
       "      <td>...</td>\n",
       "      <td>LEFT</td>\n",
       "      <td>NaN</td>\n",
       "      <td>3.0</td>\n",
       "      <td>ORIGINAL</td>\n",
       "      <td>True</td>\n",
       "      <td>NaN</td>\n",
       "      <td>60000.0</td>\n",
       "      <td>2020-09-06T06:49:40Z</td>\n",
       "      <td>NaN</td>\n",
       "      <td>100</td>\n",
       "    </tr>\n",
       "    <tr>\n",
       "      <th>2</th>\n",
       "      <td>Универсал 5 дв.</td>\n",
       "      <td>AUDI</td>\n",
       "      <td>0000CC</td>\n",
       "      <td>бензин</td>\n",
       "      <td>1988.0</td>\n",
       "      <td>2.3 MT (136 л.с.) 4WD</td>\n",
       "      <td>5.0</td>\n",
       "      <td>1989</td>\n",
       "      <td>WAGON_5_DOORS MECHANICAL 2.3</td>\n",
       "      <td>MECHANICAL</td>\n",
       "      <td>...</td>\n",
       "      <td>LEFT</td>\n",
       "      <td>NaN</td>\n",
       "      <td>3.0</td>\n",
       "      <td>ORIGINAL</td>\n",
       "      <td>True</td>\n",
       "      <td>NaN</td>\n",
       "      <td>99000.0</td>\n",
       "      <td>2020-09-02T14:04:21Z</td>\n",
       "      <td>NaN</td>\n",
       "      <td>100</td>\n",
       "    </tr>\n",
       "  </tbody>\n",
       "</table>\n",
       "<p>3 rows × 26 columns</p>\n",
       "</div>"
      ],
      "text/plain": [
       "          bodyType brand   color fuelType  modelDate                   name  \\\n",
       "0            Седан  AUDI  040001   бензин     1990.0  2.8 MT (174 л.с.) 4WD   \n",
       "1            Седан  AUDI  EE1D19   бензин     1982.0       1.8 MT (90 л.с.)   \n",
       "2  Универсал 5 дв.  AUDI  0000CC   бензин     1988.0  2.3 MT (136 л.с.) 4WD   \n",
       "\n",
       "   numberOfDoors  productionDate          vehicleConfiguration  \\\n",
       "0            4.0            1991          SEDAN MECHANICAL 2.8   \n",
       "1            4.0            1986          SEDAN MECHANICAL 1.8   \n",
       "2            5.0            1989  WAGON_5_DOORS MECHANICAL 2.3   \n",
       "\n",
       "  vehicleTransmission  ...  Руль  Состояние Владельцы       ПТС Таможня  \\\n",
       "0          MECHANICAL  ...  LEFT        NaN       3.0  ORIGINAL    True   \n",
       "1          MECHANICAL  ...  LEFT        NaN       3.0  ORIGINAL    True   \n",
       "2          MECHANICAL  ...  LEFT        NaN       3.0  ORIGINAL    True   \n",
       "\n",
       "  Владение     price            start_date  hidden model  \n",
       "0      NaN  200000.0  2019-10-03T08:09:11Z     NaN   100  \n",
       "1      NaN   60000.0  2020-09-06T06:49:40Z     NaN   100  \n",
       "2      NaN   99000.0  2020-09-02T14:04:21Z     NaN   100  \n",
       "\n",
       "[3 rows x 26 columns]"
      ]
     },
     "execution_count": 117,
     "metadata": {},
     "output_type": "execute_result"
    }
   ],
   "source": [
    "df_train_dop.head(3)"
   ]
  },
  {
   "cell_type": "markdown",
   "metadata": {},
   "source": [
    "Необходимо:\n",
    "1. привести признаки color,vehicleTransmission,Руль к одним значениям  \n",
    "2. склеить df_train и df_train_dop, а также привести количество признаков полученного датасета data к количеству признаков df_test. \n",
    "3. привести строковые признаки к нижнему регистру \n",
    "4. удалить строки,где bodyType и price is None\n",
    "5. отобрать строки в data по значениям brand в df_test (уменьшить итоговый датасет train и увеличить точность модели)"
   ]
  },
  {
   "cell_type": "code",
   "execution_count": 118,
   "metadata": {},
   "outputs": [],
   "source": [
    "df_train_temp = df_train[df_test.columns]\n",
    "df_train_temp['price'] = df_train['price']\n",
    "df_train = df_train_temp\n",
    "\n",
    "df_train_dop['model_name'] = df_train_dop['model']\n",
    "df_train_dop['complectation_dict'] = df_train_dop['Комплектация']\n",
    "df_train_dop.drop(['Комплектация', 'start_date', 'hidden',\n",
    "                   'model'], axis=1, inplace=True)\n",
    "\n",
    "df_train_dop['color'] = df_train_dop['color'].map({'CACECB': 'серебристый', 'FAFBFB': 'белый', 'EE1D19': 'красный', '97948F': 'серый',\n",
    "                                                   '660099': 'пурпурный', '040001': 'чёрный', '4A2197': 'фиолетовый',\n",
    "                                                   '200204': 'коричневый', '0000CC': 'синий', '007F00': 'зелёный', 'C49648': 'бежевый',\n",
    "                                                   '22A0F8': 'голубой', 'DEA522': 'золотистый', 'FFD600': 'жёлтый', 'FF8649': 'оранжевый',\n",
    "                                                   'FFC0CB': 'розовый'})\n",
    "\n",
    "df_train_dop['vehicleTransmission'] = df_train_dop['vehicleTransmission'].map(\n",
    "    {'AUTOMATIC': 'автоматическая', 'MECHANICAL': 'механическая', 'VARIATOR': 'вариатор', 'ROBOT': 'роботизированная'})\n",
    "df_train_dop['Руль'] = df_train_dop['Руль'].map(\n",
    "    {'LEFT': 'левый', 'RIGHT': 'правый'})\n",
    "\n",
    "for col in df_train.columns:\n",
    "    if col not in df_train_dop.columns:\n",
    "        df_train_dop[col] = None\n",
    "\n",
    "df_train = df_train.append(df_train_dop, sort=False).reset_index(drop=True)\n",
    "\n",
    "# для корректной обработки признаков объединяем трейн и тест в один датасет\n",
    "df_train['sample'] = 1  # помечаем где у нас трейн\n",
    "df_test['sample'] = 0  # помечаем где у нас тест\n",
    "df_test['price'] = 0\n",
    "\n",
    "data = df_test.append(df_train, sort=False).reset_index(\n",
    "    drop=True)  # объединяем\n",
    "\n",
    "data = data[~data.price.isnull()]  # убираем строки None для price\n",
    "data = data[~data.bodyType.isnull()]  # убираем лишние строки\n",
    "\n",
    "# привести все не числовые колонки к нижнем регистру(\n",
    "for col in data.select_dtypes(include='object').columns:\n",
    "    data[col][~data[col].isnull()] = data[col][~data[col].isnull()\n",
    "                                               ].apply(lambda x: str(x).lower())\n",
    "\n",
    "# фильтр по брендам\n",
    "brands = list(map(lambda x: str.lower(x), df_test.brand.value_counts().index))\n",
    "data = data[data['brand'].isin(brands)]"
   ]
  },
  {
   "cell_type": "markdown",
   "metadata": {},
   "source": [
    "# 3. Data cleaning, feature analysis and engineering"
   ]
  },
  {
   "cell_type": "code",
   "execution_count": 119,
   "metadata": {},
   "outputs": [
    {
     "name": "stdout",
     "output_type": "stream",
     "text": [
      "<class 'pandas.core.frame.DataFrame'>\n",
      "Int64Index: 122370 entries, 0 to 189930\n",
      "Data columns (total 34 columns):\n",
      " #   Column                Non-Null Count   Dtype  \n",
      "---  ------                --------------   -----  \n",
      " 0   bodyType              122370 non-null  object \n",
      " 1   brand                 122370 non-null  object \n",
      " 2   car_url               73270 non-null   object \n",
      " 3   color                 122370 non-null  object \n",
      " 4   complectation_dict    94073 non-null   object \n",
      " 5   description           120791 non-null  object \n",
      " 6   engineDisplacement    122370 non-null  object \n",
      " 7   enginePower           122370 non-null  object \n",
      " 8   equipment_dict        63274 non-null   object \n",
      " 9   fuelType              122370 non-null  object \n",
      " 10  image                 73269 non-null   object \n",
      " 11  mileage               122370 non-null  float64\n",
      " 12  modelDate             122370 non-null  float64\n",
      " 13  model_info            73270 non-null   object \n",
      " 14  model_name            122370 non-null  object \n",
      " 15  name                  122370 non-null  object \n",
      " 16  numberOfDoors         122370 non-null  float64\n",
      " 17  parsing_unixtime      73270 non-null   object \n",
      " 18  priceCurrency         73270 non-null   object \n",
      " 19  productionDate        122370 non-null  float64\n",
      " 20  sell_id               73270 non-null   object \n",
      " 21  super_gen             73270 non-null   object \n",
      " 22  vehicleConfiguration  122370 non-null  object \n",
      " 23  vehicleTransmission   122370 non-null  object \n",
      " 24  vendor                73202 non-null   object \n",
      " 25  Владельцы             101088 non-null  object \n",
      " 26  Владение              36099 non-null   object \n",
      " 27  ПТС                   111782 non-null  object \n",
      " 28  Привод                112045 non-null  object \n",
      " 29  Руль                  112045 non-null  object \n",
      " 30  Состояние             62945 non-null   object \n",
      " 31  Таможня               112045 non-null  object \n",
      " 32  sample                122370 non-null  int64  \n",
      " 33  price                 122370 non-null  float64\n",
      "dtypes: float64(5), int64(1), object(28)\n",
      "memory usage: 32.7+ MB\n"
     ]
    }
   ],
   "source": [
    "data.info()"
   ]
  },
  {
   "cell_type": "code",
   "execution_count": 120,
   "metadata": {},
   "outputs": [
    {
     "data": {
      "text/plain": [
       "Index(['mileage', 'modelDate', 'numberOfDoors', 'productionDate', 'price'], dtype='object')"
      ]
     },
     "execution_count": 120,
     "metadata": {},
     "output_type": "execute_result"
    }
   ],
   "source": [
    "data.select_dtypes(include=['float64']).columns"
   ]
  },
  {
   "cell_type": "code",
   "execution_count": 121,
   "metadata": {},
   "outputs": [
    {
     "name": "stdout",
     "output_type": "stream",
     "text": [
      "car_url,complectation_dict,description,equipment_dict,image,model_info,parsing_unixtime,priceCurrency,sell_id,super_gen,vendor,Владельцы,Владение,ПТС,Привод,Руль,Состояние,Таможня,"
     ]
    }
   ],
   "source": [
    "for col in data:\n",
    "    if len(data[data[col].isnull()]) > 0:\n",
    "        print(col, end=',')"
   ]
  },
  {
   "cell_type": "markdown",
   "metadata": {},
   "source": [
    "34 колонки , 122370 записей , пропуски в колонках  car_url,complectation_dict,description,equipment_dict,image,model_info,parsing_unixtime,priceCurrency,sell_id,super_gen,vendor,Владельцы,Владение,ПТС,Привод,Руль,Состояние,Таможня\n",
    "\n",
    "Числовые признаки:  'mileage', 'modelDate', 'numberOfDoors', 'productionDate', 'price'."
   ]
  },
  {
   "cell_type": "markdown",
   "metadata": {},
   "source": [
    "### Описание признаков:\n",
    "\n",
    "bodyType - тип кузова       \n",
    "brand - бренд      \n",
    "car_url - ссылка на авто     \n",
    "color - цвет авто   \n",
    "complectation_dict - описание комплектации    \n",
    "description - описание от продавца       \n",
    "engineDisplacement - объем двигателя в литрах  \n",
    "enginePower - мощность двигателя  \n",
    "equipment_dict - описание оборудования авто  \n",
    "fuelType - тип топлива   \n",
    "image - ссылка на фото авто   \n",
    "mileage - пробег автомобиля    \n",
    "modelDate - дата выпуска модели  \n",
    "model_info - информация об авто  \n",
    "model_name - модель авто  \n",
    "name - объем и мощность двигателя    \n",
    "numberOfDoors - кол-во дверей    \n",
    "parsing_unixtime - дата парсинга данных     \n",
    "priceCurrency - валюта продажи  \n",
    "productionDate - дата производства авто  \n",
    "sell_id - id объвления о продаже    \n",
    "super_gen - доп описание авто (клиренс,расход топлива, ценовой сегмент)  \n",
    "vehicleConfiguration - комбинация типа трансмиссии, объема двигателя и мощности двигателя    \n",
    "vehicleTransmission - тип трансмиссии (коробки передач)  \n",
    "vendor - продавец-производитель авто  \n",
    "Владельцы - кол-во владельцев  \n",
    "Владение - срок владения автомобилем в годах и месяцах     \n",
    "ПТС - тип ПТС    \n",
    "Привод - привод авто     \n",
    "Руль - руль авто    \n",
    "Состояние - необходимость проведения ремонта  \n",
    "Таможня - информация о том расстаможен автомобиль или нет   \n",
    "sample - признак train/test    \n",
    "price - цена, указанная в объявлении   \n"
   ]
  },
  {
   "cell_type": "markdown",
   "metadata": {},
   "source": [
    "Скопируем датасет, чтобы при необходимости можно было посмотреть данные исходного датасета.\n",
    "\n",
    "Создадим два списка для обработки категориальных признаков: разбивка на dummy и LabelEncoder"
   ]
  },
  {
   "cell_type": "code",
   "execution_count": 122,
   "metadata": {},
   "outputs": [],
   "source": [
    "data_temp = data.copy()\n",
    "\n",
    "col_dum = []\n",
    "col_en = []"
   ]
  },
  {
   "cell_type": "markdown",
   "metadata": {},
   "source": [
    "### Функции"
   ]
  },
  {
   "cell_type": "code",
   "execution_count": 123,
   "metadata": {},
   "outputs": [],
   "source": [
    "# Показать график по value_counts (если значений не более 20. Иначе выводить обычный value_counts)\n",
    "def show(col, vc_show=False, data_x=data_temp):\n",
    "    vc = data_x[col].value_counts(ascending=True)\n",
    "    if len(vc) <= 20:\n",
    "        vc.plot(kind='barh', title=col)\n",
    "    else:\n",
    "        print(data_x[col].value_counts())\n",
    "\n",
    "    if vc_show and len(vc) <= 20:\n",
    "        print(data_x[col].value_counts())\n",
    "\n",
    "# Показать распределение на графике для числовых признаков\n",
    "\n",
    "\n",
    "def show_distplot(col, data_x=data_temp):\n",
    "    plt.figure()\n",
    "    sns.distplot(data_x[col][data_x[col] > 0], kde=False, rug=False)\n",
    "    plt.title(col)\n",
    "    plt.show()\n",
    "\n",
    "# логарифмировать признак\n",
    "\n",
    "\n",
    "def log_f(col, data_x=data_temp):\n",
    "    data_x[col] = np.log(data_x[col] + 1)\n",
    "\n",
    "# Проверка на выбросы\n",
    "\n",
    "\n",
    "def show_outliers(column, data_x=data_temp):\n",
    "    col = data_x[column]\n",
    "    IQR = col.quantile(0.75) - col.quantile(0.25)\n",
    "    perc25 = col.quantile(0.25)\n",
    "    perc75 = col.quantile(0.75)\n",
    "\n",
    "    quan_low_outliers = len(data_x.query(f'{column} < {perc25 - 1.5*IQR}'))\n",
    "    quan_high_outliers = len(data_x.query(f'{column} > {perc75 + 1.5*IQR}'))\n",
    "\n",
    "    proc_low_outliers = round(quan_low_outliers/len(col) * 100, 2)\n",
    "    proc_high_outliers = round(quan_high_outliers/len(col) * 100, 2)\n",
    "\n",
    "    print('Колонка', column)\n",
    "    print(\n",
    "        f'Количество выбросов ниже нижней границы: {quan_low_outliers} ({proc_low_outliers}%)')\n",
    "    print(\n",
    "        f'Количество выбросов выше верхней границы: {quan_high_outliers} ({proc_high_outliers}%)')\n",
    "    print('\\n')\n",
    "\n",
    "# привести строку к формату ast или json\n",
    "\n",
    "\n",
    "def to_dict(row):\n",
    "    try:\n",
    "        row = ast.literal_eval(row)\n",
    "        return row\n",
    "    except:\n",
    "        try:\n",
    "            row = json.loads(row)\n",
    "            return row\n",
    "        except:\n",
    "            return row\n",
    "\n",
    "# получить значение (ast или json)\n",
    "\n",
    "\n",
    "def get_val(row, val_name, val_er):\n",
    "    try:\n",
    "        return row[val_name]\n",
    "    except:\n",
    "        return val_er"
   ]
  },
  {
   "cell_type": "markdown",
   "metadata": {},
   "source": [
    "### body_type"
   ]
  },
  {
   "cell_type": "code",
   "execution_count": 124,
   "metadata": {},
   "outputs": [
    {
     "name": "stdout",
     "output_type": "stream",
     "text": [
      "внедорожник 5 дв.          49239\n",
      "седан                      42484\n",
      "лифтбек                     7318\n",
      "хэтчбек 5 дв.               5984\n",
      "универсал 5 дв.             3787\n",
      "                           ...  \n",
      "хэтчбек 5 дв. long             1\n",
      "универсал 5 дв. gracia         1\n",
      "минивэн caravan elgrand        1\n",
      "минивэн regius                 1\n",
      "компактвэн joy                 1\n",
      "Name: bodyType, Length: 102, dtype: int64\n"
     ]
    }
   ],
   "source": [
    "show(\"bodyType\")"
   ]
  },
  {
   "cell_type": "markdown",
   "metadata": {},
   "source": [
    "Больше всего продается внедорожников и седанов.\n",
    "\n",
    "Признак состоит из названия типа кузова и количества дверей. Количество дверей есть в другом признаке. Оставим только первую часть для группировки значений"
   ]
  },
  {
   "cell_type": "code",
   "execution_count": 125,
   "metadata": {},
   "outputs": [],
   "source": [
    "data_temp['bodyType'] = data_temp['bodyType'].apply(\n",
    "    lambda x: str(x).split(' ')[0])"
   ]
  },
  {
   "cell_type": "code",
   "execution_count": 126,
   "metadata": {},
   "outputs": [
    {
     "data": {
      "image/png": "[encoded data removed]",
      "text/plain": [
       "<Figure size 432x288 with 1 Axes>"
      ]
     },
     "metadata": {
      "needs_background": "light"
     },
     "output_type": "display_data"
    }
   ],
   "source": [
    "show(\"bodyType\")"
   ]
  },
  {
   "cell_type": "markdown",
   "metadata": {},
   "source": [
    "Склеим похожие значения.\n",
    "\n",
    "Добавим признак в dummy ,т.к. значений не так много."
   ]
  },
  {
   "cell_type": "code",
   "execution_count": 127,
   "metadata": {},
   "outputs": [],
   "source": [
    "data_temp['bodyType'] = data_temp['bodyType'].apply(\n",
    "    lambda x: 'купе' if x == 'купе-хардтоп' else x)\n",
    "data_temp['bodyType'] = data_temp['bodyType'].apply(\n",
    "    lambda x: 'седан' if x == 'седан-хардтоп' else x)\n",
    "\n",
    "col_dum.append('bodyType')"
   ]
  },
  {
   "cell_type": "markdown",
   "metadata": {},
   "source": [
    "### brand"
   ]
  },
  {
   "cell_type": "code",
   "execution_count": 128,
   "metadata": {},
   "outputs": [
    {
     "data": {
      "image/png": "[encoded data removed]",
      "text/plain": [
       "<Figure size 432x288 with 1 Axes>"
      ]
     },
     "metadata": {
      "needs_background": "light"
     },
     "output_type": "display_data"
    }
   ],
   "source": [
    "show(\"brand\")"
   ]
  },
  {
   "cell_type": "markdown",
   "metadata": {},
   "source": [
    "На рынке доминируют мерседесы.\n",
    "\n",
    "Добавим признак в dummy ,т.к. значений не так много."
   ]
  },
  {
   "cell_type": "code",
   "execution_count": 129,
   "metadata": {},
   "outputs": [],
   "source": [
    "col_dum.append('brand')"
   ]
  },
  {
   "cell_type": "markdown",
   "metadata": {},
   "source": [
    "### car_url"
   ]
  },
  {
   "cell_type": "code",
   "execution_count": 130,
   "metadata": {},
   "outputs": [
    {
     "name": "stdout",
     "output_type": "stream",
     "text": [
      "https://auto.ru/cars/used/sale/volvo/xc90/1101357002-15258e0d/                           3\n",
      "https://auto.ru/cars/used/sale/toyota/corolla_spacio/1101253655-7fbecf9e/                3\n",
      "https://auto.ru/cars/used/sale/lexus/rx/1099942196-e544e15a/                             3\n",
      "https://auto.ru/cars/used/sale/volkswagen/golf/1101183254-3d426524/                      3\n",
      "https://auto.ru/cars/used/sale/toyota/4runner/1100113712-fe40783c/                       3\n",
      "                                                                                        ..\n",
      "https://auto.ru/cars/used/sale/bmw/3er/1101616034-89f46adb/                              1\n",
      "https://auto.ru/cars/used/sale/volkswagen/passat/1101480987-f893ddfb/                    1\n",
      "https://auto.ru/cars/new/group/volkswagen/polo/21802425/22152659/1101495215-8eec8d45/    1\n",
      "https://auto.ru/cars/used/sale/toyota/rav_4/1101565387-9b007d39/                         1\n",
      "https://auto.ru/cars/used/sale/mercedes/e_klasse_amg/1101462232-e84a6a26/                1\n",
      "Name: car_url, Length: 60395, dtype: int64\n"
     ]
    }
   ],
   "source": [
    "show(\"car_url\")"
   ]
  },
  {
   "cell_type": "markdown",
   "metadata": {},
   "source": [
    "Вряд ли ссылки на авто на сайте auto.ru повлияют на обучение модели. Удалим признак."
   ]
  },
  {
   "cell_type": "code",
   "execution_count": 131,
   "metadata": {},
   "outputs": [],
   "source": [
    "data_temp.drop('car_url', axis=1, inplace=True)"
   ]
  },
  {
   "cell_type": "markdown",
   "metadata": {},
   "source": [
    "### color"
   ]
  },
  {
   "cell_type": "code",
   "execution_count": 132,
   "metadata": {},
   "outputs": [
    {
     "data": {
      "image/png": "[encoded data removed]",
      "text/plain": [
       "<Figure size 432x288 with 1 Axes>"
      ]
     },
     "metadata": {
      "needs_background": "light"
     },
     "output_type": "display_data"
    }
   ],
   "source": [
    "show(\"color\")"
   ]
  },
  {
   "cell_type": "markdown",
   "metadata": {},
   "source": [
    "Больше всего машин с черным цветом.Розовый не в почёте.\n",
    "\n",
    "Добавим признак в dummy ,т.к. значений не так много."
   ]
  },
  {
   "cell_type": "code",
   "execution_count": 133,
   "metadata": {},
   "outputs": [],
   "source": [
    "col_dum.append('color')"
   ]
  },
  {
   "cell_type": "markdown",
   "metadata": {},
   "source": [
    "### complectation_dict"
   ]
  },
  {
   "cell_type": "code",
   "execution_count": 134,
   "metadata": {},
   "outputs": [
    {
     "name": "stdout",
     "output_type": "stream",
     "text": [
      "{'id': '0'}                                                                                                                                                                                                                                                                                                                                                                                                                                                                                                                                                                                                                                                                                                                                                                                                                                                                                                                                                                                                                                                                                                                                                                                                                                                                                                                                                                                                                                                                                                                                                                                                                                                                                                                                                                                                                                                                                                                                                                                                                                                                                                                                                                                                                                                                                                                                                                                                                                                                                                                                                                                                                                                                                                                                                                                                                                                                                                                                                                                                                                                                                                                                                                                                                                                                                                                                                                                                                                                                                                                                                                                                                                                                                                                                                                                                                                                                                                                                                                                                                                                                                                                                                                                                                                                                                                                                                                                                                                                                                                                                                                                                                                                                                                                                                                                                                                                                                                                                                                                                                                                                                                                                                                                                                                                                                                                                                                                                                                                                                                                                                                                                                                                                                                                                                                                                                                                                                                                                                                                                                                                                                                                                                                                                                                                                                                                                                                                                                                                                                                                                                                                                                                                                                                                                                                                                                                                                                                                                                                                                                                                                                                                                                                                                                                                                                                                                                                                                                                                                                                                                                                                                                                                                                                                                                                                                                                                                                                                                                                                                                                                                                                                                                                                                                                                                                                                                                                                                                                                                                                                                                                                                                                                                                                                                                                                                                                                                                                                                                                                                                                                                                                                                                                                                                                                                                                                                                                                                                                                                                                                                                                                                                                                                                                                                                                                                                                                                                                                                                                                                                                                                                                                                                                                                                                                                                                                                                                                                                                                                                                                                                                                                                                                                                                                                                                                   53054\n",
      "{'id': '22152659', 'name': 'respect', 'available_options': ['heated-wash-system', 'airbag-passenger', 'bas', 'lock', 'electro-mirrors', 'mirrors-heat', 'glonass', 'computer', 'seat-transformation', 'android-auto', 'fabric-seats', 'steel-wheels', 'abs', 'asr', 'esp', 'usb', 'audiopreparation', 'spare-wheel', 'audiosystem-tv', 'apple-carplay', 'servo', 'drl', 'electro-window-back', 'driver-seat-updown', 'condition', 'led-lights', 'airbag-driver', 'isofix', 'electro-window-front', 'tyre-pressure', 'audiosystem-cd', 'front-seats-heat', 'bluetooth', 'wheel-configuration2', 'wheel-configuration1', 'immo', '12v-socket', 'third-rear-headrest'], 'vendor_colors': [{'body_color_id': 22166888, 'mark_color_id': 21422008, 'name_ru': 'серый indium (металлик)', 'hex_codes': ['686e70'], 'color_type': 'metallic', 'stock_color': {'hex_code': '97948f', 'name_ru': 'серый'}, 'photos': [{'name': '34-front', 'sizes': {'orig': '//avatars.mds.yandex.net/get-verba/1030388/2a000001723b266c7aa4402fcb45e79499d1/orig', 'wizardv3mr': '//avatars.mds.yandex.net/get-verba/1030388/2a000001723b266c7aa4402fcb45e79499d1/wizardv3mr', 'wizardv3': '//avatars.mds.yandex.net/get-verba/1030388/2a000001723b266c7aa4402fcb45e79499d1/wizardv3', 'cattouch': '//avatars.mds.yandex.net/get-verba/1030388/2a000001723b266c7aa4402fcb45e79499d1/cattouch', 'small': '//avatars.mds.yandex.net/get-verba/1030388/2a000001723b266c7aa4402fcb45e79499d1/small', '320x240': '//avatars.mds.yandex.net/get-verba/1030388/2a000001723b266c7aa4402fcb45e79499d1/320x240', '1200x900': '//avatars.mds.yandex.net/get-verba/1030388/2a000001723b266c7aa4402fcb45e79499d1/1200x900', '1200x900n': '//avatars.mds.yandex.net/get-verba/1030388/2a000001723b266c7aa4402fcb45e79499d1/1200x900n', 'thumb_m': '//avatars.mds.yandex.net/get-verba/1030388/2a000001723b266c7aa4402fcb45e79499d1/thumb_m', 'full': '//avatars.mds.yandex.net/get-verba/1030388/2a000001723b266c7aa4402fcb45e79499d1/full', '832x624': '//avatars.mds.yandex.net/get-verba/1030388/2a000001723b266c7aa4402fcb45e79499d1/832x624', '456x342': '//avatars.mds.yandex.net/get-verba/1030388/2a000001723b266c7aa4402fcb45e79499d1/456x342', '120x90': '//avatars.mds.yandex.net/get-verba/1030388/2a000001723b266c7aa4402fcb45e79499d1/120x90', '92x69': '//avatars.mds.yandex.net/get-verba/1030388/2a000001723b266c7aa4402fcb45e79499d1/92x69', 'islandoff': '//avatars.mds.yandex.net/get-verba/1030388/2a000001723b266c7aa4402fcb45e79499d1/islandoff', 'thumb_s': '//avatars.mds.yandex.net/get-verba/1030388/2a000001723b266c7aa4402fcb45e79499d1/thumb_s', 'thumb_s_2x': '//avatars.mds.yandex.net/get-verba/1030388/2a000001723b266c7aa4402fcb45e79499d1/thumb_s_2x'}}, {'name': '34-back', 'sizes': {'orig': '//avatars.mds.yandex.net/get-verba/997355/2a000001723b267550a4a795c13841cc2bed/orig', 'wizardv3mr': '//avatars.mds.yandex.net/get-verba/997355/2a000001723b267550a4a795c13841cc2bed/wizardv3mr', 'wizardv3': '//avatars.mds.yandex.net/get-verba/997355/2a000001723b267550a4a795c13841cc2bed/wizardv3', 'cattouch': '//avatars.mds.yandex.net/get-verba/997355/2a000001723b267550a4a795c13841cc2bed/cattouch', 'small': '//avatars.mds.yandex.net/get-verba/997355/2a000001723b267550a4a795c13841cc2bed/small', '320x240': '//avatars.mds.yandex.net/get-verba/997355/2a000001723b267550a4a795c13841cc2bed/320x240', '1200x900': '//avatars.mds.yandex.net/get-verba/997355/2a000001723b267550a4a795c13841cc2bed/1200x900', '1200x900n': '//avatars.mds.yandex.net/get-verba/997355/2a000001723b267550a4a795c13841cc2bed/1200x900n', 'thumb_m': '//avatars.mds.yandex.net/get-verba/997355/2a000001723b267550a4a795c13841cc2bed/thumb_m', 'full': '//avatars.mds.yandex.net/get-verba/997355/2a000001723b267550a4a795c13841cc2bed/full', '832x624': '//avatars.mds.yandex.net/get-verba/997355/2a000001723b267550a4a795c13841cc2bed/832x624', '456x342': '//avatars.mds.yandex.net/get-verba/997355/2a000001723b267550a4a795c13841cc2bed/456x342', '120x90': '//avatars.mds.yandex.net/get-verba/997355/2a000001723b267550a4a795c13841cc2bed/120x90', '92x69': '//avatars.mds.yandex.net/get-verba/997355/2a000001723b267550a4a795c13841cc2bed/92x69', 'islandoff': '//avatars.mds.yandex.net/get-verba/997355/2a000001723b267550a4a795c13841cc2bed/islandoff', 'thumb_s': '//avatars.mds.yandex.net/get-verba/997355/2a000001723b267550a4a795c13841cc2bed/thumb_s', 'thumb_s_2x': '//avatars.mds.yandex.net/get-verba/997355/2a000001723b267550a4a795c13841cc2bed/thumb_s_2x'}}, {'name': 'side', 'sizes': {'orig': '//avatars.mds.yandex.net/get-verba/1030388/2a000001723b268144570fe88a6f6bae1d1e/orig', 'wizardv3mr': '//avatars.mds.yandex.net/get-verba/1030388/2a000001723b268144570fe88a6f6bae1d1e/wizardv3mr', 'wizardv3': '//avatars.mds.yandex.net/get-verba/1030388/2a000001723b268144570fe88a6f6bae1d1e/wizardv3', 'cattouch': '//avatars.mds.yandex.net/get-verba/1030388/2a000001723b268144570fe88a6f6bae1d1e/cattouch', 'small': '//avatars.mds.yandex.net/get-verba/1030388/2a000001723b268144570fe88a6f6bae1d1e/small', '320x240': '//avatars.mds.yandex.net/get-verba/1030388/2a000001723b268144570fe88a6f6bae1d1e/320x240', '1200x900': '//avatars.mds.yandex.net/get-verba/1030388/2a000001723b268144570fe88a6f6bae1d1e/1200x900', '1200x900n': '//avatars.mds.yandex.net/get-verba/1030388/2a000001723b268144570fe88a6f6bae1d1e/1200x900n', 'thumb_m': '//avatars.mds.yandex.net/get-verba/1030388/2a000001723b268144570fe88a6f6bae1d1e/thumb_m', 'full': '//avatars.mds.yandex.net/get-verba/1030388/2a000001723b268144570fe88a6f6bae1d1e/full', '832x624': '//avatars.mds.yandex.net/get-verba/1030388/2a000001723b268144570fe88a6f6bae1d1e/832x624', '456x342': '//avatars.mds.yandex.net/get-verba/1030388/2a000001723b268144570fe88a6f6bae1d1e/456x342', '120x90': '//avatars.mds.yandex.net/get-verba/1030388/2a000001723b268144570fe88a6f6bae1d1e/120x90', '92x69': '//avatars.mds.yandex.net/get-verba/1030388/2a000001723b268144570fe88a6f6bae1d1e/92x69', 'islandoff': '//avatars.mds.yandex.net/get-verba/1030388/2a000001723b268144570fe88a6f6bae1d1e/islandoff', 'thumb_s': '//avatars.mds.yandex.net/get-verba/1030388/2a000001723b268144570fe88a6f6bae1d1e/thumb_s', 'thumb_s_2x': '//avatars.mds.yandex.net/get-verba/1030388/2a000001723b268144570fe88a6f6bae1d1e/thumb_s_2x'}}, {'name': 'back', 'sizes': {'orig': '//avatars.mds.yandex.net/get-verba/997355/2a000001723b268eb2c76461bb8ba9848ced/orig', 'wizardv3mr': '//avatars.mds.yandex.net/get-verba/997355/2a000001723b268eb2c76461bb8ba9848ced/wizardv3mr', 'wizardv3': '//avatars.mds.yandex.net/get-verba/997355/2a000001723b268eb2c76461bb8ba9848ced/wizardv3', 'cattouch': '//avatars.mds.yandex.net/get-verba/997355/2a000001723b268eb2c76461bb8ba9848ced/cattouch', 'small': '//avatars.mds.yandex.net/get-verba/997355/2a000001723b268eb2c76461bb8ba9848ced/small', '320x240': '//avatars.mds.yandex.net/get-verba/997355/2a000001723b268eb2c76461bb8ba9848ced/320x240', '1200x900': '//avatars.mds.yandex.net/get-verba/997355/2a000001723b268eb2c76461bb8ba9848ced/1200x900', '1200x900n': '//avatars.mds.yandex.net/get-verba/997355/2a000001723b268eb2c76461bb8ba9848ced/1200x900n', 'thumb_m': '//avatars.mds.yandex.net/get-verba/997355/2a000001723b268eb2c76461bb8ba9848ced/thumb_m', 'full': '//avatars.mds.yandex.net/get-verba/997355/2a000001723b268eb2c76461bb8ba9848ced/full', '832x624': '//avatars.mds.yandex.net/get-verba/997355/2a000001723b268eb2c76461bb8ba9848ced/832x624', '456x342': '//avatars.mds.yandex.net/get-verba/997355/2a000001723b268eb2c76461bb8ba9848ced/456x342', '120x90': '//avatars.mds.yandex.net/get-verba/997355/2a000001723b268eb2c76461bb8ba9848ced/120x90', '92x69': '//avatars.mds.yandex.net/get-verba/997355/2a000001723b268eb2c76461bb8ba9848ced/92x69', 'islandoff': '//avatars.mds.yandex.net/get-verba/997355/2a000001723b268eb2c76461bb8ba9848ced/islandoff', 'thumb_s': '//avatars.mds.yandex.net/get-verba/997355/2a000001723b268eb2c76461bb8ba9848ced/thumb_s', 'thumb_s_2x': '//avatars.mds.yandex.net/get-verba/997355/2a000001723b268eb2c76461bb8ba9848ced/thumb_s_2x'}}], 'main_color': true}]}                                                                                                                                                                                                                                                                                                                                                                                                                                                                                                                                                                                                                                                                                                                                                                                                                                                                                                                                                                                                                                                                                                                                                                                                                                                                                                                                                                                                                                                                                                                                                                                                                                                                                                                                                                                                                                                                                                                                                                                                                                                                                                                                                                                                                                                                                                                                                                                                                                                                                                                            506\n",
      "{'id': '21829752', 'name': 'gle 350 d 4matic', 'available_options': ['cruise-control', 'multi-wheel', 'auto-park', 'heated-wash-system', 'airbag-passenger', 'navigation', 'decorative-interior-lighting', 'bas', 'lock', 'door-sill-panel', 'electro-mirrors', 'easy-trunk-opening', 'mirrors-heat', 'volume-sensor', 'driver-seat-memory', 'body-kit', 'automatic-lighting-control', 'passenger-seat-updown', 'collision-prevention-assist', 'computer', 'high-beam-assist', 'seat-transformation', 'android-auto', 'dha', 'airbag-side', 'electronic-gage-panel', 'electro-trunk', 'abs', 'wheel-leather', 'climate-control-2', 'auto-mirrors', 'black-roof', 'asr', 'esp', 'adaptive-light', 'usb', 'audiopreparation', 'front-centre-armrest', 'apple-carplay', '20-inch-wheels', 'rear-camera', 'servo', 'electro-window-back', 'reduce-spare-wheel', 'park-assist-f', 'combo-interior', 'wheel-heat', 'led-lights', 'park-assist-r', 'airbag-driver', 'isofix', 'aux', 'electro-window-front', 'light-sensor', 'airbag-curtain', 'keyless-entry', 'passenger-seat-electric', 'alarm', 'paint-metallic', 'start-button', 'rain-sensor', 'tyre-pressure', 'voice-recognition', 'audiosystem-cd', 'front-seats-heat', 'bluetooth', 'wheel-configuration2', 'wheel-configuration1', 'immo', '12v-socket', 'third-rear-headrest']}                                                                                                                                                                                                                                                                                                                                                                                                                                                                                                                                                                                                                                                                                                                                                                                                                                                                                                                                                                                                                                                                                                                                                                                                                                                                                                                                                                                                                                                                                                                                                                                                                                                                                                                                                                                                                                                                                                                                                                                                                                                                                                                                                                                                                                                                                                                                                                                                                                                                                                                                                                                                                                                                                                                                                                                                                                                                                                                                                                                                                                                                                                                                                                                                                                                                                                                                                                                                                                                                                                                                                                                                                                                                                                                                                                                                                                                                                                                                                                                                                                                                                                                                                                                                                                                                                                                                                                                                                                                                                                                                                                                                                                                                                                                                                                                                                                                                                                                                                                                                                                                                                                                                                                                                                                                                                                                                                                                                                                                                                                                                                                                                                                                                                                                                                                                                                                                                                                                                                                                                                                                                                                                                                                                                                                                                                                                                                                                                                                                                                                                                                                                                                                                                                                                                                                                                                                                                                                                                                                                                                                                                                                                                                                                                                                                                                                                                                                                                                                                                                                                                                                                                                                                                                                                                                                                                                                                                                                                                                                                                                                                                                                                                                                                                                                                                                                                                                                                                                                                                                                                                                                                                                                                                                                                                                                                                                                                                                                                                                                                                                                                                                                                                                                                                                                                                                                                                                                                                                                                            477\n",
      "{'id': '22174500', 'name': 'inscription', 'available_options': ['cruise-control', 'multi-wheel', 'airbag-passenger', 'roof-rails', 'decorative-interior-lighting', 'bas', 'lock', 'door-sill-panel', 'electro-mirrors', 'easy-trunk-opening', 'mirrors-heat', 'volume-sensor', 'leather', 'driver-seat-memory', 'glonass', 'start-stop-function', 'automatic-lighting-control', 'passenger-seat-updown', 'collision-prevention-assist', 'computer', 'high-beam-assist', 'seat-transformation', 'light-cleaner', 'driver-seat-electric', 'dha', 'airbag-side', 'electronic-gage-panel', 'electro-trunk', 'abs', 'wheel-leather', 'climate-control-2', 'auto-mirrors', 'asr', 'esp', 'usb', 'audiopreparation', 'audiosystem-tv', 'lane-keeping-assist', 'front-centre-armrest', 'front-seat-support', 'rear-camera', 'servo', 'drl', 'electro-window-back', 'reduce-spare-wheel', 'body-mouldings', 'park-assist-f', '19-inch-wheels', 'led-lights', 'music-super', 'park-assist-r', 'airbag-driver', 'isofix', 'drive-mode-sys', 'electro-window-front', 'light-sensor', 'hcc', 'airbag-curtain', 'keyless-entry', 'alarm', 'leather-gear-stick', 'traffic-sign-recognition', 'start-button', 'ptf', 'rain-sensor', 'tyre-pressure', 'voice-recognition', 'front-seats-heat', 'bluetooth', 'wheel-configuration2', 'wheel-configuration1', 'immo', '12v-socket', 'third-rear-headrest'], 'vendor_colors': [{'body_color_id': 21411499, 'mark_color_id': 21391597, 'name_ru': 'crystal white pearl', 'hex_codes': ['eae6e8'], 'color_type': 'metallic', 'stock_color': {'hex_code': 'fafbfb', 'name_ru': 'белый'}, 'photos': [{'name': '34-front', 'sizes': {'orig': '//avatars.mds.yandex.net/get-verba/997355/2a00000169a138494908f462ac84f3752bed/orig', 'wizardv3mr': '//avatars.mds.yandex.net/get-verba/997355/2a00000169a138494908f462ac84f3752bed/wizardv3mr', 'wizardv3': '//avatars.mds.yandex.net/get-verba/997355/2a00000169a138494908f462ac84f3752bed/wizardv3', 'cattouch': '//avatars.mds.yandex.net/get-verba/997355/2a00000169a138494908f462ac84f3752bed/cattouch', 'small': '//avatars.mds.yandex.net/get-verba/997355/2a00000169a138494908f462ac84f3752bed/small', '320x240': '//avatars.mds.yandex.net/get-verba/997355/2a00000169a138494908f462ac84f3752bed/320x240', '1200x900': '//avatars.mds.yandex.net/get-verba/997355/2a00000169a138494908f462ac84f3752bed/1200x900', '1200x900n': '//avatars.mds.yandex.net/get-verba/997355/2a00000169a138494908f462ac84f3752bed/1200x900n', 'thumb_m': '//avatars.mds.yandex.net/get-verba/997355/2a00000169a138494908f462ac84f3752bed/thumb_m', 'full': '//avatars.mds.yandex.net/get-verba/997355/2a00000169a138494908f462ac84f3752bed/full', '832x624': '//avatars.mds.yandex.net/get-verba/997355/2a00000169a138494908f462ac84f3752bed/832x624', '456x342': '//avatars.mds.yandex.net/get-verba/997355/2a00000169a138494908f462ac84f3752bed/456x342', '120x90': '//avatars.mds.yandex.net/get-verba/997355/2a00000169a138494908f462ac84f3752bed/120x90', '92x69': '//avatars.mds.yandex.net/get-verba/997355/2a00000169a138494908f462ac84f3752bed/92x69', 'islandoff': '//avatars.mds.yandex.net/get-verba/997355/2a00000169a138494908f462ac84f3752bed/islandoff', 'thumb_s': '//avatars.mds.yandex.net/get-verba/997355/2a00000169a138494908f462ac84f3752bed/thumb_s', 'thumb_s_2x': '//avatars.mds.yandex.net/get-verba/997355/2a00000169a138494908f462ac84f3752bed/thumb_s_2x'}}, {'name': '34-back', 'sizes': {'orig': '//avatars.mds.yandex.net/get-verba/1030388/2a00000169a138608e476aa73780466dcbd0/orig', 'wizardv3mr': '//avatars.mds.yandex.net/get-verba/1030388/2a00000169a138608e476aa73780466dcbd0/wizardv3mr', 'wizardv3': '//avatars.mds.yandex.net/get-verba/1030388/2a00000169a138608e476aa73780466dcbd0/wizardv3', 'cattouch': '//avatars.mds.yandex.net/get-verba/1030388/2a00000169a138608e476aa73780466dcbd0/cattouch', 'small': '//avatars.mds.yandex.net/get-verba/1030388/2a00000169a138608e476aa73780466dcbd0/small', '320x240': '//avatars.mds.yandex.net/get-verba/1030388/2a00000169a138608e476aa73780466dcbd0/320x240', '1200x900': '//avatars.mds.yandex.net/get-verba/1030388/2a00000169a138608e476aa73780466dcbd0/1200x900', '1200x900n': '//avatars.mds.yandex.net/get-verba/1030388/2a00000169a138608e476aa73780466dcbd0/1200x900n', 'thumb_m': '//avatars.mds.yandex.net/get-verba/1030388/2a00000169a138608e476aa73780466dcbd0/thumb_m', 'full': '//avatars.mds.yandex.net/get-verba/1030388/2a00000169a138608e476aa73780466dcbd0/full', '832x624': '//avatars.mds.yandex.net/get-verba/1030388/2a00000169a138608e476aa73780466dcbd0/832x624', '456x342': '//avatars.mds.yandex.net/get-verba/1030388/2a00000169a138608e476aa73780466dcbd0/456x342', '120x90': '//avatars.mds.yandex.net/get-verba/1030388/2a00000169a138608e476aa73780466dcbd0/120x90', '92x69': '//avatars.mds.yandex.net/get-verba/1030388/2a00000169a138608e476aa73780466dcbd0/92x69', 'islandoff': '//avatars.mds.yandex.net/get-verba/1030388/2a00000169a138608e476aa73780466dcbd0/islandoff', 'thumb_s': '//avatars.mds.yandex.net/get-verba/1030388/2a00000169a138608e476aa73780466dcbd0/thumb_s', 'thumb_s_2x': '//avatars.mds.yandex.net/get-verba/1030388/2a00000169a138608e476aa73780466dcbd0/thumb_s_2x'}}, {'name': 'side', 'sizes': {'orig': '//avatars.mds.yandex.net/get-verba/216201/2a00000169a13892d102b2d781fd61bf174f/orig', 'wizardv3mr': '//avatars.mds.yandex.net/get-verba/216201/2a00000169a13892d102b2d781fd61bf174f/wizardv3mr', 'wizardv3': '//avatars.mds.yandex.net/get-verba/216201/2a00000169a13892d102b2d781fd61bf174f/wizardv3', 'cattouch': '//avatars.mds.yandex.net/get-verba/216201/2a00000169a13892d102b2d781fd61bf174f/cattouch', 'small': '//avatars.mds.yandex.net/get-verba/216201/2a00000169a13892d102b2d781fd61bf174f/small', '320x240': '//avatars.mds.yandex.net/get-verba/216201/2a00000169a13892d102b2d781fd61bf174f/320x240', '1200x900': '//avatars.mds.yandex.net/get-verba/216201/2a00000169a13892d102b2d781fd61bf174f/1200x900', '1200x900n': '//avatars.mds.yandex.net/get-verba/216201/2a00000169a13892d102b2d781fd61bf174f/1200x900n', 'thumb_m': '//avatars.mds.yandex.net/get-verba/216201/2a00000169a13892d102b2d781fd61bf174f/thumb_m', 'full': '//avatars.mds.yandex.net/get-verba/216201/2a00000169a13892d102b2d781fd61bf174f/full', '832x624': '//avatars.mds.yandex.net/get-verba/216201/2a00000169a13892d102b2d781fd61bf174f/832x624', '456x342': '//avatars.mds.yandex.net/get-verba/216201/2a00000169a13892d102b2d781fd61bf174f/456x342', '120x90': '//avatars.mds.yandex.net/get-verba/216201/2a00000169a13892d102b2d781fd61bf174f/120x90', '92x69': '//avatars.mds.yandex.net/get-verba/216201/2a00000169a13892d102b2d781fd61bf174f/92x69', 'islandoff': '//avatars.mds.yandex.net/get-verba/216201/2a00000169a13892d102b2d781fd61bf174f/islandoff', 'thumb_s': '//avatars.mds.yandex.net/get-verba/216201/2a00000169a13892d102b2d781fd61bf174f/thumb_s', 'thumb_s_2x': '//avatars.mds.yandex.net/get-verba/216201/2a00000169a13892d102b2d781fd61bf174f/thumb_s_2x'}}, {'name': 'front', 'sizes': {'orig': '//avatars.mds.yandex.net/get-verba/787013/2a00000169a138a1fe56f77949e17878a3eb/orig', 'wizardv3mr': '//avatars.mds.yandex.net/get-verba/787013/2a00000169a138a1fe56f77949e17878a3eb/wizardv3mr', 'wizardv3': '//avatars.mds.yandex.net/get-verba/787013/2a00000169a138a1fe56f77949e17878a3eb/wizardv3', 'cattouch': '//avatars.mds.yandex.net/get-verba/787013/2a00000169a138a1fe56f77949e17878a3eb/cattouch', 'small': '//avatars.mds.yandex.net/get-verba/787013/2a00000169a138a1fe56f77949e17878a3eb/small', '320x240': '//avatars.mds.yandex.net/get-verba/787013/2a00000169a138a1fe56f77949e17878a3eb/320x240', '1200x900': '//avatars.mds.yandex.net/get-verba/787013/2a00000169a138a1fe56f77949e17878a3eb/1200x900', '1200x900n': '//avatars.mds.yandex.net/get-verba/787013/2a00000169a138a1fe56f77949e17878a3eb/1200x900n', 'thumb_m': '//avatars.mds.yandex.net/get-verba/787013/2a00000169a138a1fe56f77949e17878a3eb/thumb_m', 'full': '//avatars.mds.yandex.net/get-verba/787013/2a00000169a138a1fe56f77949e17878a3eb/full', '832x624': '//avatars.mds.yandex.net/get-verba/787013/2a00000169a138a1fe56f77949e17878a3eb/832x624', '456x342': '//avatars.mds.yandex.net/get-verba/787013/2a00000169a138a1fe56f77949e17878a3eb/456x342', '120x90': '//avatars.mds.yandex.net/get-verba/787013/2a00000169a138a1fe56f77949e17878a3eb/120x90', '92x69': '//avatars.mds.yandex.net/get-verba/787013/2a00000169a138a1fe56f77949e17878a3eb/92x69', 'islandoff': '//avatars.mds.yandex.net/get-verba/787013/2a00000169a138a1fe56f77949e17878a3eb/islandoff', 'thumb_s': '//avatars.mds.yandex.net/get-verba/787013/2a00000169a138a1fe56f77949e17878a3eb/thumb_s', 'thumb_s_2x': '//avatars.mds.yandex.net/get-verba/787013/2a00000169a138a1fe56f77949e17878a3eb/thumb_s_2x'}}, {'name': 'back', 'sizes': {'orig': '//avatars.mds.yandex.net/get-verba/787013/2a00000169a138bdd645b3563fd7b14113bd/orig', 'wizardv3mr': '//avatars.mds.yandex.net/get-verba/787013/2a00000169a138bdd645b3563fd7b14113bd/wizardv3mr', 'wizardv3': '//avatars.mds.yandex.net/get-verba/787013/2a00000169a138bdd645b3563fd7b14113bd/wizardv3', 'cattouch': '//avatars.mds.yandex.net/get-verba/787013/2a00000169a138bdd645b3563fd7b14113bd/cattouch', 'small': '//avatars.mds.yandex.net/get-verba/787013/2a00000169a138bdd645b3563fd7b14113bd/small', '320x240': '//avatars.mds.yandex.net/get-verba/787013/2a00000169a138bdd645b3563fd7b14113bd/320x240', '1200x900': '//avatars.mds.yandex.net/get-verba/787013/2a00000169a138bdd645b3563fd7b14113bd/1200x900', '1200x900n': '//avatars.mds.yandex.net/get-verba/787013/2a00000169a138bdd645b3563fd7b14113bd/1200x900n', 'thumb_m': '//avatars.mds.yandex.net/get-verba/787013/2a00000169a138bdd645b3563fd7b14113bd/thumb_m', 'full': '//avatars.mds.yandex.net/get-verba/787013/2a00000169a138bdd645b3563fd7b14113bd/full', '832x624': '//avatars.mds.yandex.net/get-verba/787013/2a00000169a138bdd645b3563fd7b14113bd/832x624', '456x342': '//avatars.mds.yandex.net/get-verba/787013/2a00000169a138bdd645b3563fd7b14113bd/456x342', '120x90': '//avatars.mds.yandex.net/get-verba/787013/2a00000169a138bdd645b3563fd7b14113bd/120x90', '92x69': '//avatars.mds.yandex.net/get-verba/787013/2a00000169a138bdd645b3563fd7b14113bd/92x69', 'islandoff': '//avatars.mds.yandex.net/get-verba/787013/2a00000169a138bdd645b3563fd7b14113bd/islandoff', 'thumb_s': '//avatars.mds.yandex.net/get-verba/787013/2a00000169a138bdd645b3563fd7b14113bd/thumb_s', 'thumb_s_2x': '//avatars.mds.yandex.net/get-verba/787013/2a00000169a138bdd645b3563fd7b14113bd/thumb_s_2x'}}], 'main_color': true}]}      374\n",
      "{'id': '21426455', 'name': '450 4matic sport plus', 'available_options': ['cruise-control', 'multi-wheel', 'heated-wash-system', 'airbag-passenger', 'navigation', 'roof-rails', 'lock', 'door-sill-panel', 'electro-mirrors', 'easy-trunk-opening', 'mirrors-heat', 'power-latching-doors', 'volume-sensor', 'leather', 'seat-memory', 'start-stop-function', 'computer', 'seat-transformation', 'android-auto', 'wheel-power', 'airbag-side', 'electro-trunk', 'abs', 'wheel-leather', 'auto-mirrors', 'tinted-glass', 'esp', 'adaptive-light', 'usb', 'windcleaner-heat', 'front-centre-armrest', 'apple-carplay', '20-inch-wheels', 'rear-camera', 'electro-window-back', 'multizone-climate-control', 'park-assist-f', 'wheel-heat', 'led-lights', 'music-super', 'park-assist-r', 'airbag-driver', 'isofix', 'aux', 'electro-window-front', 'light-sensor', 'hcc', 'airbag-curtain', 'keyless-entry', 'passenger-seat-electric', 'alarm', 'paint-metallic', 'leather-gear-stick', 'traffic-sign-recognition', 'start-button', 'rain-sensor', 'tyre-pressure', 'panorama-roof', 'power-child-locks-rear-doors', 'bluetooth', 'wheel-configuration2', 'wheel-configuration1', 'immo', 'windscreen-heat', '12v-socket', '360-camera'], 'vendor_colors': [{'body_color_id': 21618201, 'mark_color_id': 21389965, 'name_ru': 'серый селенит', 'hex_codes': ['65696e'], 'color_type': 'metallic', 'stock_color': {'hex_code': '97948f', 'name_ru': 'серый'}, 'photos': [{'name': '34-front', 'sizes': {'orig': '//avatars.mds.yandex.net/get-verba/1672712/2a0000016bd677481a0900561484bdbb3604/orig', 'wizardv3mr': '//avatars.mds.yandex.net/get-verba/1672712/2a0000016bd677481a0900561484bdbb3604/wizardv3mr', 'wizardv3': '//avatars.mds.yandex.net/get-verba/1672712/2a0000016bd677481a0900561484bdbb3604/wizardv3', 'cattouch': '//avatars.mds.yandex.net/get-verba/1672712/2a0000016bd677481a0900561484bdbb3604/cattouch', 'small': '//avatars.mds.yandex.net/get-verba/1672712/2a0000016bd677481a0900561484bdbb3604/small', '320x240': '//avatars.mds.yandex.net/get-verba/1672712/2a0000016bd677481a0900561484bdbb3604/320x240', '1200x900': '//avatars.mds.yandex.net/get-verba/1672712/2a0000016bd677481a0900561484bdbb3604/1200x900', '1200x900n': '//avatars.mds.yandex.net/get-verba/1672712/2a0000016bd677481a0900561484bdbb3604/1200x900n', 'thumb_m': '//avatars.mds.yandex.net/get-verba/1672712/2a0000016bd677481a0900561484bdbb3604/thumb_m', 'full': '//avatars.mds.yandex.net/get-verba/1672712/2a0000016bd677481a0900561484bdbb3604/full', '832x624': '//avatars.mds.yandex.net/get-verba/1672712/2a0000016bd677481a0900561484bdbb3604/832x624', '456x342': '//avatars.mds.yandex.net/get-verba/1672712/2a0000016bd677481a0900561484bdbb3604/456x342', '120x90': '//avatars.mds.yandex.net/get-verba/1672712/2a0000016bd677481a0900561484bdbb3604/120x90', '92x69': '//avatars.mds.yandex.net/get-verba/1672712/2a0000016bd677481a0900561484bdbb3604/92x69', 'islandoff': '//avatars.mds.yandex.net/get-verba/1672712/2a0000016bd677481a0900561484bdbb3604/islandoff', 'thumb_s': '//avatars.mds.yandex.net/get-verba/1672712/2a0000016bd677481a0900561484bdbb3604/thumb_s', 'thumb_s_2x': '//avatars.mds.yandex.net/get-verba/1672712/2a0000016bd677481a0900561484bdbb3604/thumb_s_2x'}}], 'main_color': true}]}                                                                                                                                                                                                                                                                                                                                                                                                                                                                                                                                                                                                                                                                                                                                                                                                                                                                                                                                                                                                                                                                                                                                                                                                                                                                                                                                                                                                                                                                                                                                                                                                                                                                                                                                                                                                                                                                                                                                                                                                                                                                                                                                                                                                                                                                                                                                                                                                                                                                                                                                                                                                                                                                                                                                                                                                                                                                                                                                                                                                                                                                                                                                                                                                                                                                                                                                                                                                                                                                                                                                                                                                                                                                                                                                                                                                                                                                                                                                                                                                                                                                                                                                                                                                                                                                                                                                                                                                                                                                                                                                                                                                                                                                                                                                                                                                                                                                                                                                                                                                                                                                                                                                                                                                                                                                                                                                                                                                                                                                                                                                                                                                                                                                                                                                                                                                                                                                                                                                                                                                                                                                                                                                                                                                                                                                                                                                                                                                                                                                                                                                                                                                                                                                                                                                                                                                                                                                                                                                                                                                                                                                                                                                                                                                                                                                                                                                                                                                                                                       368\n",
      "                                                                                                                                                                                                                                                                                                                                                                                                                                                                                                                                                                                                                                                                                                                                                                                                                                                                                                                                                                                                                                                                                                                                                                                                                                                                                                                                                                                                                                                                                                                                                                                                                                                                                                                                                                                                                                                                                                                                                                                                                                                                                                                                                                                                                                                                                                                                                                                                                                                                                                                                                                                                                                                                                                                                                                                                                                                                                                                                                                                                                                                                                                                                                                                                                                                                                                                                                                                                                                                                                                                                                                                                                                                                                                                                                                                                                                                                                                                                                                                                                                                                                                                                                                                                                                                                                                                                                                                                                                                                                                                                                                                                                                                                                                                                                                                                                                                                                                                                                                                                                                                                                                                                                                                                                                                                                                                                                                                                                                                                                                                                                                                                                                                                                                                                                                                                                                                                                                                                                                                                                                                                                                                                                                                                                                                                                                                                                                                                                                                                                                                                                                                                                                                                                                                                                                                                                                                                                                                                                                                                                                                                                                                                                                                                                                                                                                                                                                                                                                                                                                                                                                                                                                                                                                                                                                                                                                                                                                                                                                                                                                                                                                                                                                                                                                                                                                                                                                                                                                                                                                                                                                                                                                                                                                                                                                                                                                                                                                                                                                                                                                                                                                                                                                                                                                                                                                                                                                                                                                                                                                                                                                                                                                                                                                                                                                                                                                                                                                                                                                                                                                                                                                                                                                                                                                                                                                                                                                                                                                                                                                                                                                                                                                                                                                                                                                                              ...  \n",
      "{'id': '21322962', 'name': 'qe+ perso black', 'available_options': ['cruise-control', 'sport-seats', 'multi-wheel', 'xenon', 'airbag-passenger', 'navigation', 'lock', 'electro-mirrors', 'mirrors-heat', 'computer', 'seat-transformation', 'wheel-power', 'light-cleaner', 'airbag-side', 'abs', 'wheel-leather', 'climate-control-1', 'auto-mirrors', 'tinted-glass', 'esp', 'usb', 'audiopreparation', 'ashtray-and-cigarette-lighter', 'front-centre-armrest', 'electro-window-back', '18-inch-wheels', 'body-mouldings', 'combo-interior', 'airbag-driver', 'isofix', 'aux', 'electro-window-front', 'airbag-curtain', 'keyless-entry', 'alarm', 'blind-spot', 'traffic-sign-recognition', 'start-button', 'ptf', 'rain-sensor', 'audiosystem-cd', 'front-seats-heat', 'power-child-locks-rear-doors', 'bluetooth', 'wheel-configuration2', 'wheel-configuration1', 'immo', '360-camera'], 'vendor_colors': [{'body_color_id': 21413901, 'mark_color_id': 21413898, 'name_ru': 'черный', 'hex_codes': ['353535'], 'color_type': 'metallic', 'stock_color': {'hex_code': '040001', 'name_ru': 'черный'}, 'photos': [{'name': '34-front', 'sizes': {'orig': '//avatars.mds.yandex.net/get-verba/1030388/2a000001690b8f209f76eba1137c2c0b58a8/orig', 'wizardv3mr': '//avatars.mds.yandex.net/get-verba/1030388/2a000001690b8f209f76eba1137c2c0b58a8/wizardv3mr', 'wizardv3': '//avatars.mds.yandex.net/get-verba/1030388/2a000001690b8f209f76eba1137c2c0b58a8/wizardv3', 'cattouch': '//avatars.mds.yandex.net/get-verba/1030388/2a000001690b8f209f76eba1137c2c0b58a8/cattouch', 'small': '//avatars.mds.yandex.net/get-verba/1030388/2a000001690b8f209f76eba1137c2c0b58a8/small', '320x240': '//avatars.mds.yandex.net/get-verba/1030388/2a000001690b8f209f76eba1137c2c0b58a8/320x240', '1200x900': '//avatars.mds.yandex.net/get-verba/1030388/2a000001690b8f209f76eba1137c2c0b58a8/1200x900', '1200x900n': '//avatars.mds.yandex.net/get-verba/1030388/2a000001690b8f209f76eba1137c2c0b58a8/1200x900n', 'thumb_m': '//avatars.mds.yandex.net/get-verba/1030388/2a000001690b8f209f76eba1137c2c0b58a8/thumb_m', 'full': '//avatars.mds.yandex.net/get-verba/1030388/2a000001690b8f209f76eba1137c2c0b58a8/full', '832x624': '//avatars.mds.yandex.net/get-verba/1030388/2a000001690b8f209f76eba1137c2c0b58a8/832x624', '456x342': '//avatars.mds.yandex.net/get-verba/1030388/2a000001690b8f209f76eba1137c2c0b58a8/456x342', '120x90': '//avatars.mds.yandex.net/get-verba/1030388/2a000001690b8f209f76eba1137c2c0b58a8/120x90', '92x69': '//avatars.mds.yandex.net/get-verba/1030388/2a000001690b8f209f76eba1137c2c0b58a8/92x69', 'islandoff': '//avatars.mds.yandex.net/get-verba/1030388/2a000001690b8f209f76eba1137c2c0b58a8/islandoff', 'thumb_s': '//avatars.mds.yandex.net/get-verba/1030388/2a000001690b8f209f76eba1137c2c0b58a8/thumb_s', 'thumb_s_2x': '//avatars.mds.yandex.net/get-verba/1030388/2a000001690b8f209f76eba1137c2c0b58a8/thumb_s_2x'}}], 'main_color': false}]}                                                                                                                                                                                                                                                                                                                                                                                                                                                                                                                                                                                                                                                                                                                                                                                                                                                                                                                                                                                                                                                                                                                                                                                                                                                                                                                                                                                                                                                                                                                                                                                                                                                                                                                                                                                                                                                                                                                                                                                                                                                                                                                                                                                                                                                                                                                                                                                                                                                                                                                                                                                                                                                                                                                                                                                                                                                                                                                                                                                                                                                                                                                                                                                                                                                                                                                                                                                                                                                                                                                                                                                                                                                                                                                                                                                                                                                                                                                                                                                                                                                                                                                                                                                                                                                                                                                                                                                                                                                                                                                                                                                                                                                                                                                                                                                                                                                                                                                                                                                                                                                                                                                                                                                                                                                                                                                                                                                                                                                                                                                                                                                                                                                                                                                                                                                                                                                                                                                                                                                                                                                                                                                                                                                                                                                                                                                                                                                                                                                                                                                                                                                                                                                                                                                                                                                                                                                                                                                                                                                                                                                                                                                                                                                                                                                                                                                                                                                                                                                                                                                                                                                                                                                                                                                                                                                                       1\n",
      "{'id': '21575475', 'name': 'city', 'available_options': ['cruise-control', 'multi-wheel', 'heated-wash-system', 'airbag-passenger', 'bas', 'lock', 'electro-mirrors', 'mirrors-heat', 'glonass', 'drowsy-driver-alert-system', 'automatic-lighting-control', 'passenger-seat-updown', 'computer', 'seat-transformation', 'android-auto', 'wheel-power', 'light-cleaner', 'fabric-seats', 'abs', 'wheel-leather', 'third-row-seats', 'asr', 'esp', 'usb', 'audiopreparation', 'spare-wheel', 'front-centre-armrest', 'apple-carplay', 'rear-camera', 'multizone-climate-control', '17-inch-wheels', 'park-assist-f', 'led-lights', 'park-assist-r', 'airbag-driver', 'isofix', 'aux', 'electro-window-front', 'light-sensor', 'hcc', 'leather-gear-stick', 'ptf', 'rain-sensor', 'tyre-pressure', 'audiosystem-cd', 'front-seats-heat', 'bluetooth', 'wheel-configuration2', 'wheel-configuration1', 'immo', 'windscreen-heat', '12v-socket'], 'vendor_colors': [{'body_color_id': 21424502, 'mark_color_id': 21422170, 'name_ru': 'синий acapulco (металлик) / крыша чёрная', 'hex_codes': ['79b0ff', '0b090b'], 'color_type': 'metallic', 'stock_color': {'hex_code': '0000cc', 'name_ru': 'синий'}, 'photos': [{'name': '34-front', 'sizes': {'orig': '//avatars.mds.yandex.net/get-verba/1672712/2a000001692b5221c8bcf92e28feee375d02/orig', 'wizardv3mr': '//avatars.mds.yandex.net/get-verba/1672712/2a000001692b5221c8bcf92e28feee375d02/wizardv3mr', 'wizardv3': '//avatars.mds.yandex.net/get-verba/1672712/2a000001692b5221c8bcf92e28feee375d02/wizardv3', 'cattouch': '//avatars.mds.yandex.net/get-verba/1672712/2a000001692b5221c8bcf92e28feee375d02/cattouch', 'small': '//avatars.mds.yandex.net/get-verba/1672712/2a000001692b5221c8bcf92e28feee375d02/small', '320x240': '//avatars.mds.yandex.net/get-verba/1672712/2a000001692b5221c8bcf92e28feee375d02/320x240', '1200x900': '//avatars.mds.yandex.net/get-verba/1672712/2a000001692b5221c8bcf92e28feee375d02/1200x900', '1200x900n': '//avatars.mds.yandex.net/get-verba/1672712/2a000001692b5221c8bcf92e28feee375d02/1200x900n', 'thumb_m': '//avatars.mds.yandex.net/get-verba/1672712/2a000001692b5221c8bcf92e28feee375d02/thumb_m', 'full': '//avatars.mds.yandex.net/get-verba/1672712/2a000001692b5221c8bcf92e28feee375d02/full', '832x624': '//avatars.mds.yandex.net/get-verba/1672712/2a000001692b5221c8bcf92e28feee375d02/832x624', '456x342': '//avatars.mds.yandex.net/get-verba/1672712/2a000001692b5221c8bcf92e28feee375d02/456x342', '120x90': '//avatars.mds.yandex.net/get-verba/1672712/2a000001692b5221c8bcf92e28feee375d02/120x90', '92x69': '//avatars.mds.yandex.net/get-verba/1672712/2a000001692b5221c8bcf92e28feee375d02/92x69', 'islandoff': '//avatars.mds.yandex.net/get-verba/1672712/2a000001692b5221c8bcf92e28feee375d02/islandoff', 'thumb_s': '//avatars.mds.yandex.net/get-verba/1672712/2a000001692b5221c8bcf92e28feee375d02/thumb_s', 'thumb_s_2x': '//avatars.mds.yandex.net/get-verba/1672712/2a000001692b5221c8bcf92e28feee375d02/thumb_s_2x'}}, {'name': '34-back', 'sizes': {'orig': '//avatars.mds.yandex.net/get-verba/1540742/2a000001692b52338893d5f9936ed64c7f83/orig', 'wizardv3mr': '//avatars.mds.yandex.net/get-verba/1540742/2a000001692b52338893d5f9936ed64c7f83/wizardv3mr', 'wizardv3': '//avatars.mds.yandex.net/get-verba/1540742/2a000001692b52338893d5f9936ed64c7f83/wizardv3', 'cattouch': '//avatars.mds.yandex.net/get-verba/1540742/2a000001692b52338893d5f9936ed64c7f83/cattouch', 'small': '//avatars.mds.yandex.net/get-verba/1540742/2a000001692b52338893d5f9936ed64c7f83/small', '320x240': '//avatars.mds.yandex.net/get-verba/1540742/2a000001692b52338893d5f9936ed64c7f83/320x240', '1200x900': '//avatars.mds.yandex.net/get-verba/1540742/2a000001692b52338893d5f9936ed64c7f83/1200x900', '1200x900n': '//avatars.mds.yandex.net/get-verba/1540742/2a000001692b52338893d5f9936ed64c7f83/1200x900n', 'thumb_m': '//avatars.mds.yandex.net/get-verba/1540742/2a000001692b52338893d5f9936ed64c7f83/thumb_m', 'full': '//avatars.mds.yandex.net/get-verba/1540742/2a000001692b52338893d5f9936ed64c7f83/full', '832x624': '//avatars.mds.yandex.net/get-verba/1540742/2a000001692b52338893d5f9936ed64c7f83/832x624', '456x342': '//avatars.mds.yandex.net/get-verba/1540742/2a000001692b52338893d5f9936ed64c7f83/456x342', '120x90': '//avatars.mds.yandex.net/get-verba/1540742/2a000001692b52338893d5f9936ed64c7f83/120x90', '92x69': '//avatars.mds.yandex.net/get-verba/1540742/2a000001692b52338893d5f9936ed64c7f83/92x69', 'islandoff': '//avatars.mds.yandex.net/get-verba/1540742/2a000001692b52338893d5f9936ed64c7f83/islandoff', 'thumb_s': '//avatars.mds.yandex.net/get-verba/1540742/2a000001692b52338893d5f9936ed64c7f83/thumb_s', 'thumb_s_2x': '//avatars.mds.yandex.net/get-verba/1540742/2a000001692b52338893d5f9936ed64c7f83/thumb_s_2x'}}, {'name': 'side', 'sizes': {'orig': '//avatars.mds.yandex.net/get-verba/1672712/2a000001692b5241e7102686e2840ce8826f/orig', 'wizardv3mr': '//avatars.mds.yandex.net/get-verba/1672712/2a000001692b5241e7102686e2840ce8826f/wizardv3mr', 'wizardv3': '//avatars.mds.yandex.net/get-verba/1672712/2a000001692b5241e7102686e2840ce8826f/wizardv3', 'cattouch': '//avatars.mds.yandex.net/get-verba/1672712/2a000001692b5241e7102686e2840ce8826f/cattouch', 'small': '//avatars.mds.yandex.net/get-verba/1672712/2a000001692b5241e7102686e2840ce8826f/small', '320x240': '//avatars.mds.yandex.net/get-verba/1672712/2a000001692b5241e7102686e2840ce8826f/320x240', '1200x900': '//avatars.mds.yandex.net/get-verba/1672712/2a000001692b5241e7102686e2840ce8826f/1200x900', '1200x900n': '//avatars.mds.yandex.net/get-verba/1672712/2a000001692b5241e7102686e2840ce8826f/1200x900n', 'thumb_m': '//avatars.mds.yandex.net/get-verba/1672712/2a000001692b5241e7102686e2840ce8826f/thumb_m', 'full': '//avatars.mds.yandex.net/get-verba/1672712/2a000001692b5241e7102686e2840ce8826f/full', '832x624': '//avatars.mds.yandex.net/get-verba/1672712/2a000001692b5241e7102686e2840ce8826f/832x624', '456x342': '//avatars.mds.yandex.net/get-verba/1672712/2a000001692b5241e7102686e2840ce8826f/456x342', '120x90': '//avatars.mds.yandex.net/get-verba/1672712/2a000001692b5241e7102686e2840ce8826f/120x90', '92x69': '//avatars.mds.yandex.net/get-verba/1672712/2a000001692b5241e7102686e2840ce8826f/92x69', 'islandoff': '//avatars.mds.yandex.net/get-verba/1672712/2a000001692b5241e7102686e2840ce8826f/islandoff', 'thumb_s': '//avatars.mds.yandex.net/get-verba/1672712/2a000001692b5241e7102686e2840ce8826f/thumb_s', 'thumb_s_2x': '//avatars.mds.yandex.net/get-verba/1672712/2a000001692b5241e7102686e2840ce8826f/thumb_s_2x'}}, {'name': 'front', 'sizes': {'orig': '//avatars.mds.yandex.net/get-verba/1535139/2a000001692b52518fa4fd237e3c517c048d/orig', 'wizardv3mr': '//avatars.mds.yandex.net/get-verba/1535139/2a000001692b52518fa4fd237e3c517c048d/wizardv3mr', 'wizardv3': '//avatars.mds.yandex.net/get-verba/1535139/2a000001692b52518fa4fd237e3c517c048d/wizardv3', 'cattouch': '//avatars.mds.yandex.net/get-verba/1535139/2a000001692b52518fa4fd237e3c517c048d/cattouch', 'small': '//avatars.mds.yandex.net/get-verba/1535139/2a000001692b52518fa4fd237e3c517c048d/small', '320x240': '//avatars.mds.yandex.net/get-verba/1535139/2a000001692b52518fa4fd237e3c517c048d/320x240', '1200x900': '//avatars.mds.yandex.net/get-verba/1535139/2a000001692b52518fa4fd237e3c517c048d/1200x900', '1200x900n': '//avatars.mds.yandex.net/get-verba/1535139/2a000001692b52518fa4fd237e3c517c048d/1200x900n', 'thumb_m': '//avatars.mds.yandex.net/get-verba/1535139/2a000001692b52518fa4fd237e3c517c048d/thumb_m', 'full': '//avatars.mds.yandex.net/get-verba/1535139/2a000001692b52518fa4fd237e3c517c048d/full', '832x624': '//avatars.mds.yandex.net/get-verba/1535139/2a000001692b52518fa4fd237e3c517c048d/832x624', '456x342': '//avatars.mds.yandex.net/get-verba/1535139/2a000001692b52518fa4fd237e3c517c048d/456x342', '120x90': '//avatars.mds.yandex.net/get-verba/1535139/2a000001692b52518fa4fd237e3c517c048d/120x90', '92x69': '//avatars.mds.yandex.net/get-verba/1535139/2a000001692b52518fa4fd237e3c517c048d/92x69', 'islandoff': '//avatars.mds.yandex.net/get-verba/1535139/2a000001692b52518fa4fd237e3c517c048d/islandoff', 'thumb_s': '//avatars.mds.yandex.net/get-verba/1535139/2a000001692b52518fa4fd237e3c517c048d/thumb_s', 'thumb_s_2x': '//avatars.mds.yandex.net/get-verba/1535139/2a000001692b52518fa4fd237e3c517c048d/thumb_s_2x'}}], 'main_color': false}]}                                                                                                                                                                                                                                                                                                                                                                                                                                                                                                                                                                                                                                                                                                                                                                                                                                                                                                                                                                                                                                                                                                                                                                                                                                                                                                                                                                                                                                                                                                                                                                                                                                                                                                                                                                                                                                                                                                                                                                                                                                                                                                                                                                                      1\n",
      "{'id': '20887208', 'name': 'gle 500 e 4matic особая серия', 'available_options': ['cruise-control', 'multi-wheel', 'auto-park', 'airbag-passenger', 'roof-rails', 'lock', 'door-sill-panel', 'electro-mirrors', 'mirrors-heat', 'volume-sensor', 'leather', 'start-stop-function', 'drowsy-driver-alert-system', 'collision-prevention-assist', 'computer', 'high-beam-assist', 'seat-transformation', 'airbag-side', 'electro-trunk', 'abs', 'wheel-leather', 'climate-control-1', 'auto-mirrors', 'esp', 'adaptive-light', 'usb', 'audiopreparation', 'ashtray-and-cigarette-lighter', 'front-centre-armrest', 'servo', 'steering-wheel-gear-shift-paddles', 'electro-window-back', 'park-assist-f', '19-inch-wheels', 'condition', 'led-lights', 'park-assist-r', 'airbag-driver', 'isofix', 'electro-window-front', 'hcc', 'airbag-curtain', 'passenger-seat-electric', 'alarm', 'paint-metallic', 'rain-sensor', 'tyre-pressure', 'audiosystem-cd', 'front-seats-heat', 'power-child-locks-rear-doors', 'wheel-configuration2', 'wheel-configuration1', 'immo', '12v-socket', 'third-rear-headrest']}                                                                                                                                                                                                                                                                                                                                                                                                                                                                                                                                                                                                                                                                                                                                                                                                                                                                                                                                                                                                                                                                                                                                                                                                                                                                                                                                                                                                                                                                                                                                                                                                                                                                                                                                                                                                                                                                                                                                                                                                                                                                                                                                                                                                                                                                                                                                                                                                                                                                                                                                                                                                                                                                                                                                                                                                                                                                                                                                                                                                                                                                                                                                                                                                                                                                                                                                                                                                                                                                                                                                                                                                                                                                                                                                                                                                                                                                                                                                                                                                                                                                                                                                                                                                                                                                                                                                                                                                                                                                                                                                                                                                                                                                                                                                                                                                                                                                                                                                                                                                                                                                                                                                                                                                                                                                                                                                                                                                                                                                                                                                                                                                                                                                                                                                                                                                                                                                                                                                                                                                                                                                                                                                                                                                                                                                                                                                                                                                                                                                                                                                                                                                                                                                                                                                                                                                                                                                                                                                                                                                                                                                                                                                                                                                                                                                                                                                                                                                                                                                                                                                                                                                                                                                                                                                                                                                                                                                                                                                                                                                                                                                                                                                                                                                                                                                                                                                                                                                                                                                                                                                                                                                                                                                                                                                                                                                                                                                                                                                                                                                                                                                                                                                                                                                                                                                                                                                                                                                                                                                                                                                                                                                                                                                                        1\n",
      "{\"id\":\"21624597\",\"name\":\"i3 120 ah\",\"available_options\":[\"cruise-control\",\"multi-wheel\",\"airbag-passenger\",\"navigation\",\"bas\",\"lock\",\"electro-mirrors\",\"mirrors-heat\",\"glonass\",\"automatic-lighting-control\",\"computer\",\"seat-transformation\",\"wheel-power\",\"fabric-seats\",\"airbag-side\",\"electronic-gage-panel\",\"abs\",\"wheel-leather\",\"climate-control-2\",\"auto-mirrors\",\"asr\",\"esp\",\"usb\",\"audiopreparation\",\"ashtray-and-cigarette-lighter\",\"front-centre-armrest\",\"drl\",\"19-inch-wheels\",\"driver-seat-updown\",\"led-lights\",\"park-assist-r\",\"airbag-driver\",\"isofix\",\"aux\",\"electro-window-front\",\"light-sensor\",\"start-button\",\"rain-sensor\",\"front-seats-heat\",\"bluetooth\",\"wheel-configuration2\",\"wheel-configuration1\",\"immo\",\"12v-socket\"],\"vendor_colors\":[{\"body_color_id\":21483788,\"mark_color_id\":21477831,\"name_ru\":\"белый каппарис с синим акцентом bmw i\",\"hex_codes\":[\"dedfde\",\"26558f\"],\"color_type\":\"not_metallic\",\"stock_color\":{\"hex_code\":\"fafbfb\",\"name_ru\":\"белый\"},\"photos\":[{\"name\":\"34-front\",\"sizes\":{\"orig\":\"//avatars.mds.yandex.net/get-verba/1535139/2a000001694eb9e32255ebfec523db7f21d1/orig\",\"wizardv3mr\":\"//avatars.mds.yandex.net/get-verba/1535139/2a000001694eb9e32255ebfec523db7f21d1/wizardv3mr\",\"wizardv3\":\"//avatars.mds.yandex.net/get-verba/1535139/2a000001694eb9e32255ebfec523db7f21d1/wizardv3\",\"cattouch\":\"//avatars.mds.yandex.net/get-verba/1535139/2a000001694eb9e32255ebfec523db7f21d1/cattouch\",\"small\":\"//avatars.mds.yandex.net/get-verba/1535139/2a000001694eb9e32255ebfec523db7f21d1/small\",\"320x240\":\"//avatars.mds.yandex.net/get-verba/1535139/2a000001694eb9e32255ebfec523db7f21d1/320x240\",\"1200x900\":\"//avatars.mds.yandex.net/get-verba/1535139/2a000001694eb9e32255ebfec523db7f21d1/1200x900\",\"1200x900n\":\"//avatars.mds.yandex.net/get-verba/1535139/2a000001694eb9e32255ebfec523db7f21d1/1200x900n\",\"thumb_m\":\"//avatars.mds.yandex.net/get-verba/1535139/2a000001694eb9e32255ebfec523db7f21d1/thumb_m\",\"full\":\"//avatars.mds.yandex.net/get-verba/1535139/2a000001694eb9e32255ebfec523db7f21d1/full\",\"832x624\":\"//avatars.mds.yandex.net/get-verba/1535139/2a000001694eb9e32255ebfec523db7f21d1/832x624\",\"456x342\":\"//avatars.mds.yandex.net/get-verba/1535139/2a000001694eb9e32255ebfec523db7f21d1/456x342\",\"120x90\":\"//avatars.mds.yandex.net/get-verba/1535139/2a000001694eb9e32255ebfec523db7f21d1/120x90\",\"92x69\":\"//avatars.mds.yandex.net/get-verba/1535139/2a000001694eb9e32255ebfec523db7f21d1/92x69\",\"islandoff\":\"//avatars.mds.yandex.net/get-verba/1535139/2a000001694eb9e32255ebfec523db7f21d1/islandoff\",\"thumb_s\":\"//avatars.mds.yandex.net/get-verba/1535139/2a000001694eb9e32255ebfec523db7f21d1/thumb_s\",\"thumb_s_2x\":\"//avatars.mds.yandex.net/get-verba/1535139/2a000001694eb9e32255ebfec523db7f21d1/thumb_s_2x\"}},{\"name\":\"34-back\",\"sizes\":{\"orig\":\"//avatars.mds.yandex.net/get-verba/787013/2a000001694eb9f007249abc3334cc53ce07/orig\",\"wizardv3mr\":\"//avatars.mds.yandex.net/get-verba/787013/2a000001694eb9f007249abc3334cc53ce07/wizardv3mr\",\"wizardv3\":\"//avatars.mds.yandex.net/get-verba/787013/2a000001694eb9f007249abc3334cc53ce07/wizardv3\",\"cattouch\":\"//avatars.mds.yandex.net/get-verba/787013/2a000001694eb9f007249abc3334cc53ce07/cattouch\",\"small\":\"//avatars.mds.yandex.net/get-verba/787013/2a000001694eb9f007249abc3334cc53ce07/small\",\"320x240\":\"//avatars.mds.yandex.net/get-verba/787013/2a000001694eb9f007249abc3334cc53ce07/320x240\",\"1200x900\":\"//avatars.mds.yandex.net/get-verba/787013/2a000001694eb9f007249abc3334cc53ce07/1200x900\",\"1200x900n\":\"//avatars.mds.yandex.net/get-verba/787013/2a000001694eb9f007249abc3334cc53ce07/1200x900n\",\"thumb_m\":\"//avatars.mds.yandex.net/get-verba/787013/2a000001694eb9f007249abc3334cc53ce07/thumb_m\",\"full\":\"//avatars.mds.yandex.net/get-verba/787013/2a000001694eb9f007249abc3334cc53ce07/full\",\"832x624\":\"//avatars.mds.yandex.net/get-verba/787013/2a000001694eb9f007249abc3334cc53ce07/832x624\",\"456x342\":\"//avatars.mds.yandex.net/get-verba/787013/2a000001694eb9f007249abc3334cc53ce07/456x342\",\"120x90\":\"//avatars.mds.yandex.net/get-verba/787013/2a000001694eb9f007249abc3334cc53ce07/120x90\",\"92x69\":\"//avatars.mds.yandex.net/get-verba/787013/2a000001694eb9f007249abc3334cc53ce07/92x69\",\"islandoff\":\"//avatars.mds.yandex.net/get-verba/787013/2a000001694eb9f007249abc3334cc53ce07/islandoff\",\"thumb_s\":\"//avatars.mds.yandex.net/get-verba/787013/2a000001694eb9f007249abc3334cc53ce07/thumb_s\",\"thumb_s_2x\":\"//avatars.mds.yandex.net/get-verba/787013/2a000001694eb9f007249abc3334cc53ce07/thumb_s_2x\"}},{\"name\":\"side\",\"sizes\":{\"orig\":\"//avatars.mds.yandex.net/get-verba/1604130/2a000001694eb9fc9d5963adc1625ede0a2a/orig\",\"wizardv3mr\":\"//avatars.mds.yandex.net/get-verba/1604130/2a000001694eb9fc9d5963adc1625ede0a2a/wizardv3mr\",\"wizardv3\":\"//avatars.mds.yandex.net/get-verba/1604130/2a000001694eb9fc9d5963adc1625ede0a2a/wizardv3\",\"cattouch\":\"//avatars.mds.yandex.net/get-verba/1604130/2a000001694eb9fc9d5963adc1625ede0a2a/cattouch\",\"small\":\"//avatars.mds.yandex.net/get-verba/1604130/2a000001694eb9fc9d5963adc1625ede0a2a/small\",\"320x240\":\"//avatars.mds.yandex.net/get-verba/1604130/2a000001694eb9fc9d5963adc1625ede0a2a/320x240\",\"1200x900\":\"//avatars.mds.yandex.net/get-verba/1604130/2a000001694eb9fc9d5963adc1625ede0a2a/1200x900\",\"1200x900n\":\"//avatars.mds.yandex.net/get-verba/1604130/2a000001694eb9fc9d5963adc1625ede0a2a/1200x900n\",\"thumb_m\":\"//avatars.mds.yandex.net/get-verba/1604130/2a000001694eb9fc9d5963adc1625ede0a2a/thumb_m\",\"full\":\"//avatars.mds.yandex.net/get-verba/1604130/2a000001694eb9fc9d5963adc1625ede0a2a/full\",\"832x624\":\"//avatars.mds.yandex.net/get-verba/1604130/2a000001694eb9fc9d5963adc1625ede0a2a/832x624\",\"456x342\":\"//avatars.mds.yandex.net/get-verba/1604130/2a000001694eb9fc9d5963adc1625ede0a2a/456x342\",\"120x90\":\"//avatars.mds.yandex.net/get-verba/1604130/2a000001694eb9fc9d5963adc1625ede0a2a/120x90\",\"92x69\":\"//avatars.mds.yandex.net/get-verba/1604130/2a000001694eb9fc9d5963adc1625ede0a2a/92x69\",\"islandoff\":\"//avatars.mds.yandex.net/get-verba/1604130/2a000001694eb9fc9d5963adc1625ede0a2a/islandoff\",\"thumb_s\":\"//avatars.mds.yandex.net/get-verba/1604130/2a000001694eb9fc9d5963adc1625ede0a2a/thumb_s\",\"thumb_s_2x\":\"//avatars.mds.yandex.net/get-verba/1604130/2a000001694eb9fc9d5963adc1625ede0a2a/thumb_s_2x\"}},{\"name\":\"front\",\"sizes\":{\"orig\":\"//avatars.mds.yandex.net/get-verba/1604130/2a000001694eba0dbfb3e1632674668f66c4/orig\",\"wizardv3mr\":\"//avatars.mds.yandex.net/get-verba/1604130/2a000001694eba0dbfb3e1632674668f66c4/wizardv3mr\",\"wizardv3\":\"//avatars.mds.yandex.net/get-verba/1604130/2a000001694eba0dbfb3e1632674668f66c4/wizardv3\",\"cattouch\":\"//avatars.mds.yandex.net/get-verba/1604130/2a000001694eba0dbfb3e1632674668f66c4/cattouch\",\"small\":\"//avatars.mds.yandex.net/get-verba/1604130/2a000001694eba0dbfb3e1632674668f66c4/small\",\"320x240\":\"//avatars.mds.yandex.net/get-verba/1604130/2a000001694eba0dbfb3e1632674668f66c4/320x240\",\"1200x900\":\"//avatars.mds.yandex.net/get-verba/1604130/2a000001694eba0dbfb3e1632674668f66c4/1200x900\",\"1200x900n\":\"//avatars.mds.yandex.net/get-verba/1604130/2a000001694eba0dbfb3e1632674668f66c4/1200x900n\",\"thumb_m\":\"//avatars.mds.yandex.net/get-verba/1604130/2a000001694eba0dbfb3e1632674668f66c4/thumb_m\",\"full\":\"//avatars.mds.yandex.net/get-verba/1604130/2a000001694eba0dbfb3e1632674668f66c4/full\",\"832x624\":\"//avatars.mds.yandex.net/get-verba/1604130/2a000001694eba0dbfb3e1632674668f66c4/832x624\",\"456x342\":\"//avatars.mds.yandex.net/get-verba/1604130/2a000001694eba0dbfb3e1632674668f66c4/456x342\",\"120x90\":\"//avatars.mds.yandex.net/get-verba/1604130/2a000001694eba0dbfb3e1632674668f66c4/120x90\",\"92x69\":\"//avatars.mds.yandex.net/get-verba/1604130/2a000001694eba0dbfb3e1632674668f66c4/92x69\",\"islandoff\":\"//avatars.mds.yandex.net/get-verba/1604130/2a000001694eba0dbfb3e1632674668f66c4/islandoff\",\"thumb_s\":\"//avatars.mds.yandex.net/get-verba/1604130/2a000001694eba0dbfb3e1632674668f66c4/thumb_s\",\"thumb_s_2x\":\"//avatars.mds.yandex.net/get-verba/1604130/2a000001694eba0dbfb3e1632674668f66c4/thumb_s_2x\"}},{\"name\":\"back\",\"sizes\":{\"orig\":\"//avatars.mds.yandex.net/get-verba/1535139/2a000001694eba1bf44a31ad82763cdf13f2/orig\",\"wizardv3mr\":\"//avatars.mds.yandex.net/get-verba/1535139/2a000001694eba1bf44a31ad82763cdf13f2/wizardv3mr\",\"wizardv3\":\"//avatars.mds.yandex.net/get-verba/1535139/2a000001694eba1bf44a31ad82763cdf13f2/wizardv3\",\"cattouch\":\"//avatars.mds.yandex.net/get-verba/1535139/2a000001694eba1bf44a31ad82763cdf13f2/cattouch\",\"small\":\"//avatars.mds.yandex.net/get-verba/1535139/2a000001694eba1bf44a31ad82763cdf13f2/small\",\"320x240\":\"//avatars.mds.yandex.net/get-verba/1535139/2a000001694eba1bf44a31ad82763cdf13f2/320x240\",\"1200x900\":\"//avatars.mds.yandex.net/get-verba/1535139/2a000001694eba1bf44a31ad82763cdf13f2/1200x900\",\"1200x900n\":\"//avatars.mds.yandex.net/get-verba/1535139/2a000001694eba1bf44a31ad82763cdf13f2/1200x900n\",\"thumb_m\":\"//avatars.mds.yandex.net/get-verba/1535139/2a000001694eba1bf44a31ad82763cdf13f2/thumb_m\",\"full\":\"//avatars.mds.yandex.net/get-verba/1535139/2a000001694eba1bf44a31ad82763cdf13f2/full\",\"832x624\":\"//avatars.mds.yandex.net/get-verba/1535139/2a000001694eba1bf44a31ad82763cdf13f2/832x624\",\"456x342\":\"//avatars.mds.yandex.net/get-verba/1535139/2a000001694eba1bf44a31ad82763cdf13f2/456x342\",\"120x90\":\"//avatars.mds.yandex.net/get-verba/1535139/2a000001694eba1bf44a31ad82763cdf13f2/120x90\",\"92x69\":\"//avatars.mds.yandex.net/get-verba/1535139/2a000001694eba1bf44a31ad82763cdf13f2/92x69\",\"islandoff\":\"//avatars.mds.yandex.net/get-verba/1535139/2a000001694eba1bf44a31ad82763cdf13f2/islandoff\",\"thumb_s\":\"//avatars.mds.yandex.net/get-verba/1535139/2a000001694eba1bf44a31ad82763cdf13f2/thumb_s\",\"thumb_s_2x\":\"//avatars.mds.yandex.net/get-verba/1535139/2a000001694eba1bf44a31ad82763cdf13f2/thumb_s_2x\"}}],\"main_color\":false}]}                                                                                                                                                                                                                                                                                                                                                                                                                                                                                                                                                                                                                                                                                                                                                                      1\n",
      "{'id': '20416733', 'name': 'se', 'available_options': ['cruise-control', 'multi-wheel', 'airbag-passenger', 'lock', 'electro-mirrors', 'mirrors-heat', 'start-stop-function', 'computer', 'seat-transformation', 'wheel-power', 'light-cleaner', 'fabric-seats', 'airbag-side', 'abs', 'wheel-leather', 'climate-control-1', 'auto-mirrors', 'tinted-glass', 'esp', 'usb', 'audiopreparation', 'front-centre-armrest', 'electro-window-back', '17-inch-wheels', 'body-mouldings', 'park-assist-f', 'park-assist-r', 'airbag-driver', 'isofix', 'aux', 'electro-window-front', 'light-sensor', 'hcc', 'airbag-curtain', 'keyless-entry', 'leather-gear-stick', 'start-button', 'ptf', 'rain-sensor', 'audiosystem-cd', 'front-seats-heat', 'power-child-locks-rear-doors', 'bluetooth', 'wheel-configuration2', 'wheel-configuration1', 'immo', 'windscreen-heat', '12v-socket', 'third-rear-headrest'], 'vendor_colors': [{'body_color_id': 21415195, 'mark_color_id': 21415136, 'name_ru': 'белый', 'hex_codes': ['ebe7e4'], 'color_type': 'not_metallic', 'stock_color': {'hex_code': 'fafbfb', 'name_ru': 'белый'}, 'photos': [{'name': '34-front', 'sizes': {'orig': '//avatars.mds.yandex.net/get-verba/937147/2a000001690b97b53f1c6d5136286c7ab730/orig', 'wizardv3mr': '//avatars.mds.yandex.net/get-verba/937147/2a000001690b97b53f1c6d5136286c7ab730/wizardv3mr', 'wizardv3': '//avatars.mds.yandex.net/get-verba/937147/2a000001690b97b53f1c6d5136286c7ab730/wizardv3', 'cattouch': '//avatars.mds.yandex.net/get-verba/937147/2a000001690b97b53f1c6d5136286c7ab730/cattouch', 'small': '//avatars.mds.yandex.net/get-verba/937147/2a000001690b97b53f1c6d5136286c7ab730/small', '320x240': '//avatars.mds.yandex.net/get-verba/937147/2a000001690b97b53f1c6d5136286c7ab730/320x240', '1200x900': '//avatars.mds.yandex.net/get-verba/937147/2a000001690b97b53f1c6d5136286c7ab730/1200x900', '1200x900n': '//avatars.mds.yandex.net/get-verba/937147/2a000001690b97b53f1c6d5136286c7ab730/1200x900n', 'thumb_m': '//avatars.mds.yandex.net/get-verba/937147/2a000001690b97b53f1c6d5136286c7ab730/thumb_m', 'full': '//avatars.mds.yandex.net/get-verba/937147/2a000001690b97b53f1c6d5136286c7ab730/full', '832x624': '//avatars.mds.yandex.net/get-verba/937147/2a000001690b97b53f1c6d5136286c7ab730/832x624', '456x342': '//avatars.mds.yandex.net/get-verba/937147/2a000001690b97b53f1c6d5136286c7ab730/456x342', '120x90': '//avatars.mds.yandex.net/get-verba/937147/2a000001690b97b53f1c6d5136286c7ab730/120x90', '92x69': '//avatars.mds.yandex.net/get-verba/937147/2a000001690b97b53f1c6d5136286c7ab730/92x69', 'islandoff': '//avatars.mds.yandex.net/get-verba/937147/2a000001690b97b53f1c6d5136286c7ab730/islandoff', 'thumb_s': '//avatars.mds.yandex.net/get-verba/937147/2a000001690b97b53f1c6d5136286c7ab730/thumb_s', 'thumb_s_2x': '//avatars.mds.yandex.net/get-verba/937147/2a000001690b97b53f1c6d5136286c7ab730/thumb_s_2x'}}], 'main_color': false}]}                                                                                                                                                                                                                                                                                                                                                                                                                                                                                                                                                                                                                                                                                                                                                                                                                                                                                                                                                                                                                                                                                                                                                                                                                                                                                                                                                                                                                                                                                                                                                                                                                                                                                                                                                                                                                                                                                                                                                                                                                                                                                                                                                                                                                                                                                                                                                                                                                                                                                                                                                                                                                                                                                                                                                                                                                                                                                                                                                                                                                                                                                                                                                                                                                                                                                                                                                                                                                                                                                                                                                                                                                                                                                                                                                                                                                                                                                                                                                                                                                                                                                                                                                                                                                                                                                                                                                                                                                                                                                                                                                                                                                                                                                                                                                                                                                                                                                                                                                                                                                                                                                                                                                                                                                                                                                                                                                                                                                                                                                                                                                                                                                                                                                                                                                                                                                                                                                                                                                                                                                                                                                                                                                                                                                                                                                                                                                                                                                                                                                                                                                                                                                                                                                                                                                                                                                                                                                                                                                                                                                                                                                                                                                                                                                                                                                                                                                                                                                                                                                                                                                                                                                                                                                                                                                                                                               1\n",
      "Name: complectation_dict, Length: 6020, dtype: int64\n"
     ]
    }
   ],
   "source": [
    "show(\"complectation_dict\")"
   ]
  },
  {
   "cell_type": "markdown",
   "metadata": {},
   "source": [
    "Заменим пропуски на минимальный размер описания комплектации"
   ]
  },
  {
   "cell_type": "code",
   "execution_count": 135,
   "metadata": {},
   "outputs": [],
   "source": [
    "data_temp['complectation_dict'].fillna(\"{'id': '0'}\", inplace=True)"
   ]
  },
  {
   "cell_type": "markdown",
   "metadata": {},
   "source": [
    "Попробуем привести описание комплектации к его размеру. Проверим на значении метрики"
   ]
  },
  {
   "cell_type": "code",
   "execution_count": 136,
   "metadata": {},
   "outputs": [],
   "source": [
    "data_temp['complectation_dict'] = data_temp['complectation_dict'].apply(\n",
    "    lambda x: len(x))"
   ]
  },
  {
   "cell_type": "markdown",
   "metadata": {},
   "source": [
    "### description"
   ]
  },
  {
   "cell_type": "code",
   "execution_count": 137,
   "metadata": {},
   "outputs": [
    {
     "name": "stdout",
     "output_type": "stream",
     "text": [
      "рольф - официальный дилер и лучший дилер россии по итогам продаж и обслуживания автомобилей. мы гарантируем вам самые лучшие условия покупки!\\n\\nвсе автомобили прошли:\\n\\n∙ криминалистическую и юридическую проверку.\\n∙ комплексную диагностику, вы получаете лист с официальным заключением о состоянии автомобиля.                                                                                                                                                                                                                                                                                                                                                                                                                                                                                                                                                                                                                                                                                                                                                                                                                                                                                                                                                                                                                                                                                                                                                                                                                                                                                                                                                                                                                                                                                                                                                                                                                                                                                                                                                                                                                                                                                                                                                                                                                                                                                                                                                                                                                                                                                                                                                                                                                                                                                                                                                                                                                                                                                                                                                                                                                                                                                                                                                                                                                                                                                                                                                                                                                                                                                                                                                                                                                                                                                                                                                                                                                                                                                                                                                                                                                                                                                                                                                                                                                                                                                                                                                                                                                                                                                                                                                                                                                                                                                                                                                                                                                                                                                                                                                                                                                                                                                                                                                                                                                                                                                                                                                                                                                                                                                                                                                                                                                                                                                                                                                                                                                                                                                                                                                                                                                                                                                                                                                                                                                                                                                                                                                                                                                                                                                                                                                                                                                                                                                                                                                                                                                                                                                                                                                                541\n",
      "рольф северо-запад - это первый мегамолл автомобилей с пробегом, где на площади 27 000 кв.м. вас ждут 1 500 автомобилей с комфортными условиями покупки и выгодными предложениями.· все автомобили проверены по стандартам рольф и заводов-изготовителей· более 50 брендов в различных ценовых категориях· возможность приобретения выбранного автомобиля в кредит (более 10 банков-партнеров: юникредитбанк, экспо банк, тинькофф банк, совкомбанк, сетелем, русфинанс банк, росгосстрах банк, мс банк, локо банк ,кредит европа банк, втб, банк уралсиб, банк союз, банк зенит, балтинвестбанк).· любые виды страхования автомобилей· услуги гибдд (поставка на учет, прекращение учета, сохранение государственных знаков)· гарантия юридической чистоты и безопасность сделки· гарантия на автомобили различных марок сроком до 24 месяцев при общем пробеге до 200 000 кмдля вашего удобства:• онлайн-консультация по интересующему вас автомобилю.• онлайн-бронирование и предоплата автомобилей.• дистанционно-бесконтактный осмотр автомобиля.• запись на сервисное обслуживание.более 6 000 проверенных автомобилей с пробегом с гарантией до 2 лет ждут вас в рольф северо-запад.рольф северо-запад, 71-й км. мкад, 16а, стр.2                                                                                                                                                                                                                                                                                                                                                                                                                                                                                                                                                                                                                                                                                                                                                                                                                                                                                                                                                                                                                                                                                                                                                                                                                                                                                                                                                                                                                                                                                                                                                                                                                                                                                                                                                                                                                                                                                                                                                                                                                                                                                                                                                                                                                                                                                                                                                                                                                                                                                                                                                                                                                                                                                                                                                                                                                                                                                                                                                                                                                                                                                                                                                                                                                                                                                                                                                                                                                                                                                                                                                                                                                                                                                                                                                                                                                                                                                                                                                                                                                                                                                                                                                                                                                                                                                                                                                                                                                                                                                                                                                                                                                                                                                                                                                                                                                                                                                                                                                                                                                                                                                                                                                                                                                                                                                                                                                                                                                                                                                                                                                                                                                                                                                                                                                                                                                                               533\n",
      "автодилер года 2020\\n\\nпобедитель в номинации «организация продаж автомобилей с пробегом»\\n\\nиндивидуальные условия при покупке в кредит и/или при обмене на ваш автомобиль.\\nвсегда рады видеть вас в нашем дилерском центре для просмотра данного автомобиля находящегося на крытой парковке ежедневно с 9 до 22. \\n\\nвы можете воспользоваться специальными кредитными предложениями при приобретении автомобиля: \\n+ первоначальный взнос от 0% \\n+ срок кредита от 6 месяцев до 7 лет \\n+ выгодные процентные ставки \\n+ кредит по двум документам (только паспорт и права) и выдачи кредита в автосалоне одним днем \\n+ экспресс автокредит, одобрение заявки и выдача автокредита за 2 часа \\n+ возможность оформления автокредита на себя, а автомобиля на другое лицо \\n+ возможность досрочного погашения на следующий день \\n+ возможность оформления в большинстве регионов рф \\n+ возможность оформления без военного билета \\n+ возможность оформления автокредита для работающих пенсионеров (до 85 лет ) \\n+ возможность не сдавать птс в банк\\n+ возможность оплаты по безналичному расчёту\\n\\nболее подробную информацию по комплектации, дополнительному оборудованию автомобиля и всем интересующим вопросам, уточняйте по телефону, у продавца – консультанта.                                                                                                                                                                                                                                                                                                                                                                                                                                                                                                                                                                                                                                                                                                                                                                                                                                                                                                                                                                                                                                                                                                                                                                                                                                                                                                                                                                                                                                                                                                                                                                                                                                                                                                                                                                                                                                                                                                                                                                                                                                                                                                                                                                                                                                                                                                                                                                                                                                                                                                                                                                                                                                                                                                                                                                                                                                                                                                                                                                                                                                                                                                                                                                                                                                                                                                                                                                                                                                                                                                                                                                                                                                                                                                                                                                                                                                                                                                                                                                                                                                                                                                                                                                                                                                                                                                                                                                                                                                                                                                                                                                                                                                                                                                                                                                                                                                                                                                                                                                                                                                                                                                                                                                                                                                                                                                                                                                                                                                                                                                                                                                                                                                                                                                                                                                                                    382\n",
      "купить автомобиль с пробегом в рольф — это быстро, выгодно и надежно. у нас каждый автомобиль проходит комплексную техническую диагностику и предпродажную проверку по 49 параметрам. мы гарантируем юридическую чистоту сделки, полный пакет документов и  птс.\\n \\nперед покупкой можно лично проверить кузов на наличие окрашенных деталей, провести технический осмотр на подъемнике и попробовать автомобиль на тест-драйве. \\n \\nу нас доступно несколько видов оплаты, оформление каско, программа трейд-ин и обмен транспортными средствами. индивидуальные скидки обсуждаются напрямую в салоне. \\n \\nвоспользуйтесь преимуществами рольф. позвоните нам, чтобы узнать подробности.                                                                                                                                                                                                                                                                                                                                                                                                                                                                                                                                                                                                                                                                                                                                                                                                                                                                                                                                                                                                                                                                                                                                                                                                                                                                                                                                                                                                                                                                                                                                                                                                                                                                                                                                                                                                                                                                                                                                                                                                                                                                                                                                                                                                                                                                                                                                                                                                                                                                                                                                                                                                                                                                                                                                                                                                                                                                                                                                                                                                                                                                                                                                                                                                                                                                                                                                                                                                                                                                                                                                                                                                                                                                                                                                                                                                                                                                                                                                                                                                                                                                                                                                                                                                                                                                                                                                                                                                                                                                                                                                                                                                                                                                                                                                                                                                                                                                                                                                                                                                                                                                                                                                                                                                                                                                                                                                                                                                                                                                                                                                                                                                                                                                                                                                                                                                                                                                                                                                                                                                                                                                                                                                                                                                                                                                                                                                                                                           370\n",
      "выгода до 82 000 руб. при обмене на ваш автомобиль! \\nвыгода при покупке в кредит до 100 000 руб.! \\nрольф ясенево с пробегом. \\n-мы принимаем любые легковые и коммерческие автомобили независимо от марки, года выпуска, пробега и состояния автомобиля. \\n-в наличии более 500 проверенных и готовых к продаже автомобилей. \\n-более 400 комплектов шин, дисков, колес в сборе. \\n-все автомобили проходят комплексную проверку - техническую, криминалистическую, проверку истории кузовных ремонтов сертифицированными специалистами. \\n-мы предоставляем гарантию юридической чистоты в соответствии с законодательством рф. \\n-мы работаем каждый день с 9:00 до 22:00 (без выходных). \\nуслуги: \\n• срочный выкуп вашего автомобиля \\n• выкуп кредитных а/м \\n• trade-in - обмен вашего автомобиля на новый или с пробегом (возможна доплата с любой стороны) \\n• выездная оценка вашего а/м \\n• комиссионная продажа (на ваших условиях) \\n• аукцион \\n• кредитование \\n• страхование каско, осаго \\n• дополнительное оборудование \\n• запасные части \\n• сервисное обслуживание \\n• б/у шины и диски                                                                                                                                                                                                                                                                                                                                                                                                                                                                                                                                                                                                                                                                                                                                                                                                                                                                                                                                                                                                                                                                                                                                                                                                                                                                                                                                                                                                                                                                                                                                                                                                                                                                                                                                                                                                                                                                                                                                                                                                                                                                                                                                                                                                                                                                                                                                                                                                                                                                                                                                                                                                                                                                                                                                                                                                                                                                                                                                                                                                                                                                                                                                                                                                                                                                                                                                                                                                                                                                                                                                                                                                                                                                                                                                                                                                                                                                                                                                                                                                                                                                                                                                                                                                                                                                                                                                                                                                                                                                                                                                                                                                                                                                                                                                                                                                                                                                                                                                                                                                                                                                                                                                                                                                                                                                                                                                                                                                                                                                                                                                                                                                                                                                                                                                                                                                                                                                                                                                                                         356\n",
      "                                                                                                                                                                                                                                                                                                                                                                                                                                                                                                                                                                                                                                                                                                                                                                                                                                                                                                                                                                                                                                                                                                                                                                                                                                                                                                                                                                                                                                                                                                                                                                                                                                                                                                                                                                                                                                                                                                                                                                                                                                                                                                                                                                                                                                                                                                                                                                                                                                                                                                                                                                                                                                                                                                                                                                                                                                                                                                                                                                                                                                                                                                                                                                                                                                                                                                                                                                                                                                                                                                                                                                                                                                                                                                                                                                                                                                                                                                                                                                                                                                                                                                                                                                                                                                                                                                                                                                                                                                                                                                                                                                                                                                                                                                                                                                                                                                                                                                                                                                                                                                                                                                                                                                                                                                                                                                                                                                                                                                                                                                                                                                                                                                                                                                                                                                                                                                                                                                                                                                                                                                                                                                                                                                                                                                                                                                                                                                                                                                                                                                                                                                                                                                                                                                                                                                                                                                                                                                                                                                                                                                                                                      ... \n",
      "только 19 и 20 августа дни онлайн-продаж в борисхоф север. мы готовы предложить вам самые смелые условия на покупку нового bmw. если вы их и искали - звоните.\\n\\nпри покупке автомобиля bmw в борисхоф вы получаете ряд преимуществ:\\n* уникальные кредитные программы с минимальной процентной ставкой от bmw bank.\\n* выгодный обмен вашего автомобиля по рыночной стоимости и trade-in бонус.\\n* специальные условия страхования.\\n\\nв наличии различные цвета и комплектации по привлекательным ценам.\\nзвоните, чтобы узнать подробности.\\n\\n———————————————————————————\\nфункциональное оборудование\\n———————————————————————————\\n• закрывание центрального замка при начале движения*\\n• комфортный доступ: возможность открывать двери без применения ключа (доступ к двери водителя, переднего пассажира и багажника), включая подсветку дверных ручек (передние и задние двери)*\\n• светодиодные противотуманные фары*\\n• подогрев передних сидений*\\n• обогрев рулевого колеса*\\n• складывающиеся зеркала заднего вида с электроприводом, неослепляющее с водительской стороны*\\n• электрорегулируемая поддержка поясничного отдела спины*\\n• автоматический контроль климата, 2-зонный, с расширенными функциями*\\n• bmw live cockpit plus: 8.8\" цифровой сеносорный дисплей 8.8\" с разрешением 1280 x 480, приборная панель 5.7\" с разрешением 640 x 160, радио, mp3-плееры и двойной тюнер rds, интеллектуальный голосовой помощник, wifi, 4g lte, необходима sim-карта с поддержкой сети 4g*\\n• аудиосистема hi-fi: с усилителем мощностью 205 вт, 12 динамиков*\\n• сигнализация аварийного сближения при парковке (спереди и сзади)*\\n• автоматическая система закрывания/открывания крышки багажника*\\n• система складывающихся задних сидений в соотношении 40/20/40*\\n• навигационная система*\\n• ассистент парковки*\\n• сервисная книжка и инструкция на русском языке*\\n• оборудование для стран с холодным климатом*\\n• постгарантийное сервисное обслуживание \"3й год плюс\"*\\n• русский язык*\\n• пакет connected plus: консьерж-сервис, дистанционное управление автомобилем, информация о дорожной ситуации онлайн, подготовка к apple carplay*\\n• сервисы bmw connecteddrive*\\n• функция интеллектуального экстренного вызова*\\n• bmw teleservices*\\n• спидометр с обозначением километров*\\n• пакет освещения (подсветка карманов в дверях,лампы на спинках передних сиденьй, подсветка центрального подлокотника, кокпита и отсека на заднем сиденье)*\\n• пакет ambient air (ионизация и ароматизация воздуха в салоне)*\\n• м спорт пакет, включая спортивную настройку подвески*\\n• оснащение национальной системой торможения*\\n• стандарт eu5*\\n• центральный замок\\n• led светодиодные фары\\n• светодиодные кольца дневного света\\n• автоматика включения фар\\n• обогрев зеркал\\n• обогрев форсунок стеклоомывателей\\n• электропривод стекол: есть\\n• сервотроник\\n• регулировка рулевой колонки по длине и высоте\\n• мультифункция рулевого колеса\\n• выбор режимов езды, включая eco pro\\n• бортовой компьютер с расширенными функциями (расстояние до места назначения, рассчет времени до прибытия, и т,д,)\\n• динамический круиз-контроль\\n• кнопка start/stop для запуска и выключения двигателя\\n• датчик дождя\\n• фонари указателей поворота белого цвета\\n• исполнение для холодных стран\\n• тормоза передние дисковые, вентилируемые\\n• сервисная книжка и инструкция на русском языке\\n• подключение lte и 4g: автомобиль укомплектован sim-картой с поддержкой 4g-сетей\\n• неослепляющее внутреннее зеркало заднего вида\\n• рекуперация энергии торможения\\n———————————————————————————\\nбезопасность\\n———————————————————————————\\n• индикатор давления в шинах*\\n• камера заднего вида*\\n• подушки безопасности: боковые для водителя и переднего пассажира, встроенные в спинки сидений\\n• подушки безопасности: для защиты головы (“занавески”)\\n• подушки безопасности: водителя и переднего пассажира\\n• abs\\n• система динамического контроля устойчивости dsc, asc\\n• dbc\\n• система динамической регулировки тяги (dtc)\\n• крепления детского сиденья isofix на заднем сиденье\\n• электронная противоугонная система (ews)\\n• выключатель центрального замка\\n• шины с возможностью аварийного хода\\n• преднатяжители ремней безопасности\\n———————————————————————————\\nинтерьер\\n———————————————————————————\\n• спортивные сиденья для водителя и переднего пассажира*\\n• отделка сидений: сочетание ткани rhombicle/алькантара*\\n• цвет обивки сидений: черный/антрацит*\\n• цвет передней панели: черный*\\n• цвет коврового покрытия: черный*\\n• обивка потолка салона bmw individual, антрацит*\\n• кожаное рулевое колесо м типа*\\n• декоративные планки | алюминий rhombicle | акцентные вставки \"жемчужный хром\"*\\n• пакет для курящих*\\n• знак аварийной остановки*\\n• велюровые коврики*\\n• количество мест: 5\\n• теплозащитное круговое остекление\\n• led светодиодные задние фонари включая тормозной фонарь на стекле\\n• центральный подлокотник на заднем сиденье с подстаканниками\\n• устройство hands-free с usb входом\\n• передний подлокотник\\n———————————————————————————\\nэкстерьер\\n———————————————————————————\\n• защита поддона картера*\\n• черный карбон металлик*\\n• m легкосплавные диски double-spoke 662 m с разноразмерными шинами*\\n• размер дисков: передняя ось 8 j x r18, задняя ось 9 j x r18*\\n• внешний дизайн \"глянцевый черный\" bmw individual*\\n• аэродинамический м пакет*\\n• площадка для отдыха левой ноги м-типа, накладки на пороги с обозначением м, м накладки на педали, насадки на выхлопные трубы цвета chrome dark*\\n• безопасные шины runflat*\\n• без спортивной настройки подвески*\\n• шины: передняя ось 245/45 r18, задняя ось 275/40 r 18*\\n• детали экстерьера в цвет кузова\\n________\\n* дополнительные заводские опции.\\n\\nкомплектация «520d xdrive m sport»:\\n• антиблокировочная система\\n• антипробуксовочная система\\n• система курсовой устойчивости\\n• датчик давления в шинах\\n• подушки безопасности водителя\\n• подушки безопасности пассажира\\n• боковые передние подушки безопасности\\n• система крепления детских автокресел isofix / latch\\n• иммобилайзер\\n• центральный замок\\n• бортовой компьютер\\n• круиз-контроль\\n• парктроник\\n• камера заднего вида\\n• система автоматической парковки\\n• датчик света\\n• датчик дождя\\n• усилитель руля\\n• запуск двигателя с кнопки\\n• система доступа без ключа\\n• регулировка руля\\n• электрорегулировка сиденья водителя\\n• электрорегулировка сиденья пассажира\\n• электростеклоподъемники передние\\n• электропривод зеркал\\n• климат-контроль\\n• подогрев сидений водителя и пассажира\\n• подогрев руля\\n• обогрев зеркал\\n• обогрев форсунок стеклоомывателей\\n• навигационная система\\n• cd\\n• hi-fi\\n• мультифункциональное рулевое колесо\\n• кожаная обивка салона\\n• темный салон\\n• кожаный руль\\n• спортивные передние сидения\\n• складывающееся заднее сидение\\n• литые легкосплавные диски\\n• размер дисков 18″\\n• защита картера\\n• светодиодные фары\\n• противотуманные фары\\n• корректор фар      1\n",
      "продаю верного помощника.\\nкуплен и эксплуатируется с лета 2014 года.\\nс первым владельцем есть связь, могу познакомить.\\nавто очень ухоженное, в техническом плане в идеале. салон в очень хорошем состоянии.\\nдва комплекта ключей, сервисная книжка, зимняя резина.\\nбез дтп.\\nсам покупал ее 2 года назад как помощника по бизнесу (аксессуары из дерева), наездил около 40000км, регулярно обслуживал в клубном сервисе.\\nзвоните, все расскажу и покажу.\\nлюбые проверки.                                                                                                                                                                                                                                                                                                                                                                                                                                                                                                                                                                                                                                                                                                                                                                                                                                                                                                                                                                                                                                                                                                                                                                                                                                                                                                                                                                                                                                                                                                                                                                                                                                                                                                                                                                                                                                                                                                                                                                                                                                                                                                                                                                                                                                                                                                                                                                                                                                                                                                                                                                                                                                                                                                                                                                                                                                                                                                                                                                                                                                                                                                                                                                                                                                                                                                                                                                                                                                                                                                                                                                                                                                                                                                                                                                                                                                                                                                                                                                                                                                                                                                                                                                                                                                                                                                                                                                                                                                                                                                                                                                                                                                                                                                                                                                                                                                                                                                                                                                                                                                                                                                                                                                                                                                                                                                                                                                                                                                                                                                                                                                                                                                                                                                                                                                                                                                                                                                                                                                                                                                                                                                                                                                                                                                                                                                                                                                                                                                                                                                                                                                                                          1\n",
      "эксклюзивные условия в «звезда столицы каширка».\\n\\nмы предлагаем уникальные условия покупки на новые автомобили «мерседес-бенц». даже если у вас есть предложение, которое кажется оптимальным, позвоните нам, и мы постараемся его улучшить.\\n\\nавтомобили «мерседес-бенц» - это воплощение вашего статуса и успеха. поэтому высочайший уровень сервиса, ваше удобство и доверие являются для нас не только абсолютным приоритетом, но и основой ежедневной работы. мы будет рады предоставить исчерпывающую информацию об автомобилях и поможем подобрать именно ваш «мерседес-бенц» на максимально удобных условиях.\\n\\nдо встречи в «звезде столицы каширка»!\\n\\nкомплектация: amg gt 43 4matic+ особая серия\\nцвет кузова: designo серый селенит magno\\nинтерьер: искусственная кожа artico / микроволокно dinamica, черная\\nинструкция по эксплуатации и сервисная книжка на русском языке\\nпакет функций для интеграции со смартфоном\\napple carplay\\nфункция android auto для интеграции со смартфоном\\nсистема мониторинга \"слепых\" зон\\nактивный парковочный ассистент, вкл. parktronic\\nвнутреннее и наружное зеркало заднего вида на стороне водителя с автоматическим затемнением\\namg track pace\\nсистема экстренного торможения (active brake assist)\\ngps-антенна\\nтелефонная антенна\\nсидение водителя с элетрорегулировкой и функцией памяти\\nколенная подушка безопасности для водителя\\nпакет систем хранения\\nподстаканники спереди, 2 шт.\\nсистема аварийного вызова \"мерседес-бенц\"\\nподготовка под установку навигационного модуля\\nкоммуникационнй модуль (lte)\\nнавигация\\nслужба дорожной информации live traffic information\\nакпп 9g-tronic\\nмультифункциональное рулевое колесо с подогревом\\ntouchpad\\nподвеска dynamic body control\\nсистема контроля давления воздуха в шинах\\nэлектрические складываемые зеркала справа и слева\\nкамера с обзором 360\\nсистема распознавания дорожных знаков\\nпотолок с отделкой тканью черного цвета\\n\\nмультимедийная система mbux\\nпротивоугонная сигнализация с защитой от буксировки\\nавтоматическая климатическая установка thermatic\\nкожа nappa эксклюзив amg серая магма/ коричневый эспрессо\\nадаптивные фары дальнего света plus\\nсветодиодная система multibeam led, включая адаптивный ассистент дальнего света\\nупаковка отправляемых автомобилей\\nфункция использования остаточного тепла двигателя\\nакустическая система surround harman/kardon logic7\\nдополнительное оборудование для стран с холодным климатом\\nтонированные стекла\\nцентральный дисплей 12.3\\nфункция hands-free-access\\nподогрев передних сидений\\nсистема омывателя ветрового стекла с обогревом\\nинфракрасная сигнализация проникновения в салон\\nавтодоводчики\\nсистема keyless-go\\nзадняя дверь easy-pack\\nрасширенная подсветка салона ambient lighting\\nтопливный бак на 75 литров\\nтехнология очистки выбросов euro 6\\nтабличка с vin-номером за лобовым стеклом\\nстартер-генератор eq boost\\nтормозные суппорты, окрашенные в серебристый цвет\\ntirefit с компрессором для накачивания шин\\nпереключатель dynamic select\\n\\nпостгарантийный сервисный пакет на 3-й и 4-й годы\\nтелефонный модуль с профилем bluetooth® (профиль sap)\\nдекоративные элементы из дерева, серебристый крупнопористый ясень\\nрулевое колесо amg performance, обтянутое кожей наппа, с перфорацией\\nкомфорт пакет keyless-go\\nпарковочный пакет вкл. камеру заднего вида\\nпакет зеркал\\nпротивоугонный пакет\\nпакет amg night\\nлетние шины\\nкованые колесные диски amg 53,3 см (21\") с крестообразными спицами, с черной матовой лакировкой и полированным ободом\\nиндикация непристегнутых ремней безопаности в задней части салона\\nпереднее пассажирское сиденье с датчиком веса\\nнапольные коврики amg\\nактивный капот для защиты пешеходов\\n\\nусловия данной акции уточняйте у менеджера отдела продаж по телефону.\\n\\nданная цена действует при приобретении автомобиля в кредит, оформлении полиса каско и трейд-ин.\\nавтомобиль в поставке.                                                                                                                                                                                                                                                                                                                                                                                                                                                                                                                                                                                                                                                                                                                                                                                                                                                                                                                                                                                                                                                                                                                                                                                                                                                                                                                                                                                                                                                                                                                                                                                                                                                                                                                                                                                                                                                                                                                                                                                                                                                                                                                                                                                                                                                                                                                                                                                                                                                                                                                                                                                                                                                                                                                                                                                                                                                                                                                                                                                                                                                                                           1\n",
      "дни продаж «мерседес-бенц» в авилон!\\n\\nавилон легенда - уникальный инновационный центр «мерседес-бенц» на третьем кольце на улице автозаводская 23к5.\\n\\nдо конца сезона мы сделаем для вас лучшее предложение в честь открытия авилон легенды! просто позвоните!\\n\\nдля вашего удобства:\\n* дополнительные привилегии по trade in\\n* кредитная программа от 4,5%\\n* программа с остаточным платежом (минимальный ежемесячный платёж от 8000 в месяц)\\n* лизинг (20% ндс к зачету)\\n* более 1500 автомобилей в наличии\\n* удобное расположение\\n* подарки на выдачу\\n* организация необычной выдачи\\n\\nизображения и детали комплектации представленного автомобиля могут незначительно отличаться от оригинала. данный автомобиль лучше увидеть своими глазами! будем ждать вас в нашем салоне на автозаводской 23к5. пожалуйста, уточняйте финальную стоимость у вашего менеджера.\\n\\n\\nвнутренний номер 09-524-22968                                                                                                                                                                                                                                                                                                                                                                                                                                                                                                                                                                                                                                                                                                                                                                                                                                                                                                                                                                                                                                                                                                                                                                                                                                                                                                                                                                                                                                                                                                                                                                                                                                                                                                                                                                                                                                                                                                                                                                                                                                                                                                                                                                                                                                                                                                                                                                                                                                                                                                                                                                                                                                                                                                                                                                                                                                                                                                                                                                                                                                                                                                                                                                                                                                                                                                                                                                                                                                                                                                                                                                                                                                                                                                                                                                                                                                                                                                                                                                                                                                                                                                                                                                                                                                                                                                                                                                                                                                                                                                                                                                                                                                                                                                                                                                                                                                                                                                                                                                                                                                                                                                                                                                                                                                                                                                                                                                                                                                                                                                                                                                                                                                                                                                                                                                                                                                                                                                                                                                                                                                                                                                                                                                 1\n",
      "продаю авто в хорошем состоянии. установлено новое  газовое оборудование.                                                                                                                                                                                                                                                                                                                                                                                                                                                                                                                                                                                                                                                                                                                                                                                                                                                                                                                                                                                                                                                                                                                                                                                                                                                                                                                                                                                                                                                                                                                                                                                                                                                                                                                                                                                                                                                                                                                                                                                                                                                                                                                                                                                                                                                                                                                                                                                                                                                                                                                                                                                                                                                                                                                                                                                                                                                                                                                                                                                                                                                                                                                                                                                                                                                                                                                                                                                                                                                                                                                                                                                                                                                                                                                                                                                                                                                                                                                                                                                                                                                                                                                                                                                                                                                                                                                                                                                                                                                                                                                                                                                                                                                                                                                                                                                                                                                                                                                                                                                                                                                                                                                                                                                                                                                                                                                                                                                                                                                                                                                                                                                                                                                                                                                                                                                                                                                                                                                                                                                                                                                                                                                                                                                                                                                                                                                                                                                                                                                                                                                                                                                                                                                                                                                                                                                                                                                                                                                                                                                                                1\n",
      "Name: description, Length: 86592, dtype: int64\n"
     ]
    }
   ],
   "source": [
    "show(\"description\")"
   ]
  },
  {
   "cell_type": "markdown",
   "metadata": {},
   "source": [
    "Заменим пропуски на пустую строку"
   ]
  },
  {
   "cell_type": "code",
   "execution_count": 138,
   "metadata": {},
   "outputs": [],
   "source": [
    "data_temp['description'].fillna('[]', inplace=True)"
   ]
  },
  {
   "cell_type": "markdown",
   "metadata": {},
   "source": [
    "Выведем новые признаки"
   ]
  },
  {
   "cell_type": "code",
   "execution_count": 139,
   "metadata": {},
   "outputs": [],
   "source": [
    "data_temp['description_word'] = data_temp['description'].apply(\n",
    "    lambda x: [i for i in x.split()])\n",
    "\n",
    "data_temp['salon'] = data_temp['description_word'].apply(lambda x:\n",
    "                                                         1 if ('рольф' or 'панавто' or 'дилер' or 'кредит' or 'обмен' or 'скид' or 'trade-in' or 'выгода' or 'работаем для вас' or 'автосалон' or 'ликвидация') in x else 0)\n",
    "data_temp['torg'] = data_temp['description_word'].apply(lambda x:\n",
    "                                                        1 if ('торг') in x else 0)\n",
    "data_temp['leather'] = data_temp['description_word'].apply(lambda x:\n",
    "                                                           1 if ('темный' and 'салон') in x else 0)\n",
    "data_temp['carter'] = data_temp['description_word'].apply(lambda x:\n",
    "                                                          1 if ('защита' and 'картера') in x else 0)\n",
    "data_temp['ABS'] = data_temp['description_word'].apply(lambda x:\n",
    "                                                       1 if ('антиблокировочная' and 'система') in x else 0)\n",
    "data_temp['airbags'] = data_temp['description_word'].apply(lambda x:\n",
    "                                                           1 if ('подушки' and 'безопасности') in x else 0)\n",
    "data_temp['immob'] = data_temp['description_word'].apply(lambda x:\n",
    "                                                         1 if ('иммобилайзер') in x else 0)\n",
    "data_temp['central_locking'] = data_temp['description_word'].apply(lambda x:\n",
    "                                                                   1 if ('центральный' and 'замок') in x else 0)\n",
    "data_temp['on_board_computer'] = data_temp['description_word'].apply(lambda x:\n",
    "                                                                     1 if ('бортовой' and 'компьютер') in x else 0)\n",
    "data_temp['cruise_control'] = data_temp['description_word'].apply(lambda x:\n",
    "                                                                  1 if ('круиз-контроль') in x else 0)\n",
    "data_temp['climat_control'] = data_temp['description_word'].apply(lambda x:\n",
    "                                                                  1 if ('климат-контроль') in x else 0)\n",
    "data_temp['multi_rudder'] = data_temp['description_word'].apply(lambda x:\n",
    "                                                                1 if ('мультифункциональный' and 'руль') in x else 0)\n",
    "data_temp['power_steering'] = data_temp['description_word'].apply(lambda x:\n",
    "                                                                  1 if ('гидроусилитель' or 'гидро' or 'усилитель' and 'руля') in x else 0)\n",
    "data_temp['light_and_rain_sensors'] = data_temp['description_word'].apply(lambda x:\n",
    "                                                                          1 if ('датчики' and 'света' and 'дождя') in x else 0)\n",
    "data_temp['сarbon_body_kits'] = data_temp['description_word'].apply(lambda x:\n",
    "                                                                    1 if ('карбоновые' and 'обвесы') in x else 0)\n",
    "data_temp['rear_diffuser_rkp'] = data_temp['description_word'].apply(lambda x:\n",
    "                                                                     1 if ('задний' and 'диффузор') in x else 0)\n",
    "data_temp['door_closers'] = data_temp['description_word'].apply(lambda x:\n",
    "                                                                1 if ('доводчики' and 'дверей') in x else 0)\n",
    "data_temp['rear_view_camera'] = data_temp['description_word'].apply(lambda x:\n",
    "                                                                    1 if ('камера' or 'видеокамера' and 'заднего' and 'вида') in x else 0)\n",
    "data_temp['amg'] = data_temp['description_word'].apply(lambda x:\n",
    "                                                       1 if ('amg') in x else 0)\n",
    "data_temp['bi_xenon_headlights'] = data_temp['description_word'].apply(lambda x:\n",
    "                                                                       1 if ('биксеноновые' and 'фары') in x else 0)\n",
    "data_temp['alloy_wheels'] = data_temp['description_word'].apply(lambda x:\n",
    "                                                                1 if ('легкосплавные' or 'колесные' or 'диски') in x else 0)\n",
    "data_temp['parking_sensors'] = data_temp['description_word'].apply(lambda x:\n",
    "                                                                   1 if ('парктроник' or 'парктронник') in x else 0)\n",
    "data_temp['dents'] = data_temp['description_word'].apply(lambda x:\n",
    "                                                         1 if ('вмятины' or 'вмятина' or 'царапина' or 'царапины' or 'трещина') in x else 0)\n",
    "data_temp['roof_with_panoramic_view'] = data_temp['description_word'].apply(lambda x:\n",
    "                                                                            1 if ('панорамная' and 'крыша') in x else 0)\n",
    "\n",
    "data_temp.drop(['description', 'description_word'], axis=1, inplace=True)"
   ]
  },
  {
   "cell_type": "code",
   "execution_count": 140,
   "metadata": {},
   "outputs": [
    {
     "name": "stdout",
     "output_type": "stream",
     "text": [
      "<class 'pandas.core.frame.DataFrame'>\n",
      "Int64Index: 122370 entries, 0 to 189930\n",
      "Data columns (total 56 columns):\n",
      " #   Column                    Non-Null Count   Dtype  \n",
      "---  ------                    --------------   -----  \n",
      " 0   bodyType                  122370 non-null  object \n",
      " 1   brand                     122370 non-null  object \n",
      " 2   color                     122370 non-null  object \n",
      " 3   complectation_dict        122370 non-null  int64  \n",
      " 4   engineDisplacement        122370 non-null  object \n",
      " 5   enginePower               122370 non-null  object \n",
      " 6   equipment_dict            63274 non-null   object \n",
      " 7   fuelType                  122370 non-null  object \n",
      " 8   image                     73269 non-null   object \n",
      " 9   mileage                   122370 non-null  float64\n",
      " 10  modelDate                 122370 non-null  float64\n",
      " 11  model_info                73270 non-null   object \n",
      " 12  model_name                122370 non-null  object \n",
      " 13  name                      122370 non-null  object \n",
      " 14  numberOfDoors             122370 non-null  float64\n",
      " 15  parsing_unixtime          73270 non-null   object \n",
      " 16  priceCurrency             73270 non-null   object \n",
      " 17  productionDate            122370 non-null  float64\n",
      " 18  sell_id                   73270 non-null   object \n",
      " 19  super_gen                 73270 non-null   object \n",
      " 20  vehicleConfiguration      122370 non-null  object \n",
      " 21  vehicleTransmission       122370 non-null  object \n",
      " 22  vendor                    73202 non-null   object \n",
      " 23  Владельцы                 101088 non-null  object \n",
      " 24  Владение                  36099 non-null   object \n",
      " 25  ПТС                       111782 non-null  object \n",
      " 26  Привод                    112045 non-null  object \n",
      " 27  Руль                      112045 non-null  object \n",
      " 28  Состояние                 62945 non-null   object \n",
      " 29  Таможня                   112045 non-null  object \n",
      " 30  sample                    122370 non-null  int64  \n",
      " 31  price                     122370 non-null  float64\n",
      " 32  salon                     122370 non-null  int64  \n",
      " 33  torg                      122370 non-null  int64  \n",
      " 34  leather                   122370 non-null  int64  \n",
      " 35  carter                    122370 non-null  int64  \n",
      " 36  ABS                       122370 non-null  int64  \n",
      " 37  airbags                   122370 non-null  int64  \n",
      " 38  immob                     122370 non-null  int64  \n",
      " 39  central_locking           122370 non-null  int64  \n",
      " 40  on_board_computer         122370 non-null  int64  \n",
      " 41  cruise_control            122370 non-null  int64  \n",
      " 42  climat_control            122370 non-null  int64  \n",
      " 43  multi_rudder              122370 non-null  int64  \n",
      " 44  power_steering            122370 non-null  int64  \n",
      " 45  light_and_rain_sensors    122370 non-null  int64  \n",
      " 46  сarbon_body_kits          122370 non-null  int64  \n",
      " 47  rear_diffuser_rkp         122370 non-null  int64  \n",
      " 48  door_closers              122370 non-null  int64  \n",
      " 49  rear_view_camera          122370 non-null  int64  \n",
      " 50  amg                       122370 non-null  int64  \n",
      " 51  bi_xenon_headlights       122370 non-null  int64  \n",
      " 52  alloy_wheels              122370 non-null  int64  \n",
      " 53  parking_sensors           122370 non-null  int64  \n",
      " 54  dents                     122370 non-null  int64  \n",
      " 55  roof_with_panoramic_view  122370 non-null  int64  \n",
      "dtypes: float64(5), int64(26), object(25)\n",
      "memory usage: 53.2+ MB\n"
     ]
    }
   ],
   "source": [
    "data_temp.info()"
   ]
  },
  {
   "cell_type": "markdown",
   "metadata": {},
   "source": [
    "### engineDisplacement"
   ]
  },
  {
   "cell_type": "code",
   "execution_count": 141,
   "metadata": {},
   "outputs": [
    {
     "name": "stdout",
     "output_type": "stream",
     "text": [
      "2.0 ltr    18691\n",
      "1.6 ltr    10246\n",
      "3.0 ltr     8789\n",
      "2.0         7031\n",
      "1.8 ltr     5915\n",
      "           ...  \n",
      "3.6d           1\n",
      "sf             1\n",
      "easy           1\n",
      "shuttle        1\n",
      "535xi          1\n",
      "Name: engineDisplacement, Length: 465, dtype: int64\n"
     ]
    }
   ],
   "source": [
    "show(\"engineDisplacement\")"
   ]
  },
  {
   "cell_type": "markdown",
   "metadata": {},
   "source": [
    "Заменим \"ltr\" на \"\". Тогда признак получится преобразовать в числовой"
   ]
  },
  {
   "cell_type": "code",
   "execution_count": 142,
   "metadata": {},
   "outputs": [],
   "source": [
    "def change_ltr(row):\n",
    "    row_temp = str(row)\n",
    "    row_temp = row_temp.replace(' ltr', '')\n",
    "    try:\n",
    "        return float(row_temp)\n",
    "    except:\n",
    "        return 0\n",
    "\n",
    "\n",
    "data_temp['engineDisplacement'] = data_temp['engineDisplacement'].apply(\n",
    "    change_ltr).astype('float64')"
   ]
  },
  {
   "cell_type": "markdown",
   "metadata": {},
   "source": [
    "### enginePower"
   ]
  },
  {
   "cell_type": "code",
   "execution_count": 143,
   "metadata": {},
   "outputs": [
    {
     "name": "stdout",
     "output_type": "stream",
     "text": [
      "249 n12    5220\n",
      "150 n12    4273\n",
      "249.0      3377\n",
      "150.0      3158\n",
      "110 n12    2704\n",
      "           ... \n",
      "189.0         1\n",
      "550.0         1\n",
      "66 n12        1\n",
      "303 n12       1\n",
      "254 n12       1\n",
      "Name: enginePower, Length: 636, dtype: int64\n"
     ]
    }
   ],
   "source": [
    "show(\"enginePower\")"
   ]
  },
  {
   "cell_type": "markdown",
   "metadata": {},
   "source": [
    "Заменим \"n12\" на \"\". Тогда признак получится преобразовать в числовой"
   ]
  },
  {
   "cell_type": "code",
   "execution_count": 144,
   "metadata": {},
   "outputs": [],
   "source": [
    "def change_ltr(row):\n",
    "    row_temp = str(row)\n",
    "    row_temp = row_temp.replace(' n12', '')\n",
    "    try:\n",
    "        return int(row_temp)\n",
    "    except:\n",
    "        return 0\n",
    "\n",
    "\n",
    "data_temp['enginePower'] = data_temp['enginePower'].apply(\n",
    "    change_ltr).astype('int64')"
   ]
  },
  {
   "cell_type": "markdown",
   "metadata": {},
   "source": [
    "### equipment_dict"
   ]
  },
  {
   "cell_type": "code",
   "execution_count": 145,
   "metadata": {},
   "outputs": [
    {
     "name": "stdout",
     "output_type": "stream",
     "text": [
      "{}                                                                                                                                                                                                                                                                                                                                                                                                                                                                                                                                                                                                                                                                                                                                                                                                                                                                                                                                                                                                                                                                                                                                                                                                                                                                                                                                                                                                                                                                                                                                 6819\n",
      "{'glonass': true, 'asr': true, 'esp': true, 'airbag-driver': true, 'isofix': true, 'usb': true, 'electro-window-front': true, 'spare-wheel': true, 'audiosystem-tv': true, 'heated-wash-system': true, 'airbag-passenger': true, 'computer': true, 'apple-carplay': true, 'seat-transformation': true, 'bas': true, 'android-auto': true, 'alarm': true, 'lock': true, 'servo': true, 'fabric-seats': true, 'electro-mirrors': true, 'drl': true, 'electro-window-back': true, 'steel-wheels': true, 'tyre-pressure': true, 'mirrors-heat': true, 'audiosystem-cd': true, 'driver-seat-updown': true, 'condition': true, 'abs': true, 'led-lights': true, 'bluetooth': true, 'front-seats-heat': true, 'wheel-configuration2': true, 'wheel-configuration1': true, 'immo': true, '12v-socket': true, 'third-rear-headrest': true, '15-inch-wheels': true}                                                                                                                                                                                                                                                                                                                                                                                                                                                                                                                                                                                                                                                                           143\n",
      "{'leather': true}                                                                                                                                                                                                                                                                                                                                                                                                                                                                                                                                                                                                                                                                                                                                                                                                                                                                                                                                                                                                                                                                                                                                                                                                                                                                                                                                                                                                                                                                                                                   123\n",
      "{\"leather\":true}                                                                                                                                                                                                                                                                                                                                                                                                                                                                                                                                                                                                                                                                                                                                                                                                                                                                                                                                                                                                                                                                                                                                                                                                                                                                                                                                                                                                                                                                                                                    108\n",
      "{\"gbo\":true}                                                                                                                                                                                                                                                                                                                                                                                                                                                                                                                                                                                                                                                                                                                                                                                                                                                                                                                                                                                                                                                                                                                                                                                                                                                                                                                                                                                                                                                                                                                        106\n",
      "                                                                                                                                                                                                                                                                                                                                                                                                                                                                                                                                                                                                                                                                                                                                                                                                                                                                                                                                                                                                                                                                                                                                                                                                                                                                                                                                                                                                                                                                                                                                   ... \n",
      "{'asr': true, 'esp': true, 'usb': true, 'multi-wheel': true, 'audiosystem-tv': true, 'heated-wash-system': true, 'ashtray-and-cigarette-lighter': true, 'airbag-passenger': true, 'front-centre-armrest': true, 'navigation': true, 'apple-carplay': true, 'decorative-interior-lighting': true, 'lock': true, 'door-sill-panel': true, 'servo': true, 'electro-mirrors': true, 'activ-suspension': true, 'drl': true, 'electro-window-back': true, '16-inch-wheels': true, 'mirrors-heat': true, 'park-assist-f': true, 'dark-interior': true, 'wheel-heat': true, 'led-lights': true, 'park-assist-r': true, 'engine-proof': true, 'start-stop-function': true, 'airbag-driver': true, 'aux': true, 'isofix': true, 'electro-window-front': true, 'drive-mode-sys': true, 'light-sensor': true, 'hcc': true, 'airbag-curtain': true, 'passenger-seat-updown': true, 'computer': true, 'high-beam-assist': true, 'keyless-entry': true, 'seat-transformation': true, 'fabric-seats': true, 'steel-wheels': true, 'ptf': true, 'start-button': true, 'rain-sensor': true, 'airbag-side': true, 'tyre-pressure': true, 'voice-recognition': true, 'audiosystem-cd': true, 'electronic-gage-panel': true, 'auto-cruise': true, 'abs': true, 'bluetooth': true, 'power-child-locks-rear-doors': true, 'front-seats-heat': true, 'wheel-leather': true, 'wheel-configuration2': true, 'wheel-configuration1': true, 'immo': true, 'climate-control-2': true, 'auto-mirrors': true, '12v-socket': true, 'third-rear-headrest': true}       1\n",
      "{\"cruise-control\":true,\"asr\":true,\"esp\":true,\"airbag-driver\":true,\"electro-window-front\":true,\"light-sensor\":true,\"e-adjustment-wheel\":true,\"airbag-passenger\":true,\"collision-prevention-assist\":true,\"computer\":true,\"wheel-power\":true,\"lock\":true,\"light-cleaner\":true,\"driver-seat-electric\":true,\"wheel-memory\":true,\"electro-mirrors\":true,\"airbag-rear-side\":true,\"ptf\":true,\"rain-sensor\":true,\"airbag-side\":true,\"audiosystem-cd\":true,\"panorama-roof\":true,\"leather\":true,\"driver-seat-updown\":true,\"front-seats-heat\":true,\"wheel-leather\":true,\"driver-seat-memory\":true,\"light-interior\":true,\"climate-control-2\":true}                                                                                                                                                                                                                                                                                                                                                                                                                                                                                                                                                                                                                                                                                                                                                                                                                                                                                                 1\n",
      "{\"engine-proof\":true,\"adaptive-light\":true,\"airbag-driver\":true,\"isofix\":true,\"aux\":true,\"electro-window-front\":true,\"spare-wheel\":true,\"ashtray-and-cigarette-lighter\":true,\"airbag-passenger\":true,\"front-centre-armrest\":true,\"computer\":true,\"bas\":true,\"seat-transformation\":true,\"wheel-power\":true,\"lock\":true,\"light-cleaner\":true,\"fabric-seats\":true,\"drl\":true,\"electro-mirrors\":true,\"electro-window-back\":true,\"airbag-rear-side\":true,\"alloy-wheel-disks\":true,\"16-inch-wheels\":true,\"leather-gear-stick\":true,\"ptf\":true,\"airbag-side\":true,\"tyre-pressure\":true,\"mirrors-heat\":true,\"volume-sensor\":true,\"dark-interior\":true,\"electronic-gage-panel\":true,\"driver-seat-updown\":true,\"front-seats-heat\":true,\"wheel-configuration2\":true,\"wheel-leather\":true,\"wheel-configuration1\":true,\"immo\":true,\"climate-control-2\":true,\"park-assist-r\":true,\"12v-socket\":true,\"third-rear-headrest\":true}                                                                                                                                                                                                                                                                                                                                                                                                                                                                                                                                                                                                                     1\n",
      "{\"cruise-control\":true,\"esp\":true,\"usb\":true,\"multi-wheel\":true,\"audiosystem-tv\":true,\"heated-wash-system\":true,\"ashtray-and-cigarette-lighter\":true,\"airbag-passenger\":true,\"front-centre-armrest\":true,\"apple-carplay\":true,\"lock\":true,\"electro-mirrors\":true,\"electro-window-back\":true,\"16-inch-wheels\":true,\"mirrors-heat\":true,\"volume-sensor\":true,\"cooling-box\":true,\"220v-socket\":true,\"park-assist-r\":true,\"glonass\":true,\"airbag-driver\":true,\"isofix\":true,\"aux\":true,\"electro-window-front\":true,\"hcc\":true,\"airbag-curtain\":true,\"computer\":true,\"seat-transformation\":true,\"android-auto\":true,\"wheel-power\":true,\"alarm\":true,\"fabric-seats\":true,\"ptf\":true,\"rain-sensor\":true,\"airbag-side\":true,\"voice-recognition\":true,\"audiosystem-cd\":true,\"abs\":true,\"front-seats-heat\":true,\"power-child-locks-rear-doors\":true,\"bluetooth\":true,\"wheel-leather\":true,\"wheel-configuration2\":true,\"wheel-configuration1\":true,\"immo\":true,\"climate-control-1\":true,\"12v-socket\":true}                                                                                                                                                                                                                                                                                                                                                                                                                                                                                                                                       1\n",
      "{\"asr\":true,\"tinted-glass\":true,\"ptf\":true,\"esp\":true,\"aux\":true,\"mirrors-heat\":true,\"audiosystem-cd\":true,\"abs\":true,\"front-seats-heat\":true,\"bluetooth\":true,\"wheel-power\":true,\"lock\":true,\"climate-control-1\":true,\"fabric-seats\":true,\"electro-mirrors\":true}                                                                                                                                                                                                                                                                                                                                                                                                                                                                                                                                                                                                                                                                                                                                                                                                                                                                                                                                                                                                                                                                                                                                                                                                                                                                    1\n",
      "Name: equipment_dict, Length: 47001, dtype: int64\n"
     ]
    }
   ],
   "source": [
    "show(\"equipment_dict\")"
   ]
  },
  {
   "cell_type": "markdown",
   "metadata": {},
   "source": [
    "Заменим пропуски на минимальное значение. Попробуем привести признак к его длине,посмотрим на метрику"
   ]
  },
  {
   "cell_type": "code",
   "execution_count": 146,
   "metadata": {},
   "outputs": [],
   "source": [
    "data_temp['equipment_dict'].fillna(\"{}\", inplace=True)\n",
    "data_temp['equipment_dict'] = data_temp['equipment_dict'].apply(\n",
    "    lambda x: len(x))"
   ]
  },
  {
   "cell_type": "markdown",
   "metadata": {},
   "source": [
    "### fuelType"
   ]
  },
  {
   "cell_type": "code",
   "execution_count": 147,
   "metadata": {},
   "outputs": [
    {
     "data": {
      "image/png": "[encoded data removed]",
      "text/plain": [
       "<Figure size 432x288 with 1 Axes>"
      ]
     },
     "metadata": {
      "needs_background": "light"
     },
     "output_type": "display_data"
    }
   ],
   "source": [
    "show(\"fuelType\")"
   ]
  },
  {
   "cell_type": "markdown",
   "metadata": {},
   "source": [
    "Почти все авто на бензине.\n",
    "\n",
    "Добавим признак в dummy ,т.к. значений не так много."
   ]
  },
  {
   "cell_type": "code",
   "execution_count": 148,
   "metadata": {},
   "outputs": [],
   "source": [
    "col_dum.append('fuelType')"
   ]
  },
  {
   "cell_type": "markdown",
   "metadata": {},
   "source": [
    "### image"
   ]
  },
  {
   "cell_type": "code",
   "execution_count": 149,
   "metadata": {},
   "outputs": [
    {
     "name": "stdout",
     "output_type": "stream",
     "text": [
      "https://avatars.mds.yandex.net/get-verba/787013/2a000001609d6c09eb305345ee1ea7e7bd15/wizardv3mr                                                                                                                                  21\n",
      "https://avatars.mds.yandex.net/get-verba/216201/2a000001609bda17487cc63d8b957ab4aab2/wizardv3mr                                                                                                                                  18\n",
      "https://avatars.mds.yandex.net/get-verba/1030388/2a000001609cf6746b94cf8334836265daaf/wizardv3mr                                                                                                                                 17\n",
      "https://avatars.mds.yandex.net/get-verba/787013/2a000001609ceeb68cbe6dd25fd2629211da/wizardv3mr                                                                                                                                  15\n",
      "https://avatars.mds.yandex.net/get-verba/216201/2a0000016099a4e6be992d7b50134fd908fd/wizardv3mr                                                                                                                                  14\n",
      "                                                                                                                                                                                                                                 ..\n",
      "https://autoru.naydex.net/k9qv8in46/8c226fe_ejsz/hdjwpevc6hbci0c4gxcvvt5rgcrekpj5iiboizrw7z034in2pxogfcmnjtk3wkbafjsz-8a8tuwmgmr063tfota5arbxaqwzxv8upuwdw4i7zzs_sbwxvdthawvzgbzelylqpwnc97w9jer9qqyhr5hx4oww3q_6yzd1yy7w#dsd     1\n",
      "https://autoru.naydex.net/k9qv8in46/8c226fe_ejsz/hdjwpevc6hbci0c4gxcvvt5rgcrekpj5iiboizrw7z034in2pxogfcmnvrmxgoy67jg2-5u8agwc8ger-35fvzvsusdxt_yzu5_xzdxgppdbfzs_sbwxvdthawvzgbzelylqpwnc97w9jer9qqyhr5hx4oww3q_6yzd1yy7w#dsd     1\n",
      "https://autoru.naydex.net/csrr96a18/708ec0rhy5eu/ltifie2vpy8oetoeugcl8a4pxbiusjmmy1wtwl4hitiouqxijae00u2tccyucmeyqb9ihqplkb-91gwupwldxzyza_vztafkmrblkectrhslhddn4m38y98bltr9d9lrijdgsuowrxe5krqs-jymhz151himrtfr7qzivtdg#dsd     1\n",
      "https://autoru.naydex.net/k9qv8in46/8c226fe_ejsz/hdjwpevc6hbci0c4gxcvvt5rgcrekpj5iiboizrw7z034in2pxogfcmnjslhoob67jgmuyupofzj1xex3n7_z5v8iwxbd2wzs5orlfkgo5j-fzs_sbwxvdthawvzgbzelylqpwnc97w9jer9qqyhr5hx4oww3q_6yzd1yy7w#dsd     1\n",
      "https://autoru.naydex.net/licn99c69/9bc7d3rr7k/csgplbppuy6abcanl8oclpongsp7puqyynqyi2-pfajitov-f56kpri-wokfuhfrhgkaekpvuunbg_wrrh74pmbnh4lutx12zfpwtjmch22fvnnrlgmizpsl3fnxjujnxhbdweqix7goorqexf0bvzcyfa7xn3sp9jel5rbxsw#dsd     1\n",
      "Name: image, Length: 69718, dtype: int64\n"
     ]
    }
   ],
   "source": [
    "show(\"image\")"
   ]
  },
  {
   "cell_type": "markdown",
   "metadata": {},
   "source": [
    "Многие ссылки на фото повторяются. Есть карточки автомобилей с шаблонными фото авто. Помечаются как \"avatars\". Разобьем признак на наличие \"avatars\""
   ]
  },
  {
   "cell_type": "code",
   "execution_count": 150,
   "metadata": {},
   "outputs": [],
   "source": [
    "data_temp['image'].fillna(\n",
    "    data_temp['image'].value_counts().index[0], inplace=True)\n",
    "data_temp['image'] = data_temp['image'].apply(\n",
    "    lambda x: 1 if 'avatars' in x else 0)"
   ]
  },
  {
   "cell_type": "markdown",
   "metadata": {},
   "source": [
    "### mileage"
   ]
  },
  {
   "cell_type": "code",
   "execution_count": 151,
   "metadata": {},
   "outputs": [
    {
     "name": "stdout",
     "output_type": "stream",
     "text": [
      "0.0         21278\n",
      "200000.0     1318\n",
      "150000.0     1144\n",
      "250000.0     1103\n",
      "300000.0     1078\n",
      "            ...  \n",
      "54020.0         1\n",
      "109880.0        1\n",
      "120496.0        1\n",
      "91653.0         1\n",
      "179805.0        1\n",
      "Name: mileage, Length: 22074, dtype: int64\n"
     ]
    }
   ],
   "source": [
    "show('mileage')"
   ]
  },
  {
   "cell_type": "markdown",
   "metadata": {},
   "source": [
    "21278 авто с 0 пробегом. Возможно, это новые авто. Или продавец не указал пробег. Оставим пока как есть"
   ]
  },
  {
   "cell_type": "code",
   "execution_count": 152,
   "metadata": {},
   "outputs": [
    {
     "name": "stdout",
     "output_type": "stream",
     "text": [
      "Колонка mileage\n",
      "Количество выбросов ниже нижней границы: 0 (0.0%)\n",
      "Количество выбросов выше верхней границы: 1386 (1.13%)\n",
      "\n",
      "\n"
     ]
    }
   ],
   "source": [
    "show_outliers('mileage')"
   ]
  },
  {
   "cell_type": "markdown",
   "metadata": {},
   "source": [
    "Выбросов не много.(1%)"
   ]
  },
  {
   "cell_type": "code",
   "execution_count": 153,
   "metadata": {},
   "outputs": [
    {
     "data": {
      "image/png": "[encoded data removed]",
      "text/plain": [
       "<Figure size 432x288 with 1 Axes>"
      ]
     },
     "metadata": {
      "needs_background": "light"
     },
     "output_type": "display_data"
    }
   ],
   "source": [
    "show_distplot('mileage')"
   ]
  },
  {
   "cell_type": "markdown",
   "metadata": {},
   "source": [
    " Логарифмируем признак. Визуально распределение улучшилось"
   ]
  },
  {
   "cell_type": "code",
   "execution_count": 154,
   "metadata": {},
   "outputs": [],
   "source": [
    "log_f('mileage')"
   ]
  },
  {
   "cell_type": "markdown",
   "metadata": {},
   "source": [
    "В целом признак распределен нормально. ."
   ]
  },
  {
   "cell_type": "markdown",
   "metadata": {},
   "source": [
    "### modelDate"
   ]
  },
  {
   "cell_type": "code",
   "execution_count": 155,
   "metadata": {},
   "outputs": [
    {
     "name": "stdout",
     "output_type": "stream",
     "text": [
      "2017.0    7936\n",
      "2018.0    7745\n",
      "2010.0    7228\n",
      "2006.0    6694\n",
      "2008.0    6520\n",
      "          ... \n",
      "1965.0       2\n",
      "1973.0       2\n",
      "1904.0       2\n",
      "1950.0       1\n",
      "1957.0       1\n",
      "Name: modelDate, Length: 69, dtype: int64\n"
     ]
    }
   ],
   "source": [
    "show('modelDate')"
   ]
  },
  {
   "cell_type": "markdown",
   "metadata": {},
   "source": [
    "Больше всего авто с датой выпуска за 2017 год"
   ]
  },
  {
   "cell_type": "code",
   "execution_count": 156,
   "metadata": {},
   "outputs": [
    {
     "name": "stdout",
     "output_type": "stream",
     "text": [
      "Колонка modelDate\n",
      "Количество выбросов ниже нижней границы: 2313 (1.89%)\n",
      "Количество выбросов выше верхней границы: 0 (0.0%)\n",
      "\n",
      "\n"
     ]
    }
   ],
   "source": [
    "show_outliers('modelDate')"
   ]
  },
  {
   "cell_type": "markdown",
   "metadata": {},
   "source": [
    "Выбросов не много.(2+%)"
   ]
  },
  {
   "cell_type": "code",
   "execution_count": 157,
   "metadata": {},
   "outputs": [
    {
     "data": {
      "image/png": "[encoded data removed]",
      "text/plain": [
       "<Figure size 432x288 with 1 Axes>"
      ]
     },
     "metadata": {
      "needs_background": "light"
     },
     "output_type": "display_data"
    }
   ],
   "source": [
    "show_distplot('modelDate')"
   ]
  },
  {
   "cell_type": "code",
   "execution_count": 158,
   "metadata": {},
   "outputs": [],
   "source": [
    "log_f('modelDate')"
   ]
  },
  {
   "cell_type": "markdown",
   "metadata": {},
   "source": [
    "Логорифмирование признака не приводит к нормальному распределнию. Посмотрим на метрику."
   ]
  },
  {
   "cell_type": "markdown",
   "metadata": {},
   "source": [
    "### model_info"
   ]
  },
  {
   "cell_type": "code",
   "execution_count": 159,
   "metadata": {},
   "outputs": [
    {
     "name": "stdout",
     "output_type": "stream",
     "text": [
      "{\"code\":\"octavia\",\"name\":\"octavia\",\"ru_name\":\"октавия\",\"morphology\":{\"gender\":\"feminine\"},\"nameplate\":{\"code\":\"\",\"name\":\"\",\"semantic_url\":\"\"}}                   1404\n",
      "{'code': 'polo', 'name': 'polo', 'ru_name': 'поло', 'morphology': {}, 'nameplate': {'code': '', 'name': '', 'semantic_url': ''}}                                 1383\n",
      "{'code': 'e_klasse', 'name': 'e-класс', 'ru_name': 'е-класс', 'morphology': {}, 'nameplate': {'code': '9264766', 'name': '200', 'semantic_url': '200'}}          1004\n",
      "{'code': 'outlander', 'name': 'outlander', 'ru_name': 'аутлендер', 'morphology': {}, 'nameplate': {'code': '', 'name': '', 'semantic_url': ''}}                   975\n",
      "{'code': 'octavia', 'name': 'octavia', 'ru_name': 'октавия', 'morphology': {'gender': 'feminine'}, 'nameplate': {'code': '', 'name': '', 'semantic_url': ''}}     971\n",
      "                                                                                                                                                                 ... \n",
      "{\"code\":\"300zx\",\"name\":\"300zx\",\"ru_name\":\"300zx\",\"morphology\":{},\"nameplate\":{\"code\":\"\",\"name\":\"\",\"semantic_url\":\"\"}}                                               1\n",
      "{'code': 'gloria', 'name': 'gloria', 'ru_name': 'глория', 'morphology': {}, 'nameplate': {'code': '', 'name': '', 'semantic_url': ''}}                              1\n",
      "{'code': 'duet', 'name': 'duet', 'ru_name': 'дуэт', 'morphology': {}, 'nameplate': {'code': '', 'name': '', 'semantic_url': ''}}                                    1\n",
      "{\"code\":\"e3\",\"name\":\"e3\",\"ru_name\":\"е3\",\"morphology\":{},\"nameplate\":{\"code\":\"\",\"name\":\"\",\"semantic_url\":\"\"}}                                                        1\n",
      "{\"code\":\"platz\",\"name\":\"platz\",\"ru_name\":\"платз\",\"morphology\":{},\"nameplate\":{\"code\":\"\",\"name\":\"\",\"semantic_url\":\"\"}}                                               1\n",
      "Name: model_info, Length: 1828, dtype: int64\n"
     ]
    }
   ],
   "source": [
    "show(\"model_info\")"
   ]
  },
  {
   "cell_type": "markdown",
   "metadata": {},
   "source": [
    "Заполним пропуски и приведем признак к его длине. Посмотрим на метрику."
   ]
  },
  {
   "cell_type": "code",
   "execution_count": 160,
   "metadata": {},
   "outputs": [],
   "source": [
    "data_temp['model_info'].fillna('{}', inplace=True)\n",
    "data_temp['model_info'] = data_temp['model_info'].apply(lambda x: len(x))"
   ]
  },
  {
   "cell_type": "markdown",
   "metadata": {},
   "source": [
    "### model_name"
   ]
  },
  {
   "cell_type": "code",
   "execution_count": 161,
   "metadata": {},
   "outputs": [
    {
     "name": "stdout",
     "output_type": "stream",
     "text": [
      "octavia      3897\n",
      "polo         3411\n",
      "passat       3024\n",
      "outlander    2886\n",
      "5er          2695\n",
      "             ... \n",
      "roomy           1\n",
      "300zx           1\n",
      "s_mx            1\n",
      "528l            1\n",
      "moco            1\n",
      "Name: model_name, Length: 696, dtype: int64\n"
     ]
    }
   ],
   "source": [
    "show(\"model_name\")"
   ]
  },
  {
   "cell_type": "markdown",
   "metadata": {},
   "source": [
    "Уникальных моделей много,около 700. Добавим их для LabelEncoder ,чтобы не перегружать количеством признаков датасет."
   ]
  },
  {
   "cell_type": "code",
   "execution_count": 162,
   "metadata": {},
   "outputs": [],
   "source": [
    "col_en.append('model_name')"
   ]
  },
  {
   "cell_type": "markdown",
   "metadata": {},
   "source": [
    "### name"
   ]
  },
  {
   "cell_type": "code",
   "execution_count": 163,
   "metadata": {},
   "outputs": [
    {
     "name": "stdout",
     "output_type": "stream",
     "text": [
      "1.6 at (110 л.с.)                2386\n",
      "1.4 amt (150 л.с.)               1213\n",
      "1.6 mt (102 л.с.)                1178\n",
      "1.6 mt (110 л.с.)                1148\n",
      "2.0 cvt (146 л.с.) 4wd           1085\n",
      "                                 ... \n",
      "350 3.5 at (276 л.с.)               1\n",
      "2.5d mt (95 л.с.) 4wd               1\n",
      "1.5 cvt (182 л.с.)                  1\n",
      "111 cdi l1 2.1d mt (116 л.с.)       1\n",
      "500 5.0 mt (231 л.с.)               1\n",
      "Name: name, Length: 3667, dtype: int64\n"
     ]
    }
   ],
   "source": [
    "show(\"name\")"
   ]
  },
  {
   "cell_type": "markdown",
   "metadata": {},
   "source": [
    "Объем и мощность двигателя уже есть в других признаках.Удалим этот признак за ненадобностью."
   ]
  },
  {
   "cell_type": "code",
   "execution_count": 164,
   "metadata": {},
   "outputs": [],
   "source": [
    "data_temp.drop('name', axis=1, inplace=True)"
   ]
  },
  {
   "cell_type": "markdown",
   "metadata": {},
   "source": [
    "### numberOfDoors"
   ]
  },
  {
   "cell_type": "code",
   "execution_count": 165,
   "metadata": {},
   "outputs": [
    {
     "name": "stdout",
     "output_type": "stream",
     "text": [
      "5.0    69520\n",
      "4.0    47255\n",
      "2.0     3714\n",
      "3.0     1879\n",
      "0.0        2\n",
      "Name: numberOfDoors, dtype: int64\n"
     ]
    },
    {
     "data": {
      "image/png": "[encoded data removed]",
      "text/plain": [
       "<Figure size 432x288 with 1 Axes>"
      ]
     },
     "metadata": {
      "needs_background": "light"
     },
     "output_type": "display_data"
    }
   ],
   "source": [
    "show(\"numberOfDoors\", vc_show=True)"
   ]
  },
  {
   "cell_type": "markdown",
   "metadata": {},
   "source": [
    "Больше всего пятидверных авто. Но есть авто и без деверей.(ретро). \n",
    "\n",
    "Оставим признак как есть"
   ]
  },
  {
   "cell_type": "markdown",
   "metadata": {},
   "source": [
    "### parsing_unixtime"
   ]
  },
  {
   "cell_type": "code",
   "execution_count": 166,
   "metadata": {},
   "outputs": [],
   "source": [
    "data_temp['parsing_unixtime'].fillna(0, inplace=True)"
   ]
  },
  {
   "cell_type": "code",
   "execution_count": 167,
   "metadata": {},
   "outputs": [
    {
     "name": "stdout",
     "output_type": "stream",
     "text": [
      "0             49100\n",
      "1606223171        3\n",
      "1606290258        3\n",
      "1606288791        3\n",
      "1606289979        3\n",
      "              ...  \n",
      "1603284232        1\n",
      "1603220837        1\n",
      "1603272618        1\n",
      "1606243486        1\n",
      "1603284686        1\n",
      "Name: parsing_unixtime, Length: 56585, dtype: int64\n"
     ]
    }
   ],
   "source": [
    "show('parsing_unixtime')"
   ]
  },
  {
   "cell_type": "code",
   "execution_count": 168,
   "metadata": {},
   "outputs": [],
   "source": [
    "def ut_in_date(row):\n",
    "    value = dt.datetime.fromtimestamp(int(row))\n",
    "    return value.strftime('%Y-%m-%d %H:%M:%S')\n",
    "\n",
    "\n",
    "data_temp['parsing_unixtime'] = data_temp['parsing_unixtime'].apply(ut_in_date)"
   ]
  },
  {
   "cell_type": "code",
   "execution_count": 169,
   "metadata": {},
   "outputs": [
    {
     "name": "stdout",
     "output_type": "stream",
     "text": [
      "1970-01-01 03:00:00    49100\n",
      "2020-11-25 09:41:02        3\n",
      "2020-11-25 11:00:40        3\n",
      "2020-11-25 10:46:08        3\n",
      "2020-11-24 08:59:10        3\n",
      "                       ...  \n",
      "2020-10-21 19:59:51        1\n",
      "2020-10-21 13:02:59        1\n",
      "2020-10-20 23:10:23        1\n",
      "2020-10-21 02:31:13        1\n",
      "2020-10-21 15:50:03        1\n",
      "Name: parsing_unixtime, Length: 56585, dtype: int64\n"
     ]
    }
   ],
   "source": [
    "show('parsing_unixtime')"
   ]
  },
  {
   "cell_type": "markdown",
   "metadata": {},
   "source": [
    "Этот признак удаляем. Его можно было бы использовать для расчёта коэффициента влияния курса доллара на цены авто. (разница курса,когда проходил парсинг и когда прогнозируется цена).\n",
    "В данном случае, курс доллара на дату парсинга данных и на дату прогнозирования практически не отличается."
   ]
  },
  {
   "cell_type": "code",
   "execution_count": 170,
   "metadata": {},
   "outputs": [],
   "source": [
    "data_temp.drop('parsing_unixtime', axis=1, inplace=True)"
   ]
  },
  {
   "cell_type": "markdown",
   "metadata": {},
   "source": [
    "### priceCurrency"
   ]
  },
  {
   "cell_type": "code",
   "execution_count": 171,
   "metadata": {},
   "outputs": [
    {
     "data": {
      "image/png": "[encoded data removed]",
      "text/plain": [
       "<Figure size 432x288 with 1 Axes>"
      ]
     },
     "metadata": {
      "needs_background": "light"
     },
     "output_type": "display_data"
    }
   ],
   "source": [
    "show('priceCurrency')"
   ]
  },
  {
   "cell_type": "markdown",
   "metadata": {},
   "source": [
    "Валюта продажи только одна - \"rub\".  \n",
    "Удаляем признак"
   ]
  },
  {
   "cell_type": "code",
   "execution_count": 172,
   "metadata": {},
   "outputs": [],
   "source": [
    "data_temp.drop('priceCurrency', axis=1, inplace=True)"
   ]
  },
  {
   "cell_type": "markdown",
   "metadata": {},
   "source": [
    "### productionDate"
   ]
  },
  {
   "cell_type": "code",
   "execution_count": 173,
   "metadata": {},
   "outputs": [
    {
     "name": "stdout",
     "output_type": "stream",
     "text": [
      "2020.0    20698\n",
      "2012.0     8071\n",
      "2008.0     7851\n",
      "2011.0     7605\n",
      "2013.0     7233\n",
      "          ...  \n",
      "1939.0        2\n",
      "1936.0        2\n",
      "1904.0        2\n",
      "1954.0        1\n",
      "1966.0        1\n",
      "Name: productionDate, Length: 72, dtype: int64\n"
     ]
    }
   ],
   "source": [
    "show('productionDate')"
   ]
  },
  {
   "cell_type": "code",
   "execution_count": 174,
   "metadata": {},
   "outputs": [
    {
     "data": {
      "image/png": "[encoded data removed]",
      "text/plain": [
       "<Figure size 432x288 with 1 Axes>"
      ]
     },
     "metadata": {
      "needs_background": "light"
     },
     "output_type": "display_data"
    }
   ],
   "source": [
    "show_distplot('productionDate')"
   ]
  },
  {
   "cell_type": "markdown",
   "metadata": {},
   "source": [
    "Распределение не нормальное. Попробуем логарифмировать"
   ]
  },
  {
   "cell_type": "code",
   "execution_count": 175,
   "metadata": {},
   "outputs": [
    {
     "data": {
      "image/png": "[encoded data removed]",
      "text/plain": [
       "<Figure size 432x288 with 1 Axes>"
      ]
     },
     "metadata": {
      "needs_background": "light"
     },
     "output_type": "display_data"
    }
   ],
   "source": [
    "show_distplot('productionDate')"
   ]
  },
  {
   "cell_type": "markdown",
   "metadata": {},
   "source": [
    "Распределение не поменялось.Посмотрим на метрику"
   ]
  },
  {
   "cell_type": "code",
   "execution_count": 176,
   "metadata": {},
   "outputs": [
    {
     "name": "stdout",
     "output_type": "stream",
     "text": [
      "Колонка productionDate\n",
      "Количество выбросов ниже нижней границы: 1991 (1.63%)\n",
      "Количество выбросов выше верхней границы: 0 (0.0%)\n",
      "\n",
      "\n"
     ]
    }
   ],
   "source": [
    "show_outliers('productionDate')"
   ]
  },
  {
   "cell_type": "markdown",
   "metadata": {},
   "source": [
    "Выбросов мало (2%). Оставим как есть"
   ]
  },
  {
   "cell_type": "markdown",
   "metadata": {},
   "source": [
    "### sell_id"
   ]
  },
  {
   "cell_type": "code",
   "execution_count": 177,
   "metadata": {},
   "outputs": [
    {
     "name": "stdout",
     "output_type": "stream",
     "text": [
      "1101644209.0    3\n",
      "1101662199.0    3\n",
      "1101531855.0    3\n",
      "1101357486.0    2\n",
      "1101581846.0    2\n",
      "               ..\n",
      "1101541294.0    1\n",
      "1101304998      1\n",
      "1101312792.0    1\n",
      "1098671480      1\n",
      "1101245329      1\n",
      "Name: sell_id, Length: 72585, dtype: int64\n"
     ]
    }
   ],
   "source": [
    "show('sell_id')"
   ]
  },
  {
   "cell_type": "markdown",
   "metadata": {},
   "source": [
    "Заполним пропуски 0 и приведём к числовому типу. Попробуем использовать для обучения модели. "
   ]
  },
  {
   "cell_type": "code",
   "execution_count": 178,
   "metadata": {},
   "outputs": [],
   "source": [
    "data_temp['sell_id'].fillna(0, inplace=True)\n",
    "data_temp['sell_id'] = data_temp['sell_id'].astype('float64')"
   ]
  },
  {
   "cell_type": "markdown",
   "metadata": {},
   "source": [
    "### super_gen"
   ]
  },
  {
   "cell_type": "code",
   "execution_count": 179,
   "metadata": {},
   "outputs": [
    {
     "name": "stdout",
     "output_type": "stream",
     "text": [
      "{'id': '22163516', 'name': 'vi', 'ru_name': '6', 'year_from': 2020, 'price_segment': 'economy'}                                                                                                                                                                                680\n",
      "{'id': '21426162', 'name': 'ii (v167)', 'ru_name': '2 (v167)', 'year_from': 2018, 'price_segment': 'premium'}                                                                                                                                                                  662\n",
      "{'id': '21397304', 'name': 'iii рестайлинг 3', 'ru_name': '3 рестайлинг 3', 'year_from': 2018, 'price_segment': 'medium'}                                                                                                                                                      629\n",
      "{'id': '21733140', 'name': 'ii (c167)', 'ru_name': '2 (c167)', 'year_from': 2019, 'price_segment': 'premium'}                                                                                                                                                                  567\n",
      "{'id': '22284156', 'name': 'v (w213, s213, c238) рестайлинг', 'ru_name': '5 (w213, s213, c238) рестайлинг', 'year_from': 2020, 'price_segment': 'premium'}                                                                                                                     552\n",
      "                                                                                                                                                                                                                                                                              ... \n",
      "{\"id\":\"20494328\",\"displacement\":1496,\"engine_type\":\"gasoline\",\"gear_type\":\"all_wheel_drive\",\"transmission\":\"automatic\",\"power\":118,\"power_kvt\":87,\"human_name\":\"1.5 at (118 л.с.) 4wd\",\"acceleration\":12.7,\"clearance_min\":150}                                                  1\n",
      "{'id': '9272008', 'name': 'i (w163) рестайлинг', 'ru_name': '1 (w163) рестайлинг', 'year_from': 2001, 'year_to': 2005, 'price_segment': 'premium'}                                                                                                                               1\n",
      "{\"id\":\"2305663\",\"name\":\"760\",\"nameplate\":\"760i\",\"displacement\":5972,\"engine_type\":\"gasoline\",\"gear_type\":\"rear_drive\",\"transmission\":\"automatic\",\"power\":445,\"power_kvt\":327,\"human_name\":\"760i 6.0 at (445 л.с.)\",\"acceleration\":5.5,\"clearance_min\":151,\"fuel_rate\":13.6}      1\n",
      "{\"id\":\"21217327\",\"name\":\"733\",\"nameplate\":\"733i\",\"displacement\":3210,\"engine_type\":\"gasoline\",\"gear_type\":\"rear_drive\",\"transmission\":\"mechanical\",\"power\":197,\"power_kvt\":145,\"human_name\":\"733i 3.2 mt (197 л.с.)\",\"acceleration\":8.7,\"fuel_rate\":11.5}                        1\n",
      "{\"id\":\"21094572\",\"displacement\":2109,\"engine_type\":\"gasoline\",\"gear_type\":\"rear_drive\",\"transmission\":\"automatic\",\"power\":112,\"power_kvt\":82,\"human_name\":\"2.1 at (112 л.с.)\"}                                                                                                   1\n",
      "Name: super_gen, Length: 7109, dtype: int64\n"
     ]
    }
   ],
   "source": [
    "show('super_gen')"
   ]
  },
  {
   "cell_type": "markdown",
   "metadata": {},
   "source": [
    "Заполним пропуски '{}'.   \n",
    "Попробуем привести признак к формату ast или json.   \n",
    "Далее вытащим новые признаки: acceleration(ускорение) ,clearance_min,fuel_rate(расход топлива),clearance_max, gear_type ,price_segment\n",
    "\n",
    "Приведем признак к его длине."
   ]
  },
  {
   "cell_type": "code",
   "execution_count": 180,
   "metadata": {},
   "outputs": [],
   "source": [
    "data_temp['super_gen'].fillna('{}', inplace=True)\n",
    "data_temp['super_gen'] = data_temp['super_gen'].apply(to_dict)\n",
    "\n",
    "data_temp['price_segment'] = data_temp['super_gen'].apply(\n",
    "    lambda x: get_val(x, 'price_segment', 'absent'))\n",
    "data_temp['gear_type'] = data_temp['super_gen'].apply(\n",
    "    lambda x: get_val(x, 'gear_type', 'absent'))\n",
    "data_temp['acceleration'] = data_temp['super_gen'].apply(\n",
    "    lambda x: get_val(x, 'acceleration', 0))\n",
    "data_temp['clearance_min'] = data_temp['super_gen'].apply(\n",
    "    lambda x: get_val(x, 'clearance_min', 0))\n",
    "data_temp['clearance_max'] = data_temp['super_gen'].apply(\n",
    "    lambda x: get_val(x, 'clearance_max', 0))\n",
    "data_temp['fuel_rate'] = data_temp['super_gen'].apply(\n",
    "    lambda x: get_val(x, 'fuel_rate', 0))\n",
    "\n",
    "col_dum.append('price_segment')\n",
    "col_dum.append('gear_type')\n",
    "\n",
    "data_temp['super_gen'] = data_temp['super_gen'].apply(lambda x: len(x))"
   ]
  },
  {
   "cell_type": "markdown",
   "metadata": {},
   "source": [
    "### vehicleConfiguration"
   ]
  },
  {
   "cell_type": "code",
   "execution_count": 181,
   "metadata": {},
   "outputs": [
    {
     "name": "stdout",
     "output_type": "stream",
     "text": [
      "allroad_5_doors variator 2.0         6306\n",
      "allroad_5_doors automatic 3.0        5906\n",
      "allroad_5_doors automatic 2.0        5511\n",
      "sedan automatic 2.0                  4585\n",
      "sedan mechanical 1.6                 4038\n",
      "                                     ... \n",
      "allroad_3_doors automatic 1.1           1\n",
      "hatchback_3_doors mechanical 120d       1\n",
      "cabrio mechanical v8                    1\n",
      "cabrio mechanical 1.3                   1\n",
      "van robot 2.0d                          1\n",
      "Name: vehicleConfiguration, Length: 1587, dtype: int64\n"
     ]
    }
   ],
   "source": [
    "show('vehicleConfiguration')"
   ]
  },
  {
   "cell_type": "markdown",
   "metadata": {},
   "source": [
    "Вся информация есть в других признаках, можно удалить"
   ]
  },
  {
   "cell_type": "code",
   "execution_count": 182,
   "metadata": {},
   "outputs": [],
   "source": [
    "data_temp.drop(['vehicleConfiguration'], axis=1, inplace=True)"
   ]
  },
  {
   "cell_type": "markdown",
   "metadata": {},
   "source": [
    "### vehicleTransmission"
   ]
  },
  {
   "cell_type": "code",
   "execution_count": 183,
   "metadata": {},
   "outputs": [
    {
     "data": {
      "image/png": "[encoded data removed]",
      "text/plain": [
       "<Figure size 432x288 with 1 Axes>"
      ]
     },
     "metadata": {
      "needs_background": "light"
     },
     "output_type": "display_data"
    }
   ],
   "source": [
    "show('vehicleTransmission')"
   ]
  },
  {
   "cell_type": "markdown",
   "metadata": {},
   "source": [
    "Преобладает автоматическая коробка. Добавим в dummy"
   ]
  },
  {
   "cell_type": "code",
   "execution_count": 184,
   "metadata": {},
   "outputs": [],
   "source": [
    "col_dum.append('vehicleTransmission')"
   ]
  },
  {
   "cell_type": "markdown",
   "metadata": {},
   "source": [
    "### vendor"
   ]
  },
  {
   "cell_type": "code",
   "execution_count": 185,
   "metadata": {},
   "outputs": [
    {
     "data": {
      "image/png": "[encoded data removed]",
      "text/plain": [
       "<Figure size 432x288 with 1 Axes>"
      ]
     },
     "metadata": {
      "needs_background": "light"
     },
     "output_type": "display_data"
    }
   ],
   "source": [
    "show('vendor')"
   ]
  },
  {
   "cell_type": "markdown",
   "metadata": {},
   "source": [
    "Заполним пропуски"
   ]
  },
  {
   "cell_type": "code",
   "execution_count": 186,
   "metadata": {},
   "outputs": [],
   "source": [
    "vendors = {'ford': 'american', 'hyundai': 'korean', 'nissan': 'japanese', 'peugeot': 'european', 'porsche': 'european', 'renault': 'european', 'skoda': 'european', 'toyota': 'japanese', 'volkswagen': 'european',\n",
    "           'volvo': 'european', 'great_wall': 'chinese', 'land_rover': 'european', 'mercedes': 'european'}\n",
    "data_temp['vendor'].fillna(data['brand'].map(vendors), inplace=True)"
   ]
  },
  {
   "cell_type": "code",
   "execution_count": 187,
   "metadata": {},
   "outputs": [
    {
     "data": {
      "image/png": "[encoded data removed]",
      "text/plain": [
       "<Figure size 432x288 with 1 Axes>"
      ]
     },
     "metadata": {
      "needs_background": "light"
     },
     "output_type": "display_data"
    }
   ],
   "source": [
    "show('vendor')"
   ]
  },
  {
   "cell_type": "code",
   "execution_count": 188,
   "metadata": {},
   "outputs": [],
   "source": [
    "col_dum.append('vendor')"
   ]
  },
  {
   "cell_type": "markdown",
   "metadata": {},
   "source": [
    "### Владельцы"
   ]
  },
  {
   "cell_type": "code",
   "execution_count": 189,
   "metadata": {},
   "outputs": [
    {
     "data": {
      "image/png": "[encoded data removed]",
      "text/plain": [
       "<Figure size 432x288 with 1 Axes>"
      ]
     },
     "metadata": {
      "needs_background": "light"
     },
     "output_type": "display_data"
    }
   ],
   "source": [
    "show('Владельцы')"
   ]
  },
  {
   "cell_type": "markdown",
   "metadata": {},
   "source": [
    "Заполним пропуски 0. Будем считать ,что \"3 и более\" это 4."
   ]
  },
  {
   "cell_type": "code",
   "execution_count": 190,
   "metadata": {},
   "outputs": [],
   "source": [
    "data_temp['Владельцы'].fillna('0', inplace=True)\n",
    "\n",
    "\n",
    "def change_own(row):\n",
    "    row = str(row)\n",
    "    if row.find('или более') > -1:\n",
    "        return 4\n",
    "    res = re.match('\\d+', row)\n",
    "    if res is None:\n",
    "        return row\n",
    "    else:\n",
    "        return res[0]\n",
    "\n",
    "\n",
    "data_temp['Владельцы'] = data_temp['Владельцы'].apply(\n",
    "    change_own).astype('int64')"
   ]
  },
  {
   "cell_type": "code",
   "execution_count": 191,
   "metadata": {},
   "outputs": [
    {
     "data": {
      "image/png": "[encoded data removed]",
      "text/plain": [
       "<Figure size 432x288 with 1 Axes>"
      ]
     },
     "metadata": {
      "needs_background": "light"
     },
     "output_type": "display_data"
    }
   ],
   "source": [
    "show('Владельцы')"
   ]
  },
  {
   "cell_type": "markdown",
   "metadata": {},
   "source": [
    "Больше всего у авто было 3 владельца"
   ]
  },
  {
   "cell_type": "markdown",
   "metadata": {},
   "source": [
    "### Владение"
   ]
  },
  {
   "cell_type": "code",
   "execution_count": 192,
   "metadata": {},
   "outputs": [
    {
     "name": "stdout",
     "output_type": "stream",
     "text": [
      "2 года                         356\n",
      "1 год и 1 месяц                338\n",
      "2 года и 1 месяц               336\n",
      "1 год                          335\n",
      "1 год и 2 месяца               328\n",
      "                              ... \n",
      "17 лет и 8 месяцев               1\n",
      "21 год и 1 месяц                 1\n",
      "{'year': 1999, 'month': 6}       1\n",
      "{'year': 1992, 'month': 10}      1\n",
      "22 года и 11 месяцев             1\n",
      "Name: Владение, Length: 582, dtype: int64\n"
     ]
    }
   ],
   "source": [
    "show('Владение')"
   ]
  },
  {
   "cell_type": "markdown",
   "metadata": {},
   "source": [
    "В признаке 86271 пропусков. Более 70%. Возможно стоит удалить признак. Посмотрим на метрике.  \n",
    "Пока попробуем убрать пропуски и определить владение в месяцах"
   ]
  },
  {
   "cell_type": "code",
   "execution_count": 193,
   "metadata": {},
   "outputs": [],
   "source": [
    "data_temp['Владение'].fillna('0', inplace=True)\n",
    "\n",
    "\n",
    "def transform(row):\n",
    "    year_len = len(re.findall('[гл]', row))\n",
    "    mounth_len = len(re.findall('[мес]', row))\n",
    "    res = re.findall('\\d+', row)\n",
    "    res_len = len(res)\n",
    "\n",
    "    new_row = 0\n",
    "\n",
    "    if year_len > 0:\n",
    "        new_row += int(res[0]) * 12\n",
    "\n",
    "    if mounth_len > 0:\n",
    "        if res_len == 1:\n",
    "            new_row += int(res[0])\n",
    "        elif res_len == 2:\n",
    "            new_row += int(res[1])\n",
    "\n",
    "    if year_len == 0 and mounth_len == 0:\n",
    "        if res_len == 1:\n",
    "            new_row += int(res[0])\n",
    "        elif res_len == 2:\n",
    "            new_row += int(res[1])\n",
    "\n",
    "    return new_row\n",
    "\n",
    "\n",
    "data_temp['Владение'] = data_temp['Владение'].apply(transform).astype('int64')"
   ]
  },
  {
   "cell_type": "markdown",
   "metadata": {},
   "source": [
    "### ПТС"
   ]
  },
  {
   "cell_type": "code",
   "execution_count": 194,
   "metadata": {},
   "outputs": [
    {
     "data": {
      "image/png": "[encoded data removed]",
      "text/plain": [
       "<Figure size 432x288 with 1 Axes>"
      ]
     },
     "metadata": {
      "needs_background": "light"
     },
     "output_type": "display_data"
    }
   ],
   "source": [
    "show('ПТС')"
   ]
  },
  {
   "cell_type": "markdown",
   "metadata": {},
   "source": [
    "Заменим пропуски на 'оригинал'. Склеим оригинал-original и дубликат-duplicate.\n",
    "Добавим признак в dummy"
   ]
  },
  {
   "cell_type": "code",
   "execution_count": 195,
   "metadata": {},
   "outputs": [],
   "source": [
    "data_temp['ПТС'].fillna('оригинал', inplace=True)\n",
    "data_temp['ПТС'] = data_temp['ПТС'].apply(lambda x: 'оригинал' if x in [\n",
    "                                          'original', 'оригинал'] else 'дубликат')\n",
    "col_dum.append('ПТС')"
   ]
  },
  {
   "cell_type": "markdown",
   "metadata": {},
   "source": [
    "### Привод"
   ]
  },
  {
   "cell_type": "code",
   "execution_count": 196,
   "metadata": {},
   "outputs": [
    {
     "data": {
      "image/png": "[encoded data removed]",
      "text/plain": [
       "<Figure size 432x288 with 1 Axes>"
      ]
     },
     "metadata": {
      "needs_background": "light"
     },
     "output_type": "display_data"
    }
   ],
   "source": [
    "show('Привод')"
   ]
  },
  {
   "cell_type": "code",
   "execution_count": 197,
   "metadata": {},
   "outputs": [],
   "source": [
    "col_dum.append('Привод')"
   ]
  },
  {
   "cell_type": "markdown",
   "metadata": {},
   "source": [
    "### Руль"
   ]
  },
  {
   "cell_type": "code",
   "execution_count": 198,
   "metadata": {},
   "outputs": [
    {
     "data": {
      "image/png": "[encoded data removed]",
      "text/plain": [
       "<Figure size 432x288 with 1 Axes>"
      ]
     },
     "metadata": {
      "needs_background": "light"
     },
     "output_type": "display_data"
    }
   ],
   "source": [
    "show('Руль')"
   ]
  },
  {
   "cell_type": "markdown",
   "metadata": {},
   "source": [
    "Авто с правым рулём очень мало. Возможно,стоит удалить признак.Посмотрим метрику."
   ]
  },
  {
   "cell_type": "code",
   "execution_count": 199,
   "metadata": {},
   "outputs": [],
   "source": [
    "data_temp['Руль'].fillna('левый', inplace=True)\n",
    "col_dum.append('Руль')"
   ]
  },
  {
   "cell_type": "markdown",
   "metadata": {},
   "source": [
    "### Состояние"
   ]
  },
  {
   "cell_type": "code",
   "execution_count": 200,
   "metadata": {},
   "outputs": [
    {
     "data": {
      "image/png": "[encoded data removed]",
      "text/plain": [
       "<Figure size 432x288 with 1 Axes>"
      ]
     },
     "metadata": {
      "needs_background": "light"
     },
     "output_type": "display_data"
    }
   ],
   "source": [
    "show('Состояние')"
   ]
  },
  {
   "cell_type": "markdown",
   "metadata": {},
   "source": [
    "Одно значение \"не требует ремонта\". Удалим признак"
   ]
  },
  {
   "cell_type": "code",
   "execution_count": 201,
   "metadata": {},
   "outputs": [],
   "source": [
    "data_temp.drop('Состояние', axis=1, inplace=True)"
   ]
  },
  {
   "cell_type": "markdown",
   "metadata": {},
   "source": [
    "### Таможня"
   ]
  },
  {
   "cell_type": "code",
   "execution_count": 202,
   "metadata": {},
   "outputs": [
    {
     "data": {
      "image/png": "[encoded data removed]",
      "text/plain": [
       "<Figure size 432x288 with 1 Axes>"
      ]
     },
     "metadata": {
      "needs_background": "light"
     },
     "output_type": "display_data"
    }
   ],
   "source": [
    "show('Таможня')"
   ]
  },
  {
   "cell_type": "markdown",
   "metadata": {},
   "source": [
    "Одно значение \"растаможен\". Удалим признак"
   ]
  },
  {
   "cell_type": "code",
   "execution_count": 203,
   "metadata": {},
   "outputs": [],
   "source": [
    "data_temp.drop('Таможня', axis=1, inplace=True)"
   ]
  },
  {
   "cell_type": "markdown",
   "metadata": {},
   "source": [
    "### price"
   ]
  },
  {
   "cell_type": "code",
   "execution_count": 204,
   "metadata": {},
   "outputs": [
    {
     "name": "stdout",
     "output_type": "stream",
     "text": [
      "0.0          34686\n",
      "450000.0       888\n",
      "650000.0       849\n",
      "550000.0       818\n",
      "750000.0       766\n",
      "             ...  \n",
      "8096000.0        1\n",
      "3422000.0        1\n",
      "4175870.0        1\n",
      "4772000.0        1\n",
      "1342500.0        1\n",
      "Name: price, Length: 11026, dtype: int64\n"
     ]
    }
   ],
   "source": [
    "show('price')"
   ]
  },
  {
   "cell_type": "code",
   "execution_count": 205,
   "metadata": {},
   "outputs": [
    {
     "data": {
      "image/png": "[encoded data removed]",
      "text/plain": [
       "<Figure size 432x288 with 1 Axes>"
      ]
     },
     "metadata": {
      "needs_background": "light"
     },
     "output_type": "display_data"
    }
   ],
   "source": [
    "show_distplot('price')"
   ]
  },
  {
   "cell_type": "markdown",
   "metadata": {},
   "source": [
    "Подавляющее большинство машин стоит до 1 млн. Распределение не нормальное."
   ]
  },
  {
   "cell_type": "code",
   "execution_count": 206,
   "metadata": {},
   "outputs": [
    {
     "name": "stdout",
     "output_type": "stream",
     "text": [
      "Колонка price\n",
      "Количество выбросов ниже нижней границы: 0 (0.0%)\n",
      "Количество выбросов выше верхней границы: 9490 (7.76%)\n",
      "\n",
      "\n"
     ]
    }
   ],
   "source": [
    "show_outliers('price')"
   ]
  },
  {
   "cell_type": "markdown",
   "metadata": {},
   "source": [
    "Выбросов относительно не много,около 8%.Пока не будем удалять."
   ]
  },
  {
   "cell_type": "markdown",
   "metadata": {},
   "source": [
    "Логарифмируем цену"
   ]
  },
  {
   "cell_type": "code",
   "execution_count": 207,
   "metadata": {},
   "outputs": [],
   "source": [
    "log_f('price')"
   ]
  },
  {
   "cell_type": "code",
   "execution_count": 208,
   "metadata": {},
   "outputs": [
    {
     "data": {
      "image/png": "[encoded data removed]",
      "text/plain": [
       "<Figure size 432x288 with 1 Axes>"
      ]
     },
     "metadata": {
      "needs_background": "light"
     },
     "output_type": "display_data"
    }
   ],
   "source": [
    "show_distplot('price')"
   ]
  },
  {
   "cell_type": "markdown",
   "metadata": {},
   "source": [
    "Теперь распределение нормальное."
   ]
  },
  {
   "cell_type": "markdown",
   "metadata": {},
   "source": [
    "### Dummy и LableEncoder"
   ]
  },
  {
   "cell_type": "code",
   "execution_count": 209,
   "metadata": {},
   "outputs": [],
   "source": [
    "# Dummy\n",
    "for col in col_dum:\n",
    "    data_temp = pd.get_dummies(data_temp, columns=[col], prefix=col)\n",
    "\n",
    "# LabelEncoder\n",
    "label_encoder = LabelEncoder()\n",
    "for col in col_en:\n",
    "    data_temp[col] = label_encoder.fit_transform(data_temp[col])"
   ]
  },
  {
   "cell_type": "markdown",
   "metadata": {},
   "source": [
    "# 4. General analysis"
   ]
  },
  {
   "cell_type": "markdown",
   "metadata": {},
   "source": [
    "### Функции"
   ]
  },
  {
   "cell_type": "code",
   "execution_count": 210,
   "metadata": {},
   "outputs": [],
   "source": [
    "# Корреляция\n",
    "def show_cor(data_x):\n",
    "    plt.rcParams['figure.figsize'] = (30, 10)\n",
    "    sns.heatmap(round(data_x.corr(), 2), annot=True)\n",
    "    plt.rcParams['figure.figsize'] = (10, 5)\n",
    "\n",
    "# Значимость признаков\n",
    "\n",
    "\n",
    "def show_important(data_x, cols):\n",
    "    df_temp = data_x[data_x['sample'] == 1]\n",
    "    imp_num = pd.Series(\n",
    "        f_classif(df_temp[cols], df_temp['price'])[0], index=cols)\n",
    "    imp_num.sort_values(inplace=True)\n",
    "    imp_num.plot(\n",
    "        kind='barh', title='Значимость переменных для прогнозирования price')\n",
    "\n",
    "# тест Стьюдента\n",
    "\n",
    "\n",
    "def get_stat_dif(data_x, column):\n",
    "    cols = data_x.loc[:, column].value_counts().index[:]\n",
    "    combinations_all = list(combinations(cols, 2))\n",
    "    for comb in combinations_all:\n",
    "        if ttest_ind(data_x.loc[data_x.loc[:, column] == comb[0], 'price'],\n",
    "                     data_x.loc[data_x.loc[:, column] == comb[1], 'price']).pvalue \\\n",
    "                > 0.05/len(combinations_all):  # Учли поправку Бонферони\n",
    "            print('Не найдены статистически значимые различия для колонки', column)\n",
    "            break"
   ]
  },
  {
   "cell_type": "code",
   "execution_count": 211,
   "metadata": {},
   "outputs": [],
   "source": [
    "# Выделим числовые признаки\n",
    "num_cols = ['mileage', 'modelDate', 'numberOfDoors', 'productionDate', 'price', 'complectation_dict', 'engineDisplacement',\n",
    "            'enginePower', 'equipment_dict', 'model_info', 'sell_id', 'super_gen', 'acceleration', 'clearance_min', 'clearance_max', 'fuel_rate']"
   ]
  },
  {
   "cell_type": "markdown",
   "metadata": {},
   "source": [
    "**Посмотрим корреляцию для числовых признаков**"
   ]
  },
  {
   "cell_type": "code",
   "execution_count": 212,
   "metadata": {},
   "outputs": [
    {
     "data": {
      "image/png": "[encoded data removed]",
      "text/plain": [
       "<Figure size 2160x720 with 2 Axes>"
      ]
     },
     "metadata": {
      "needs_background": "light"
     },
     "output_type": "display_data"
    }
   ],
   "source": [
    "show_cor(data_temp[num_cols])"
   ]
  },
  {
   "cell_type": "markdown",
   "metadata": {},
   "source": [
    "Высокая корреляция price с признаком super_gen и его субпризнаками.Скорее всего это из-за того,что в этих признаках много пропусков.Это может запутывать модель.Возможно,придется их удалить.\n",
    "\n",
    "Достаточно высокая корреляция sell_id с price (-0.49). Возможно,на это также влияют пропуски в дополнительно датасете. Посмотрим на метрику.\n",
    "\n",
    "model_info и sell_id очень сильно коррелируют (0.99). model_info будем удалять,т.к. у него ниже корреляция с price"
   ]
  },
  {
   "cell_type": "markdown",
   "metadata": {},
   "source": [
    "**Посмотрим значимость переменных для прогнозирования price**"
   ]
  },
  {
   "cell_type": "code",
   "execution_count": 213,
   "metadata": {},
   "outputs": [
    {
     "data": {
      "image/png": "[encoded data removed]",
      "text/plain": [
       "<Figure size 720x360 with 1 Axes>"
      ]
     },
     "metadata": {
      "needs_background": "light"
     },
     "output_type": "display_data"
    }
   ],
   "source": [
    "num_cols.remove('price')\n",
    "\n",
    "show_important(data_temp, num_cols)"
   ]
  },
  {
   "cell_type": "markdown",
   "metadata": {},
   "source": [
    "Высокую значимость имеют признаки: mileage,productionDate,modelDate"
   ]
  },
  {
   "cell_type": "markdown",
   "metadata": {},
   "source": [
    "**тест Стьюдента**"
   ]
  },
  {
   "cell_type": "markdown",
   "metadata": {},
   "source": [
    "Проверим, есть ли статистическая разница в распределении оценок по категориальным признакам, с помощью теста Стьюдента. Проверим нулевую гипотезу о том, что распределения price по различным параметрам неразличимы."
   ]
  },
  {
   "cell_type": "code",
   "execution_count": 214,
   "metadata": {},
   "outputs": [],
   "source": [
    "test_st_col = []\n",
    "\n",
    "data_temp_sample = data_temp[data_temp['sample'] == 1]\n",
    "\n",
    "for col in data_temp_sample.columns:\n",
    "    if data_temp[col].nunique() == 2:\n",
    "        test_st_col.append(col)"
   ]
  },
  {
   "cell_type": "code",
   "execution_count": 215,
   "metadata": {},
   "outputs": [
    {
     "name": "stdout",
     "output_type": "stream",
     "text": [
      "Не найдены статистически значимые различия для колонки salon\n",
      "Не найдены статистически значимые различия для колонки сarbon_body_kits\n",
      "Не найдены статистически значимые различия для колонки bodyType_кабриолет\n",
      "Не найдены статистически значимые различия для колонки bodyType_лимузин\n",
      "Не найдены статистически значимые различия для колонки bodyType_микровэн\n",
      "Не найдены статистически значимые различия для колонки bodyType_минивэн\n",
      "Не найдены статистически значимые различия для колонки bodyType_пикап\n",
      "Не найдены статистически значимые различия для колонки bodyType_родстер\n",
      "Не найдены статистически значимые различия для колонки bodyType_тарга\n",
      "Не найдены статистически значимые различия для колонки bodyType_фастбек\n",
      "Не найдены статистически значимые различия для колонки brand_volkswagen\n",
      "Не найдены статистически значимые различия для колонки brand_volvo\n",
      "Не найдены статистически значимые различия для колонки color_коричневый\n",
      "Не найдены статистически значимые различия для колонки color_оранжевый\n",
      "Не найдены статистически значимые различия для колонки color_розовый\n",
      "Не найдены статистически значимые различия для колонки color_серый\n",
      "Не найдены статистически значимые различия для колонки fuelType_газ\n"
     ]
    }
   ],
   "source": [
    "for col in test_st_col:\n",
    "    get_stat_dif(data_temp, col)"
   ]
  },
  {
   "cell_type": "markdown",
   "metadata": {},
   "source": [
    "Попробуем удалить статистически незначимые признаки и посмотреть результаты метрики."
   ]
  },
  {
   "cell_type": "markdown",
   "metadata": {},
   "source": [
    "# 5. Data Preprocessing\n",
    "Теперь, для удобства и воспроизводимости кода, завернем всю обработку в несколько больших функций"
   ]
  },
  {
   "cell_type": "code",
   "execution_count": 216,
   "metadata": {},
   "outputs": [],
   "source": [
    "# Функции\n",
    "\n",
    "def to_dict(row):\n",
    "    try:\n",
    "        row = ast.literal_eval(row)\n",
    "        return row\n",
    "    except:\n",
    "        try:\n",
    "            row = json.loads(row)\n",
    "            return row\n",
    "        except:\n",
    "            return row\n",
    "\n",
    "\n",
    "def get_val(row, val_name, val_er):\n",
    "    try:\n",
    "        return row[val_name]\n",
    "    except:\n",
    "        return val_er\n",
    "\n",
    "\n",
    "def change_ltr(row):\n",
    "    row_temp = str(row)\n",
    "    row_temp = row_temp.replace(' ltr', '')\n",
    "    try:\n",
    "        return float(row_temp)\n",
    "    except:\n",
    "        return 0\n",
    "\n",
    "\n",
    "def change_n12(row):\n",
    "    row_temp = str(row)\n",
    "    row_temp = row_temp.replace(' n12', '')\n",
    "    try:\n",
    "        return int(row_temp)\n",
    "    except:\n",
    "        return 0\n",
    "\n",
    "\n",
    "def log_f(col, data_x=data_temp):\n",
    "    data_x[col] = np.log(data_x[col] + 1)\n",
    "\n",
    "\n",
    "def change_own(row):\n",
    "    row = str(row)\n",
    "    if row.find('или более') > -1:\n",
    "        return 4\n",
    "    res = re.match('\\d+', row)\n",
    "    if res is None:\n",
    "        return row\n",
    "    else:\n",
    "        return res[0]\n",
    "\n",
    "\n",
    "def transform(row):\n",
    "    year_len = len(re.findall('[гл]', row))\n",
    "    mounth_len = len(re.findall('[мес]', row))\n",
    "    res = re.findall('\\d+', row)\n",
    "    res_len = len(res)\n",
    "\n",
    "    new_row = 0\n",
    "\n",
    "    if year_len > 0:\n",
    "        new_row += int(res[0]) * 12\n",
    "\n",
    "    if mounth_len > 0:\n",
    "        if res_len == 1:\n",
    "            new_row += int(res[0])\n",
    "        elif res_len == 2:\n",
    "            new_row += int(res[1])\n",
    "\n",
    "    if year_len == 0 and mounth_len == 0:\n",
    "        if res_len == 1:\n",
    "            new_row += int(res[0])\n",
    "        elif res_len == 2:\n",
    "            new_row += int(res[1])\n",
    "\n",
    "    return new_row\n",
    "\n",
    "\n",
    "def mape(y_true, y_pred):\n",
    "    # Точность модели по метрике MAPE\n",
    "    return np.mean(np.abs((y_pred-y_true)/y_true)) * 100"
   ]
  },
  {
   "cell_type": "code",
   "execution_count": 217,
   "metadata": {},
   "outputs": [],
   "source": [
    "# Данные\n",
    "df_train = pd.read_csv(\n",
    "    'parsing_all_moscow_auto_ru_25_11_20.csv')  # спарсил сам\n",
    "# дополнительный внешний\n",
    "df_train_dop = pd.read_csv('all_auto_ru_09_09_2020.csv')\n",
    "df_test = pd.read_csv('test.csv')  # тестовый для прогнозирования цен\n",
    "sample_submission = pd.read_csv('sample_submission.csv')\n",
    "#################################\n",
    "\n",
    "df_train_temp = df_train[df_test.columns]\n",
    "df_train_temp['price'] = df_train['price']\n",
    "df_train = df_train_temp\n",
    "\n",
    "df_train_dop['model_name'] = df_train_dop['model']\n",
    "df_train_dop['complectation_dict'] = df_train_dop['Комплектация']\n",
    "df_train_dop.drop(['Комплектация', 'start_date', 'hidden',\n",
    "                   'model'], axis=1, inplace=True)\n",
    "\n",
    "df_train_dop['color'] = df_train_dop['color'].map({'CACECB': 'серебристый', 'FAFBFB': 'белый', 'EE1D19': 'красный', '97948F': 'серый',\n",
    "                                                   '660099': 'пурпурный', '040001': 'чёрный', '4A2197': 'фиолетовый',\n",
    "                                                   '200204': 'коричневый', '0000CC': 'синий', '007F00': 'зелёный', 'C49648': 'бежевый',\n",
    "                                                   '22A0F8': 'голубой', 'DEA522': 'золотистый', 'FFD600': 'жёлтый', 'FF8649': 'оранжевый',\n",
    "                                                   'FFC0CB': 'розовый'})\n",
    "\n",
    "df_train_dop['vehicleTransmission'] = df_train_dop['vehicleTransmission'].map(\n",
    "    {'AUTOMATIC': 'автоматическая', 'MECHANICAL': 'механическая', 'VARIATOR': 'вариатор', 'ROBOT': 'роботизированная'})\n",
    "df_train_dop['Руль'] = df_train_dop['Руль'].map(\n",
    "    {'LEFT': 'левый', 'RIGHT': 'правый'})\n",
    "\n",
    "for col in df_train.columns:\n",
    "    if col not in df_train_dop.columns:\n",
    "        df_train_dop[col] = None\n",
    "\n",
    "df_train = df_train.append(df_train_dop, sort=False).reset_index(drop=True)\n",
    "\n",
    "df_train['sample'] = 1\n",
    "df_test['sample'] = 0\n",
    "df_test['price'] = 0\n",
    "\n",
    "data = df_test.append(df_train, sort=False).reset_index(drop=True)\n",
    "\n",
    "data = data[~data.price.isnull()]\n",
    "data = data[~data.bodyType.isnull()]\n",
    "\n",
    "for col in data.select_dtypes(include='object').columns:\n",
    "    data[col][~data[col].isnull()] = data[col][~data[col].isnull()\n",
    "                                               ].apply(lambda x: str(x).lower())\n",
    "\n",
    "brands = list(map(lambda x: str.lower(x), df_test.brand.value_counts().index))\n",
    "data = data[data['brand'].isin(brands)]"
   ]
  },
  {
   "cell_type": "code",
   "execution_count": 218,
   "metadata": {},
   "outputs": [],
   "source": [
    "# Подготовка данных для обучения и тестирования\n",
    "data_temp = data.copy()\n",
    "\n",
    "col_dum = []\n",
    "col_en = []\n",
    "\n",
    "# bodyType\n",
    "data_temp['bodyType'] = data_temp['bodyType'].apply(\n",
    "    lambda x: str(x).split(' ')[0])\n",
    "data_temp['bodyType'] = data_temp['bodyType'].apply(\n",
    "    lambda x: 'купе' if x == 'купе-хардтоп' else x)\n",
    "data_temp['bodyType'] = data_temp['bodyType'].apply(\n",
    "    lambda x: 'седан' if x == 'седан-хардтоп' else x)\n",
    "col_dum.append('bodyType')\n",
    "\n",
    "# brand\n",
    "col_dum.append('brand')\n",
    "\n",
    "# car_url\n",
    "data_temp.drop('car_url', axis=1, inplace=True)\n",
    "\n",
    "# color\n",
    "col_dum.append('color')\n",
    "\n",
    "# complectation_dict\n",
    "data_temp['complectation_dict'].fillna(\"{'id': '0'}\", inplace=True)\n",
    "data_temp['complectation_dict'] = data_temp['complectation_dict'].apply(\n",
    "    lambda x: len(x))\n",
    "\n",
    "# description\n",
    "data_temp['description'].fillna('[]', inplace=True)\n",
    "data_temp['description_word'] = data_temp['description'].apply(\n",
    "    lambda x: [i for i in x.split()])\n",
    "\n",
    "data_temp['salon'] = data_temp['description_word'].apply(lambda x:\n",
    "                                                         1 if ('рольф' or 'панавто' or 'дилер' or 'кредит' or 'обмен' or 'скид' or 'trade-in' or 'выгода' or 'работаем для вас' or 'автосалон' or 'ликвидация') in x else 0)\n",
    "data_temp['torg'] = data_temp['description_word'].apply(lambda x:\n",
    "                                                        1 if ('торг') in x else 0)\n",
    "data_temp['leather'] = data_temp['description_word'].apply(lambda x:\n",
    "                                                           1 if ('темный' and 'салон') in x else 0)\n",
    "data_temp['carter'] = data_temp['description_word'].apply(lambda x:\n",
    "                                                          1 if ('защита' and 'картера') in x else 0)\n",
    "data_temp['ABS'] = data_temp['description_word'].apply(lambda x:\n",
    "                                                       1 if ('антиблокировочная' and 'система') in x else 0)\n",
    "data_temp['airbags'] = data_temp['description_word'].apply(lambda x:\n",
    "                                                           1 if ('подушки' and 'безопасности') in x else 0)\n",
    "data_temp['immob'] = data_temp['description_word'].apply(lambda x:\n",
    "                                                         1 if ('иммобилайзер') in x else 0)\n",
    "data_temp['central_locking'] = data_temp['description_word'].apply(lambda x:\n",
    "                                                                   1 if ('центральный' and 'замок') in x else 0)\n",
    "data_temp['on_board_computer'] = data_temp['description_word'].apply(lambda x:\n",
    "                                                                     1 if ('бортовой' and 'компьютер') in x else 0)\n",
    "data_temp['cruise_control'] = data_temp['description_word'].apply(lambda x:\n",
    "                                                                  1 if ('круиз-контроль') in x else 0)\n",
    "data_temp['climat_control'] = data_temp['description_word'].apply(lambda x:\n",
    "                                                                  1 if ('климат-контроль') in x else 0)\n",
    "data_temp['multi_rudder'] = data_temp['description_word'].apply(lambda x:\n",
    "                                                                1 if ('мультифункциональный' and 'руль') in x else 0)\n",
    "data_temp['power_steering'] = data_temp['description_word'].apply(lambda x:\n",
    "                                                                  1 if ('гидроусилитель' or 'гидро' or 'усилитель' and 'руля') in x else 0)\n",
    "data_temp['light_and_rain_sensors'] = data_temp['description_word'].apply(lambda x:\n",
    "                                                                          1 if ('датчики' and 'света' and 'дождя') in x else 0)\n",
    "data_temp['сarbon_body_kits'] = data_temp['description_word'].apply(lambda x:\n",
    "                                                                    1 if ('карбоновые' and 'обвесы') in x else 0)\n",
    "data_temp['rear_diffuser_rkp'] = data_temp['description_word'].apply(lambda x:\n",
    "                                                                     1 if ('задний' and 'диффузор') in x else 0)\n",
    "data_temp['door_closers'] = data_temp['description_word'].apply(lambda x:\n",
    "                                                                1 if ('доводчики' and 'дверей') in x else 0)\n",
    "data_temp['rear_view_camera'] = data_temp['description_word'].apply(lambda x:\n",
    "                                                                    1 if ('камера' or 'видеокамера' and 'заднего' and 'вида') in x else 0)\n",
    "data_temp['amg'] = data_temp['description_word'].apply(lambda x:\n",
    "                                                       1 if ('amg') in x else 0)\n",
    "data_temp['bi_xenon_headlights'] = data_temp['description_word'].apply(lambda x:\n",
    "                                                                       1 if ('биксеноновые' and 'фары') in x else 0)\n",
    "data_temp['alloy_wheels'] = data_temp['description_word'].apply(lambda x:\n",
    "                                                                1 if ('легкосплавные' or 'колесные' or 'диски') in x else 0)\n",
    "data_temp['parking_sensors'] = data_temp['description_word'].apply(lambda x:\n",
    "                                                                   1 if ('парктроник' or 'парктронник') in x else 0)\n",
    "data_temp['dents'] = data_temp['description_word'].apply(lambda x:\n",
    "                                                         1 if ('вмятины' or 'вмятина' or 'царапина' or 'царапины' or 'трещина') in x else 0)\n",
    "data_temp['roof_with_panoramic_view'] = data_temp['description_word'].apply(\n",
    "    lambda x: 1 if ('панорамная' and 'крыша') in x else 0)\n",
    "data_temp.drop(['description', 'description_word'], axis=1, inplace=True)\n",
    "\n",
    "# engineDisplacement\n",
    "data_temp['engineDisplacement'] = data_temp['engineDisplacement'].apply(\n",
    "    change_ltr).astype('float64')\n",
    "\n",
    "# enginePower\n",
    "data_temp['enginePower'] = data_temp['enginePower'].apply(\n",
    "    change_n12).astype('int64')\n",
    "\n",
    "# equipment_dict\n",
    "data_temp['equipment_dict'].fillna(\"{}\", inplace=True)\n",
    "data_temp['equipment_dict'] = data_temp['equipment_dict'].apply(\n",
    "    lambda x: len(x))\n",
    "\n",
    "# fuelType\n",
    "col_dum.append('fuelType')\n",
    "\n",
    "# image\n",
    "data_temp['image'].fillna(\n",
    "    data_temp['image'].value_counts().index[0], inplace=True)\n",
    "data_temp['image'] = data_temp['image'].apply(\n",
    "    lambda x: 1 if 'avatars' in x else 0)\n",
    "\n",
    "# mileage\n",
    "# log_f('mileage')\n",
    "\n",
    "# modelDate\n",
    "# log_f('modelDate')\n",
    "\n",
    "# model_info\n",
    "data_temp['model_info'].fillna('{}', inplace=True)\n",
    "data_temp['model_info'] = data_temp['model_info'].apply(lambda x: len(x))\n",
    "\n",
    "# model_name\n",
    "col_en.append('model_name')\n",
    "\n",
    "# name\n",
    "data_temp.drop('name', axis=1, inplace=True)\n",
    "\n",
    "# numberOfDoors\n",
    "\n",
    "# parsing_unixtime\n",
    "data_temp.drop('parsing_unixtime', axis=1, inplace=True)\n",
    "\n",
    "# priceCurrency\n",
    "data_temp.drop('priceCurrency', axis=1, inplace=True)\n",
    "\n",
    "# productionDate\n",
    "\n",
    "# sell_id\n",
    "data_temp['sell_id'].fillna(0, inplace=True)\n",
    "data_temp['sell_id'] = data_temp['sell_id'].astype('float64')\n",
    "\n",
    "# super_gen  Отсутствие данных ,корреляция с price ,метрика хуже - закомменитровал\n",
    "# data_temp['super_gen'].fillna('{}',inplace = True)\n",
    "# data_temp['super_gen'] = data_temp['super_gen'].apply(to_dict)\n",
    "# data_temp['price_segment'] = data_temp['super_gen'].apply(lambda x: get_val(x, 'price_segment', 'absent'))\n",
    "# data_temp['gear_type'] = data_temp['super_gen'].apply(lambda x: get_val(x, 'gear_type', 'absent'))\n",
    "# data_temp['acceleration'] = data_temp['super_gen'].apply(lambda x: get_val(x,'acceleration',0))\n",
    "# data_temp['clearance_min'] = data_temp['super_gen'].apply(lambda x: get_val(x,'clearance_min',0))\n",
    "# data_temp['clearance_max'] = data_temp['super_gen'].apply(lambda x: get_val(x,'clearance_max',0))\n",
    "# data_temp['fuel_rate'] = data_temp['super_gen'].apply(lambda x: get_val(x,'fuel_rate',0))\n",
    "# col_dum.append('price_segment')\n",
    "# col_dum.append('gear_type')\n",
    "#data_temp['super_gen'] = data_temp['super_gen'].apply(lambda x: len(x))\n",
    "data_temp.drop('super_gen', axis=1, inplace=True)\n",
    "\n",
    "# vehicleConfiguration\n",
    "data_temp.drop(['vehicleConfiguration'], axis=1, inplace=True)\n",
    "\n",
    "# vehicleTransmission\n",
    "col_dum.append('vehicleTransmission')\n",
    "\n",
    "# vendor\n",
    "vendors = {'ford': 'american', 'hyundai': 'korean', 'nissan': 'japanese', 'peugeot': 'european', 'porsche': 'european', 'renault': 'european', 'skoda': 'european', 'toyota': 'japanese', 'volkswagen': 'european',\n",
    "           'volvo': 'european', 'great_wall': 'chinese', 'land_rover': 'european', 'mercedes': 'european'}\n",
    "data_temp['vendor'].fillna(data['brand'].map(vendors), inplace=True)\n",
    "col_dum.append('vendor')\n",
    "\n",
    "# Владельцы\n",
    "data_temp['Владельцы'].fillna('0', inplace=True)\n",
    "data_temp['Владельцы'] = data_temp['Владельцы'].apply(\n",
    "    change_own).astype('int64')\n",
    "\n",
    "# Владение\n",
    "# data_temp['Владение'].fillna('0',inplace = True)\n",
    "# data_temp['Владение'] = data_temp['Владение'].apply(transform).astype('int64')\n",
    "data_temp.drop('Владение', axis=1, inplace=True)\n",
    "\n",
    "# ПТС\n",
    "data_temp['ПТС'].fillna('оригинал', inplace=True)\n",
    "data_temp['ПТС'] = data_temp['ПТС'].apply(lambda x: 'оригинал' if x in [\n",
    "                                          'original', 'оригинал'] else 'дубликат')\n",
    "col_dum.append('ПТС')\n",
    "\n",
    "# Привод\n",
    "data_temp['Привод'].fillna('передний', inplace=True)\n",
    "col_dum.append('Привод')\n",
    "\n",
    "# Руль\n",
    "data_temp['Руль'].fillna('левый', inplace=True)\n",
    "col_dum.append('Руль')\n",
    "\n",
    "# Состояние\n",
    "data_temp.drop('Состояние', axis=1, inplace=True)\n",
    "\n",
    "# Таможня\n",
    "data_temp.drop('Таможня', axis=1, inplace=True)\n",
    "\n",
    "# sample\n",
    "\n",
    "# price\n",
    "data_temp['price'] = np.log(data_temp['price'] + 1)\n",
    "\n",
    "# dummy\n",
    "for col in col_dum:\n",
    "    data_temp = pd.get_dummies(data_temp, columns=[col], prefix=col)\n",
    "\n",
    "# LabelEncoder\n",
    "label_encoder = LabelEncoder()\n",
    "for col in col_en:\n",
    "    data_temp[col] = label_encoder.fit_transform(data_temp[col])\n",
    "\n",
    "# Удалить по результатам общего анализа (Ухудшает метрику)\n",
    "# del_col = ['salon','сarbon_body_kits','bodyType_кабриолет','bodyType_лимузин','bodyType_микровэн','bodyType_минивэн','bodyType_пикап','bodyType_родстер','bodyType_тарга','bodyType_фастбек','brand_volkswagen','brand_volvo',\n",
    "# 'color_коричневый','color_оранжевый','color_розовый','color_серый','fuelType_газ']\n",
    "\n",
    "#data_temp.drop(del_col,axis = 1,inplace = True)"
   ]
  },
  {
   "cell_type": "markdown",
   "metadata": {},
   "source": [
    "# 6. Model"
   ]
  },
  {
   "cell_type": "code",
   "execution_count": 221,
   "metadata": {},
   "outputs": [
    {
     "name": "stderr",
     "output_type": "stream",
     "text": [
      "[Parallel(n_jobs=-1)]: Using backend ThreadingBackend with 12 concurrent workers.\n",
      "[Parallel(n_jobs=-1)]: Done  26 tasks      | elapsed:    4.8s\n",
      "[Parallel(n_jobs=-1)]: Done 176 tasks      | elapsed:   25.3s\n",
      "[Parallel(n_jobs=-1)]: Done 300 out of 300 | elapsed:   42.9s finished\n",
      "[Parallel(n_jobs=12)]: Using backend ThreadingBackend with 12 concurrent workers.\n",
      "[Parallel(n_jobs=12)]: Done  26 tasks      | elapsed:    0.0s\n",
      "[Parallel(n_jobs=12)]: Done 176 tasks      | elapsed:    0.1s\n",
      "[Parallel(n_jobs=12)]: Done 300 out of 300 | elapsed:    0.2s finished\n"
     ]
    },
    {
     "name": "stdout",
     "output_type": "stream",
     "text": [
      "MAPE: 10.90359\n",
      "Wall time: 43.7 s\n"
     ]
    },
    {
     "data": {
      "text/plain": [
       "<matplotlib.axes._subplots.AxesSubplot at 0x23a92c20c40>"
      ]
     },
     "execution_count": 221,
     "metadata": {},
     "output_type": "execute_result"
    },
    {
     "data": {
      "image/png": "[encoded data removed]",
      "text/plain": [
       "<Figure size 360x360 with 1 Axes>"
      ]
     },
     "metadata": {
      "needs_background": "light"
     },
     "output_type": "display_data"
    }
   ],
   "source": [
    "%%time\n",
    "# RandomForestRegressor # best MAPE ноут/лидерборд : 10.90895 / 11.96442\n",
    "\n",
    "train_data = data_temp.query('sample == 1').drop(['sample'], axis=1)\n",
    "\n",
    "X = train_data.drop(['price'], axis=1)\n",
    "y = train_data['price'].values\n",
    "\n",
    "X_train, X_test, y_train, y_test = train_test_split(\n",
    "    X, y, test_size=0.2, shuffle=True, random_state=RANDOM_SEED)\n",
    "\n",
    "model = RandomForestRegressor(\n",
    "    n_estimators=300, verbose=1, n_jobs=-1, random_state=RANDOM_SEED)\n",
    "model.fit(X_train, y_train)\n",
    "\n",
    "y_pred = model.predict(X_test)\n",
    "\n",
    "y_test = np.round(np.exp(y_test))\n",
    "y_pred = np.round(np.exp(y_pred))\n",
    "\n",
    "print(f'MAPE: {np.round(mape(y_test,y_pred),5)}')\n",
    "\n",
    "# в RandomForestRegressor есть возможность вывести самые важные признаки для модели\n",
    "plt.rcParams['figure.figsize'] = (5, 5)\n",
    "feat_importances = pd.Series(model.feature_importances_, index=X.columns)\n",
    "feat_importances.nlargest(20).plot(kind='barh')"
   ]
  },
  {
   "cell_type": "markdown",
   "metadata": {},
   "source": [
    "## Подбор параметров \n",
    "Не дал лучших результатов метрики на лидерборде"
   ]
  },
  {
   "cell_type": "code",
   "execution_count": null,
   "metadata": {},
   "outputs": [],
   "source": [
    "# train_data = data_temp.query('sample == 1').drop(['sample'], axis=1)\n",
    "\n",
    "# X = train_data.drop(['price'], axis=1)\n",
    "# y = train_data['price'].values\n",
    "\n",
    "# X_train, X_test, y_train, y_test = train_test_split(X, y, test_size=0.2, shuffle=True, random_state=RANDOM_SEED)\n",
    "\n",
    "# n_estimators = [x for x in range(100, 550, 50)]\n",
    "# max_features = ['auto', 'sqrt']\n",
    "# max_depth = [int(x) for x in np.linspace(10, 110, num=10)]\n",
    "# max_depth.append(None)\n",
    "# bootstrap = [True, False]\n",
    "# random_grid = {'n_estimators': n_estimators,\n",
    "#                'max_features': max_features,\n",
    "#                'max_depth': max_depth,\n",
    "#                'bootstrap': bootstrap}\n",
    "\n",
    "# rf = RandomForestRegressor(random_state=RANDOM_SEED)\n",
    "# rf_random = RandomizedSearchCV(estimator=rf, param_distributions=random_grid, n_iter=100, cv=3, verbose=2,\n",
    "#                                random_state=RANDOM_SEED, n_jobs=-1)\n",
    "# rf_random.fit(X_train, y_train)\n",
    "\n",
    "# print(rf_random.best_params_)"
   ]
  },
  {
   "cell_type": "markdown",
   "metadata": {},
   "source": [
    "{'bootstrap': True,\n",
    "'max_depth': 98,\n",
    "'max_features': 'auto',\n",
    "'n_estimators': 500}"
   ]
  },
  {
   "cell_type": "markdown",
   "metadata": {},
   "source": [
    "## **Stacking** \n",
    "Результат метрики в ноутбуке выше,но на лидерборде ниже. Оставляю только RandomForestRegressor(n_estimators=300, verbose=1, n_jobs=-1, random_state=RANDOM_SEED)"
   ]
  },
  {
   "cell_type": "code",
   "execution_count": null,
   "metadata": {},
   "outputs": [],
   "source": [
    "# def compute_meta_feature(clf, X_train, X_test, y_train, cv):\n",
    "\n",
    "#     X_meta_train = np.zeros_like(y_train, dtype=np.float32)\n",
    "#     for train_fold_index, predict_fold_index in cv.split(X_train):\n",
    "#         X_fold_train, X_fold_predict = X_train[train_fold_index], X_train[predict_fold_index]\n",
    "#         y_fold_train = y_train[train_fold_index]\n",
    "\n",
    "#         folded_clf = clone(clf)\n",
    "#         folded_clf.fit(X_fold_train, y_fold_train)\n",
    "#         X_meta_train[predict_fold_index] = folded_clf.predict(X_fold_predict)\n",
    "\n",
    "#     meta_clf = clone(clf)\n",
    "#     meta_clf.fit(X_train, y_train)\n",
    "\n",
    "#     X_meta_test = meta_clf.predict(X_test)\n",
    "\n",
    "#     return X_meta_train, X_meta_test\n",
    "\n",
    "\n",
    "# def generate_metafeatures(classifiers, X_train, X_test, y_train, cv):\n",
    "\n",
    "#     features = [\n",
    "#         compute_meta_feature(clf, X_train, X_test, y_train, cv)\n",
    "#         for clf in tqdm(classifiers)\n",
    "#     ]\n",
    "\n",
    "#     stacked_features_train = np.vstack([\n",
    "#         features_train for features_train, features_test in features\n",
    "#     ]).T\n",
    "\n",
    "#     stacked_features_test = np.vstack([\n",
    "#         features_test for features_train, features_test in features\n",
    "#     ]).T\n",
    "\n",
    "#     return stacked_features_train, stacked_features_test\n",
    "\n",
    "# models = [\n",
    "#     RandomForestRegressor(n_estimators=300, n_jobs=-1, random_state=RANDOM_SEED),\n",
    "#     BaggingRegressor(ExtraTreeRegressor(random_state=RANDOM_SEED), random_state=RANDOM_SEED),\n",
    "#     CatBoostRegressor(iterations = 5000,learning_rate = 0.1,random_seed = RANDOM_SEED,eval_metric='MAPE',logging_level='Silent'),\n",
    "#     GradientBoostingRegressor(n_estimators=300, random_state=RANDOM_SEED)\n",
    "# ]\n",
    "\n",
    "# train_data = data_temp.query('sample == 1').drop(['sample'], axis=1)\n",
    "\n",
    "# X = train_data.drop(['price'], axis=1)\n",
    "# y = train_data['price'].values\n",
    "\n",
    "# X_train, X_test, y_train, y_test = train_test_split(X, y, test_size=0.5, random_state=RANDOM_SEED)\n",
    "\n",
    "# cv = KFold(n_splits=3, shuffle=True)\n",
    "\n",
    "# stacked_features_train, stacked_features_test = generate_metafeatures(models, X_train.values, X_test.values, y_train, cv)\n",
    "\n",
    "# clf = LinearRegression(n_jobs = -1)\n",
    "# clf.fit(stacked_features_train, y_train)\n",
    "# y_pred = clf.predict(stacked_features_test)\n",
    "\n",
    "# y_test = np.round(np.exp(y_test))\n",
    "# y_pred = np.round(np.exp(y_pred))\n",
    "\n",
    "# print(f'MAPE: {np.round(mape(y_test, y_pred), 5)}')"
   ]
  },
  {
   "cell_type": "markdown",
   "metadata": {},
   "source": [
    "# 7. Submission"
   ]
  },
  {
   "cell_type": "code",
   "execution_count": 222,
   "metadata": {},
   "outputs": [
    {
     "name": "stderr",
     "output_type": "stream",
     "text": [
      "[Parallel(n_jobs=12)]: Using backend ThreadingBackend with 12 concurrent workers.\n",
      "[Parallel(n_jobs=12)]: Done  26 tasks      | elapsed:    0.0s\n",
      "[Parallel(n_jobs=12)]: Done 176 tasks      | elapsed:    0.1s\n",
      "[Parallel(n_jobs=12)]: Done 300 out of 300 | elapsed:    0.3s finished\n"
     ]
    },
    {
     "data": {
      "text/html": [
       "<div>\n",
       "<style scoped>\n",
       "    .dataframe tbody tr th:only-of-type {\n",
       "        vertical-align: middle;\n",
       "    }\n",
       "\n",
       "    .dataframe tbody tr th {\n",
       "        vertical-align: top;\n",
       "    }\n",
       "\n",
       "    .dataframe thead th {\n",
       "        text-align: right;\n",
       "    }\n",
       "</style>\n",
       "<table border=\"1\" class=\"dataframe\">\n",
       "  <thead>\n",
       "    <tr style=\"text-align: right;\">\n",
       "      <th></th>\n",
       "      <th>sell_id</th>\n",
       "      <th>price</th>\n",
       "    </tr>\n",
       "  </thead>\n",
       "  <tbody>\n",
       "    <tr>\n",
       "      <th>0</th>\n",
       "      <td>1100575026</td>\n",
       "      <td>666056.0</td>\n",
       "    </tr>\n",
       "    <tr>\n",
       "      <th>1</th>\n",
       "      <td>1100549428</td>\n",
       "      <td>1040964.0</td>\n",
       "    </tr>\n",
       "    <tr>\n",
       "      <th>2</th>\n",
       "      <td>1100658222</td>\n",
       "      <td>842035.0</td>\n",
       "    </tr>\n",
       "    <tr>\n",
       "      <th>3</th>\n",
       "      <td>1100937408</td>\n",
       "      <td>754048.0</td>\n",
       "    </tr>\n",
       "    <tr>\n",
       "      <th>4</th>\n",
       "      <td>1101037972</td>\n",
       "      <td>707176.0</td>\n",
       "    </tr>\n",
       "    <tr>\n",
       "      <th>5</th>\n",
       "      <td>1100912634</td>\n",
       "      <td>772200.0</td>\n",
       "    </tr>\n",
       "    <tr>\n",
       "      <th>6</th>\n",
       "      <td>1101228730</td>\n",
       "      <td>622208.0</td>\n",
       "    </tr>\n",
       "    <tr>\n",
       "      <th>7</th>\n",
       "      <td>1100165896</td>\n",
       "      <td>406387.0</td>\n",
       "    </tr>\n",
       "    <tr>\n",
       "      <th>8</th>\n",
       "      <td>1100768262</td>\n",
       "      <td>1982965.0</td>\n",
       "    </tr>\n",
       "    <tr>\n",
       "      <th>9</th>\n",
       "      <td>1101218501</td>\n",
       "      <td>1041318.0</td>\n",
       "    </tr>\n",
       "  </tbody>\n",
       "</table>\n",
       "</div>"
      ],
      "text/plain": [
       "      sell_id      price\n",
       "0  1100575026   666056.0\n",
       "1  1100549428  1040964.0\n",
       "2  1100658222   842035.0\n",
       "3  1100937408   754048.0\n",
       "4  1101037972   707176.0\n",
       "5  1100912634   772200.0\n",
       "6  1101228730   622208.0\n",
       "7  1100165896   406387.0\n",
       "8  1100768262  1982965.0\n",
       "9  1101218501  1041318.0"
      ]
     },
     "execution_count": 222,
     "metadata": {},
     "output_type": "execute_result"
    }
   ],
   "source": [
    "X_sub = data_temp.query('sample == 0').drop(['sample', 'price'], axis=1)\n",
    "\n",
    "predict_submission = model.predict(X_sub)\n",
    "\n",
    "predict_submission = np.round(np.exp(predict_submission))\n",
    "\n",
    "sample_submission['price'] = predict_submission\n",
    "sample_submission.to_csv(f'submission.csv', index=False)\n",
    "sample_submission.head(10)"
   ]
  }
 ],
 "metadata": {
  "kernelspec": {
   "display_name": "Python 3",
   "language": "python",
   "name": "python3"
  },
  "language_info": {
   "codemirror_mode": {
    "name": "ipython",
    "version": 3
   },
   "file_extension": ".py",
   "mimetype": "text/x-python",
   "name": "python",
   "nbconvert_exporter": "python",
   "pygments_lexer": "ipython3",
   "version": "3.8.3"
  }
 },
 "nbformat": 4,
 "nbformat_minor": 4
}
